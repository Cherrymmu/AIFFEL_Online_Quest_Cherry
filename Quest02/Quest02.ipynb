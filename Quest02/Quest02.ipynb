{
  "nbformat": 4,
  "nbformat_minor": 0,
  "metadata": {
    "colab": {
      "provenance": [],
      "include_colab_link": true
    },
    "kernelspec": {
      "name": "python3",
      "display_name": "Python 3"
    },
    "language_info": {
      "name": "python"
    }
  },
  "cells": [
    {
      "cell_type": "markdown",
      "metadata": {
        "id": "view-in-github",
        "colab_type": "text"
      },
      "source": [
        "<a href=\"https://colab.research.google.com/github/NeatyNut/AIFFEL_Online_Quest_Cherry/blob/main/Quest02/Quest02.ipynb\" target=\"_parent\"><img src=\"https://colab.research.google.com/assets/colab-badge.svg\" alt=\"Open In Colab\"/></a>"
      ]
    },
    {
      "cell_type": "code",
      "execution_count": 8,
      "metadata": {
        "id": "j3yAa21SrjtI"
      },
      "outputs": [],
      "source": [
        "#def show_fish_movement_comprehension(fish_list):\n",
        "#  num=[[x,y] for x in fish_list for y in fish_list]\n",
        "#    print(num)\n",
        "\n",
        "def show_fish_movement_Generator(fish_list):\n",
        "  for li in fish_list :\n",
        "    yield li[0] + \" is swimming at \" + str(li[1]) + \" m/s\"\n",
        "\n",
        "\n",
        "# fish_list=[list(input('입력값 : ').split()) for i in range(2)]\n",
        "# print(fish_list)\n",
        "# fish_dic = {\"이름\" : fish_list[0], \"speed\":fish_list[1]}\n",
        "# x = \"\"\n",
        "# y = \"\"\n",
        "\n",
        "# show_fish_movement_Generator(fish_list)\n",
        "#show_fish_movement_comprehension(fish_list)\n",
        "\n"
      ]
    },
    {
      "cell_type": "code",
      "source": [
        "def show_fish_movement_comprehension(fish_list):\n",
        "    for fish in fish_list:\n",
        "        print(f\"{fish['이름']}은 속도 {fish['속도']}로 수영합니다.\")\n",
        "\n",
        "fish_list = []\n",
        "fish_list = [{'이름': input('물고기 이름 입력: '), '속도': int(input('물고기 속도 입력: '))} for _ in range(2)]\n",
        "\n",
        "show_fish_movement_comprehension(fish_list)\n"
      ],
      "metadata": {
        "id": "LN61HHtq5Bzb",
        "colab": {
          "base_uri": "https://localhost:8080/"
        },
        "outputId": "2747c8dc-8277-4ff4-ca6a-f529dbf19602"
      },
      "execution_count": 2,
      "outputs": [
        {
          "output_type": "stream",
          "name": "stdout",
          "text": [
            "물고기 이름 입력: nemo\n",
            "물고기 속도 입력: 3\n",
            "물고기 이름 입력: namo\n",
            "물고기 속도 입력: 5\n",
            "nemo은 속도 3로 수영합니다.\n",
            "namo은 속도 5로 수영합니다.\n"
          ]
        }
      ]
    },
    {
      "cell_type": "code",
      "source": [
        "fish_list=[list(input('입력값 : ').split()) for i in range(2)]\n",
        "gen = show_fish_movement_Generator(fish_list)\n",
        "print(next(gen))\n",
        "print(next(gen))"
      ],
      "metadata": {
        "id": "AzlOmAGlsXow",
        "outputId": "1dd3269c-0af7-4ec2-df8e-e74058ea94ce",
        "colab": {
          "base_uri": "https://localhost:8080/"
        }
      },
      "execution_count": 10,
      "outputs": [
        {
          "output_type": "stream",
          "name": "stdout",
          "text": [
            "입력값 : nemo 3\n",
            "입력값 : namo 5\n",
            "nemo is swimming at 3 m/s\n",
            "namo is swimming at 5 m/s\n"
          ]
        }
      ]
    }
  ]
}