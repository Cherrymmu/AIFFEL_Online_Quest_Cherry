{
  "nbformat": 4,
  "nbformat_minor": 0,
  "metadata": {
    "colab": {
      "provenance": [],
      "mount_file_id": "1zeBz3KeMlTqUOoLdo5qRcoTS1Qwf1E0e",
      "authorship_tag": "ABX9TyMkvQUcsgoR+F0Ut5ktV0ki",
      "include_colab_link": true
    },
    "kernelspec": {
      "name": "python3",
      "display_name": "Python 3"
    },
    "language_info": {
      "name": "python"
    }
  },
  "cells": [
    {
      "cell_type": "markdown",
      "metadata": {
        "id": "view-in-github",
        "colab_type": "text"
      },
      "source": [
        "<a href=\"https://colab.research.google.com/github/Cherrymmu/AIFFEL_Online_Quest_Cherry/blob/main/%EB%A9%94%EC%9D%B8%ED%80%98%EC%8A%A4%ED%8A%B83/MainQuest03(rcp).ipynb\" target=\"_parent\"><img src=\"https://colab.research.google.com/assets/colab-badge.svg\" alt=\"Open In Colab\"/></a>"
      ]
    },
    {
      "cell_type": "markdown",
      "source": [
        "3-1. 미니 프로젝트 : 가위바위보 분류기를 만들자\n",
        "---\n",
        "오늘 배운 내용을 바탕으로 가위바위보 분류기를 만들도록 하겠습니다. 가장 먼저 해야 할 일은 뭘까요? 네, 첫 번째!!!! 데이터를 준비해야 합니다. 가위바위보 이미지를 모아 놓은 곳은 없으므로, 우리가 직접 사진을 찍어서 모아봅시다.\n",
        "\n",
        "라이브러리 버전을 확인해 봅니다\n",
        "사용할 라이브러리 버전을 둘러봅시다."
      ],
      "metadata": {
        "id": "PrFl578JrpYj"
      }
    },
    {
      "cell_type": "code",
      "execution_count": 37,
      "metadata": {
        "colab": {
          "base_uri": "https://localhost:8080/"
        },
        "id": "0YgknaFXmNVX",
        "outputId": "b37c79e5-a844-4846-9a02-c584aea2f04f"
      },
      "outputs": [
        {
          "output_type": "stream",
          "name": "stdout",
          "text": [
            "2.15.0\n",
            "1.23.5\n"
          ]
        }
      ],
      "source": [
        "import tensorflow as tf\n",
        "import numpy as np\n",
        "\n",
        "print(tf.__version__)\n",
        "print(np.__version__)"
      ]
    },
    {
      "cell_type": "markdown",
      "source": [
        "아이펠 클라우드에서는 시간이 많이 걸려서 코랩으로 돌림.\n",
        "\n",
        "그리고 구글 마운트해서 파일 가져옴."
      ],
      "metadata": {
        "id": "t7qoORK09kbO"
      }
    },
    {
      "cell_type": "code",
      "source": [
        "from google.colab import drive\n",
        "from PIL import Image\n",
        "import glob\n",
        "import os\n",
        "\n",
        "drive.mount('/content/drive')\n",
        "\n",
        "# 파일 경로 설정\n",
        "file_path = '/content/drive/MyDrive/rock_scissor_paper'\n",
        "\n",
        "# 경로 내의 모든 jpg 파일을 불러옴\n",
        "files = glob.glob(file_path + '/*.jpg')\n",
        "\n",
        "# 각 파일에 대해\n",
        "for file in files:\n",
        "    # 파일을 이미지로 열기\n",
        "    image = Image.open(file)\n",
        "\n",
        "print(\"PIL 라이브러리 import 완료!\")"
      ],
      "metadata": {
        "colab": {
          "base_uri": "https://localhost:8080/"
        },
        "id": "1xBaBdQXIlYJ",
        "outputId": "1086e68d-ce5d-43de-c295-e842c869b350"
      },
      "execution_count": 38,
      "outputs": [
        {
          "output_type": "stream",
          "name": "stdout",
          "text": [
            "Drive already mounted at /content/drive; to attempt to forcibly remount, call drive.mount(\"/content/drive\", force_remount=True).\n",
            "PIL 라이브러리 import 완료!\n"
          ]
        }
      ]
    },
    {
      "cell_type": "code",
      "source": [
        "def resize_images(img_path):\n",
        "    images=glob.glob(img_path + \"/*.jpg\")\n",
        "\n",
        "    print(len(images), \" images to be resized.\")\n",
        "\n",
        "    # 파일마다 모두 28x28 사이즈로 바꾸어 저장합니다.\n",
        "    target_size=(28,28)\n",
        "    for img in images:\n",
        "        old_img=Image.open(img)\n",
        "        new_img=old_img.resize(target_size,Image.ANTIALIAS)\n",
        "        new_img.save(img, \"JPEG\")\n",
        "\n",
        "    print(len(images), \" images resized.\")\n",
        "\n",
        "# 가위 이미지가 저장된 디렉토리 아래의 모든 jpg 파일을 읽어들여서\n",
        "image_dir_path = '/content/drive/MyDrive/rock_scissor_paper/scissor'\n",
        "resize_images(image_dir_path)\n",
        "\n",
        "print(\"가위 이미지 resize 완료!\")"
      ],
      "metadata": {
        "colab": {
          "base_uri": "https://localhost:8080/"
        },
        "id": "2lbL7nElIxym",
        "outputId": "a87297b3-75ce-4fd8-e07a-97761ad5da30"
      },
      "execution_count": 39,
      "outputs": [
        {
          "output_type": "stream",
          "name": "stdout",
          "text": [
            "963  images to be resized.\n"
          ]
        },
        {
          "output_type": "stream",
          "name": "stderr",
          "text": [
            "<ipython-input-39-e1fccb4adcd4>:10: DeprecationWarning: ANTIALIAS is deprecated and will be removed in Pillow 10 (2023-07-01). Use LANCZOS or Resampling.LANCZOS instead.\n",
            "  new_img=old_img.resize(target_size,Image.ANTIALIAS)\n"
          ]
        },
        {
          "output_type": "stream",
          "name": "stdout",
          "text": [
            "963  images resized.\n",
            "가위 이미지 resize 완료!\n"
          ]
        }
      ]
    },
    {
      "cell_type": "code",
      "source": [
        "# 바위 이미지 만들기\n",
        "def resize_images(img_path):\n",
        "    images=glob.glob(img_path + \"/*.jpg\")\n",
        "\n",
        "    print(len(images), \" images to be resized.\")\n",
        "\n",
        "    # 파일마다 모두 28x28 사이즈로 바꾸어 저장합니다.\n",
        "    target_size=(28,28)\n",
        "    for img in images:\n",
        "        old_img=Image.open(img)\n",
        "        new_img=old_img.resize(target_size,Image.ANTIALIAS)\n",
        "        new_img.save(img, \"JPEG\")\n",
        "\n",
        "    print(len(images), \" images resized.\")\n",
        "\n",
        "# 바위 이미지가 저장된 디렉토리 아래의 모든 jpg 파일을 읽어들여서\n",
        "image_dir_path = '/content/drive/MyDrive/rock_scissor_paper/rock'\n",
        "resize_images(image_dir_path)\n",
        "\n",
        "print(\"바위 이미지 resize 완료!\")"
      ],
      "metadata": {
        "colab": {
          "base_uri": "https://localhost:8080/"
        },
        "id": "svsMo3OBJhoY",
        "outputId": "7a581e76-6c21-4d06-ac65-f2eaeea63c7c"
      },
      "execution_count": 40,
      "outputs": [
        {
          "output_type": "stream",
          "name": "stdout",
          "text": [
            "1024  images to be resized.\n"
          ]
        },
        {
          "output_type": "stream",
          "name": "stderr",
          "text": [
            "<ipython-input-40-98b161210333>:11: DeprecationWarning: ANTIALIAS is deprecated and will be removed in Pillow 10 (2023-07-01). Use LANCZOS or Resampling.LANCZOS instead.\n",
            "  new_img=old_img.resize(target_size,Image.ANTIALIAS)\n"
          ]
        },
        {
          "output_type": "stream",
          "name": "stdout",
          "text": [
            "1024  images resized.\n",
            "바위 이미지 resize 완료!\n"
          ]
        }
      ]
    },
    {
      "cell_type": "code",
      "source": [
        "# 보 이미지가 저장된 디렉토리 아래의 모든 jpg 파일을 읽어들여서\n",
        "def resize_images(img_path):\n",
        "    images=glob.glob(img_path + \"/*.jpg\")\n",
        "\n",
        "    print(len(images), \" images to be resized.\")\n",
        "\n",
        "    # 파일마다 모두 28x28 사이즈로 바꾸어 저장합니다.\n",
        "    target_size=(28,28)\n",
        "    for img in images:\n",
        "        old_img=Image.open(img)\n",
        "        new_img=old_img.resize(target_size,Image.ANTIALIAS)\n",
        "        new_img.save(img, \"JPEG\")\n",
        "\n",
        "    print(len(images), \" images resized.\")\n",
        "\n",
        "# 파일마다 모두 28x28 사이즈로 바꾸어 저장합니다.\n",
        "# 보 이미지가 저장된 디렉토리 아래의 모든 jpg 파일을 읽어들여서\n",
        "image_dir_path = '/content/drive/MyDrive/rock_scissor_paper/paper'\n",
        "resize_images(image_dir_path)\n",
        "\n",
        "print(\"보 이미지 resize 완료!\")"
      ],
      "metadata": {
        "colab": {
          "base_uri": "https://localhost:8080/"
        },
        "id": "OFlWJzTZKbkt",
        "outputId": "c49cee0c-da5a-4075-a95d-ddd15c2a572d"
      },
      "execution_count": 41,
      "outputs": [
        {
          "output_type": "stream",
          "name": "stdout",
          "text": [
            "1140  images to be resized.\n"
          ]
        },
        {
          "output_type": "stream",
          "name": "stderr",
          "text": [
            "<ipython-input-41-af1086e57e4d>:11: DeprecationWarning: ANTIALIAS is deprecated and will be removed in Pillow 10 (2023-07-01). Use LANCZOS or Resampling.LANCZOS instead.\n",
            "  new_img=old_img.resize(target_size,Image.ANTIALIAS)\n"
          ]
        },
        {
          "output_type": "stream",
          "name": "stdout",
          "text": [
            "1140  images resized.\n",
            "보 이미지 resize 완료!\n"
          ]
        }
      ]
    },
    {
      "cell_type": "markdown",
      "source": [
        "(6) 숫자 손글씨 인식기는 mnist.load_data() 라는 함수로 데이터를 읽었던 것 기억하시죠? 여러분들이 아직 코딩에 익숙하지 않을 수 있으므로, 가위, 바위, 보 데이터를 읽을 수 있는 load_data() 함수를 만들어 드릴 거예요. 이 코드를 활용하면 임의의 사진 데이터(ex. 귤이 잘 익었나, 안 익었나? 웃는 얼굴인가, 우는 얼굴인가, 평범한 표정의 얼굴인가? 등)에 적용하실 수 있을 겁니다.\n",
        "\n",
        "load_data() 함수는 입력으로 이미지가 있는 폴더 위치를 받습니다.\n",
        "여기서는 rock_scissor_paper 폴더 위치를 적어주면 됩니다.\n",
        "\n",
        "숫자 손글씨는 0~9 까지의 클래스가 있었던 것 기억하시죠?\n",
        "\n",
        "가위바위보의 경우 3개의 클래스 즉, 가위: 0, 바위: 1, 보: 2 로 라벨링이 될 것입니다.\n",
        "---\n"
      ],
      "metadata": {
        "id": "un4LX8uYKnVY"
      }
    },
    {
      "cell_type": "code",
      "source": [
        "# 코랩 환경 진행이기 때문에 경로가 다르다.\n",
        "import numpy as np\n",
        "import glob\n",
        "\n",
        "def load_data(img_path, number_of_data={\"scissor\": 963, \"rock\": 1024, \"paper\": 1140}):  # 각 카테고리별 이미지 개수를 dictionary 형태로 입력\n",
        "    # 가위 : 0, 바위 : 1, 보 : 2\n",
        "    img_size=28\n",
        "    color=3\n",
        "    #이미지 데이터와 라벨(가위 : 0, 바위 : 1, 보 : 2) 데이터를 담을 행렬(matrix) 영역을 생성합니다.\n",
        "    imgs=np.zeros(sum(number_of_data.values())*img_size*img_size*color,dtype=np.int32).reshape(sum(number_of_data.values()),img_size,img_size,color)\n",
        "    labels=np.zeros(sum(number_of_data.values()),dtype=np.int32)\n",
        "\n",
        "    idx=0\n",
        "    # 카테고리로 정리했다.\n",
        "    for category in [\"scissor\", \"rock\", \"paper\"]:\n",
        "        for file in glob.glob(img_path+'/'+category+'/*.jpg')[:number_of_data[category]]:\n",
        "            img = np.array(Image.open(file),dtype=np.int32)\n",
        "            imgs[idx,:,:,:]=img    # 데이터 영역에 이미지 행렬을 복사\n",
        "            labels[idx]=[\"scissor\", \"rock\", \"paper\"].index(category)   # 가위 : 0, 바위 : 1, 보 : 2\n",
        "            idx=idx+1\n",
        "\n",
        "    print(\"학습데이터(x_train)의 이미지 개수는\", idx,\"입니다.\")\n",
        "    return imgs, labels\n",
        "\n",
        "image_dir_path = '/content/drive/MyDrive/rock_scissor_paper'\n",
        "(x_train, y_train)=load_data(image_dir_path)\n",
        "x_train_norm = x_train/255.0   # 입력은 0~1 사이의 값으로 정규화\n",
        "\n",
        "print(\"x_train shape: {}\".format(x_train.shape))\n",
        "print(\"y_train shape: {}\".format(y_train.shape))"
      ],
      "metadata": {
        "colab": {
          "base_uri": "https://localhost:8080/"
        },
        "id": "acmwE1RRKc0d",
        "outputId": "ba443534-0525-4d78-acc4-dc14fb72b2ee"
      },
      "execution_count": 42,
      "outputs": [
        {
          "output_type": "stream",
          "name": "stdout",
          "text": [
            "학습데이터(x_train)의 이미지 개수는 3127 입니다.\n",
            "x_train shape: (3127, 28, 28, 3)\n",
            "y_train shape: (3127,)\n"
          ]
        }
      ]
    },
    {
      "cell_type": "code",
      "source": [
        "# 노드에서 맷플롯립을 안불러서 불렀다!\n",
        "import matplotlib.pyplot as plt\n",
        "\n",
        "plt.imshow(x_train[2])\n",
        "print('라벨: ', y_train[2])"
      ],
      "metadata": {
        "colab": {
          "base_uri": "https://localhost:8080/",
          "height": 447
        },
        "id": "IVmPMyGUKc5g",
        "outputId": "1be11cbc-2ae3-479f-aee7-3a10bfc1ea7d"
      },
      "execution_count": 44,
      "outputs": [
        {
          "output_type": "stream",
          "name": "stdout",
          "text": [
            "라벨:  0\n"
          ]
        },
        {
          "output_type": "display_data",
          "data": {
            "text/plain": [
              "<Figure size 640x480 with 1 Axes>"
            ],
            "image/png": "[encoded data removed]"
          },
          "metadata": {}
        }
      ]
    },
    {
      "cell_type": "code",
      "source": [
        "import tensorflow as tf\n",
        "from tensorflow import keras\n",
        "\n",
        "# model을 직접 만들어 보세요.\n",
        "# Hint! model의 입력/출력부에 특히 유의해 주세요. 가위바위보 데이터셋은 MNIST 데이터셋과 어떤 점이 달라졌나요?\n",
        "\n",
        "# 파라미터 설정\n",
        "n_channel_1=20\n",
        "n_channel_2=40\n",
        "n_dense=30\n",
        "n_train_epoch=15\n",
        "\n",
        "# 모델 정의\n",
        "model=keras.models.Sequential()\n",
        "model.add(keras.layers.Conv2D(n_channel_1, (3,3), activation='relu', input_shape=(28,28,3)))\n",
        "model.add(keras.layers.MaxPool2D(2,2))\n",
        "model.add(keras.layers.Conv2D(n_channel_2, (3,3), activation='relu'))\n",
        "model.add(keras.layers.MaxPooling2D((2,2)))\n",
        "model.add(keras.layers.Flatten())\n",
        "model.add(keras.layers.Dense(n_dense, activation='relu'))\n",
        "model.add(keras.layers.Dense(3, activation='softmax'))\n",
        "\n",
        "# 모델 요약\n",
        "model.summary()"
      ],
      "metadata": {
        "colab": {
          "base_uri": "https://localhost:8080/"
        },
        "id": "sH3QvHcxKc9Y",
        "outputId": "4562c603-6dea-4c64-9a87-73fa26f9d757"
      },
      "execution_count": 45,
      "outputs": [
        {
          "output_type": "stream",
          "name": "stdout",
          "text": [
            "Model: \"sequential_4\"\n",
            "_________________________________________________________________\n",
            " Layer (type)                Output Shape              Param #   \n",
            "=================================================================\n",
            " conv2d_8 (Conv2D)           (None, 26, 26, 20)        560       \n",
            "                                                                 \n",
            " max_pooling2d_8 (MaxPoolin  (None, 13, 13, 20)        0         \n",
            " g2D)                                                            \n",
            "                                                                 \n",
            " conv2d_9 (Conv2D)           (None, 11, 11, 40)        7240      \n",
            "                                                                 \n",
            " max_pooling2d_9 (MaxPoolin  (None, 5, 5, 40)          0         \n",
            " g2D)                                                            \n",
            "                                                                 \n",
            " flatten_4 (Flatten)         (None, 1000)              0         \n",
            "                                                                 \n",
            " dense_8 (Dense)             (None, 30)                30030     \n",
            "                                                                 \n",
            " dense_9 (Dense)             (None, 3)                 93        \n",
            "                                                                 \n",
            "=================================================================\n",
            "Total params: 37923 (148.14 KB)\n",
            "Trainable params: 37923 (148.14 KB)\n",
            "Non-trainable params: 0 (0.00 Byte)\n",
            "_________________________________________________________________\n"
          ]
        }
      ]
    },
    {
      "cell_type": "code",
      "source": [
        "# model을 학습시키는 코드를 직접 작성해 보세요.\n",
        "# Hint! model.compile()과 model.fit()을 사용해 봅시다.\n",
        "# 모델 컴파일\n",
        "model.compile(optimizer='adam', # 아담으로 선택\n",
        "              loss='sparse_categorical_crossentropy',\n",
        "              metrics=['accuracy'])\n",
        "\n",
        "# 모델 훈련\n",
        "model.fit(x_train_norm, y_train, epochs=n_train_epoch)"
      ],
      "metadata": {
        "colab": {
          "base_uri": "https://localhost:8080/"
        },
        "id": "8COvWVEzKdBM",
        "outputId": "9aaf5174-14b4-47e0-d4f4-7b18662e61ec"
      },
      "execution_count": 46,
      "outputs": [
        {
          "output_type": "stream",
          "name": "stdout",
          "text": [
            "Epoch 1/15\n",
            "98/98 [==============================] - 5s 34ms/step - loss: 1.0052 - accuracy: 0.4854\n",
            "Epoch 2/15\n",
            "98/98 [==============================] - 3s 32ms/step - loss: 0.6516 - accuracy: 0.7333\n",
            "Epoch 3/15\n",
            "98/98 [==============================] - 2s 20ms/step - loss: 0.3930 - accuracy: 0.8551\n",
            "Epoch 4/15\n",
            "98/98 [==============================] - 2s 20ms/step - loss: 0.2559 - accuracy: 0.9060\n",
            "Epoch 5/15\n",
            "98/98 [==============================] - 2s 20ms/step - loss: 0.1812 - accuracy: 0.9360\n",
            "Epoch 6/15\n",
            "98/98 [==============================] - 2s 20ms/step - loss: 0.1293 - accuracy: 0.9555\n",
            "Epoch 7/15\n",
            "98/98 [==============================] - 2s 21ms/step - loss: 0.0998 - accuracy: 0.9680\n",
            "Epoch 8/15\n",
            "98/98 [==============================] - 3s 34ms/step - loss: 0.0762 - accuracy: 0.9779\n",
            "Epoch 9/15\n",
            "98/98 [==============================] - 3s 33ms/step - loss: 0.0581 - accuracy: 0.9850\n",
            "Epoch 10/15\n",
            "98/98 [==============================] - 2s 20ms/step - loss: 0.0553 - accuracy: 0.9862\n",
            "Epoch 11/15\n",
            "98/98 [==============================] - 2s 20ms/step - loss: 0.0392 - accuracy: 0.9910\n",
            "Epoch 12/15\n",
            "98/98 [==============================] - 2s 20ms/step - loss: 0.0266 - accuracy: 0.9955\n",
            "Epoch 13/15\n",
            "98/98 [==============================] - 2s 20ms/step - loss: 0.0225 - accuracy: 0.9962\n",
            "Epoch 14/15\n",
            "98/98 [==============================] - 2s 22ms/step - loss: 0.0143 - accuracy: 0.9981\n",
            "Epoch 15/15\n",
            "98/98 [==============================] - 3s 34ms/step - loss: 0.0098 - accuracy: 0.9994\n"
          ]
        },
        {
          "output_type": "execute_result",
          "data": {
            "text/plain": [
              "<keras.src.callbacks.History at 0x787eecb3a560>"
            ]
          },
          "metadata": {},
          "execution_count": 46
        }
      ]
    },
    {
      "cell_type": "code",
      "source": [
        "# 테스트 데이터 만들기\n",
        "\n",
        "# 파일 경로 설정\n",
        "file_path = '/content/drive/MyDrive/rock_scissor_paper/test'\n",
        "\n",
        "# 경로 내의 모든 jpg 파일을 불러옴\n",
        "files = glob.glob(file_path + '/*.jpg')\n",
        "\n",
        "# 각 파일에 대해\n",
        "for file in files:\n",
        "    # 파일을 이미지로 열기\n",
        "    image = Image.open(file)\n",
        "\n",
        "print(\"PIL 라이브러리 import 완료!\")\n",
        "\n",
        "# 가위 데이터\n",
        "def resize_images(img_path):\n",
        "    images=glob.glob(img_path + \"/*.jpg\")\n",
        "\n",
        "    print(len(images), \" images to be resized.\")\n",
        "\n",
        "    # 파일마다 모두 28x28 사이즈로 바꾸어 저장합니다.\n",
        "    target_size=(28,28)\n",
        "    for img in images:\n",
        "        old_img=Image.open(img)\n",
        "        new_img=old_img.resize(target_size,Image.ANTIALIAS)\n",
        "        new_img.save(img, \"JPEG\")\n",
        "\n",
        "    print(len(images), \" images resized.\")\n",
        "\n",
        "# 가위 이미지가 저장된 디렉토리 아래의 모든 jpg 파일을 읽어들여서\n",
        "image_dir_path = '/content/drive/MyDrive/rock_scissor_paper/test/scissor'\n",
        "resize_images(image_dir_path)\n",
        "\n",
        "print(\"가위 이미지 resize 완료!\")\n",
        "\n",
        "# 바위 데이터\n",
        "def resize_images(img_path):\n",
        "    images=glob.glob(img_path + \"/*.jpg\")\n",
        "\n",
        "    print(len(images), \" images to be resized.\")\n",
        "\n",
        "    # 파일마다 모두 28x28 사이즈로 바꾸어 저장합니다.\n",
        "    target_size=(28,28)\n",
        "    for img in images:\n",
        "        old_img=Image.open(img)\n",
        "        new_img=old_img.resize(target_size,Image.ANTIALIAS)\n",
        "        new_img.save(img, \"JPEG\")\n",
        "\n",
        "    print(len(images), \" images resized.\")\n",
        "\n",
        "# 바위 이미지가 저장된 디렉토리 아래의 모든 jpg 파일을 읽어들여서\n",
        "image_dir_path = '/content/drive/MyDrive/rock_scissor_paper/test/rock'\n",
        "resize_images(image_dir_path)\n",
        "\n",
        "print(\"바위 이미지 resize 완료!\")\n",
        "\n",
        "# 보 데이터\n",
        "def resize_images(img_path):\n",
        "    images=glob.glob(img_path + \"/*.jpg\")\n",
        "\n",
        "    print(len(images), \" images to be resized.\")\n",
        "\n",
        "    # 파일마다 모두 28x28 사이즈로 바꾸어 저장합니다.\n",
        "    target_size=(28,28)\n",
        "    for img in images:\n",
        "        old_img=Image.open(img)\n",
        "        new_img=old_img.resize(target_size,Image.ANTIALIAS)\n",
        "        new_img.save(img, \"JPEG\")\n",
        "\n",
        "    print(len(images), \" images resized.\")\n",
        "\n",
        "# 파일마다 모두 28x28 사이즈로 바꾸어 저장합니다.\n",
        "# 보 이미지가 저장된 디렉토리 아래의 모든 jpg 파일을 읽어들여서\n",
        "image_dir_path = '/content/drive/MyDrive/rock_scissor_paper/test/paper'\n",
        "resize_images(image_dir_path)\n",
        "\n",
        "print(\"보 이미지 resize 완료!\")"
      ],
      "metadata": {
        "colab": {
          "base_uri": "https://localhost:8080/"
        },
        "id": "TURGntAHKdFa",
        "outputId": "e75a6147-3419-4196-a331-1e927eb8a338"
      },
      "execution_count": 51,
      "outputs": [
        {
          "output_type": "stream",
          "name": "stdout",
          "text": [
            "PIL 라이브러리 import 완료!\n",
            "321  images to be resized.\n"
          ]
        },
        {
          "output_type": "stream",
          "name": "stderr",
          "text": [
            "<ipython-input-51-73183124196d>:26: DeprecationWarning: ANTIALIAS is deprecated and will be removed in Pillow 10 (2023-07-01). Use LANCZOS or Resampling.LANCZOS instead.\n",
            "  new_img=old_img.resize(target_size,Image.ANTIALIAS)\n"
          ]
        },
        {
          "output_type": "stream",
          "name": "stdout",
          "text": [
            "321  images resized.\n",
            "가위 이미지 resize 완료!\n",
            "322  images to be resized.\n"
          ]
        },
        {
          "output_type": "stream",
          "name": "stderr",
          "text": [
            "<ipython-input-51-73183124196d>:47: DeprecationWarning: ANTIALIAS is deprecated and will be removed in Pillow 10 (2023-07-01). Use LANCZOS or Resampling.LANCZOS instead.\n",
            "  new_img=old_img.resize(target_size,Image.ANTIALIAS)\n"
          ]
        },
        {
          "output_type": "stream",
          "name": "stdout",
          "text": [
            "322  images resized.\n",
            "바위 이미지 resize 완료!\n",
            "319  images to be resized.\n"
          ]
        },
        {
          "output_type": "stream",
          "name": "stderr",
          "text": [
            "<ipython-input-51-73183124196d>:68: DeprecationWarning: ANTIALIAS is deprecated and will be removed in Pillow 10 (2023-07-01). Use LANCZOS or Resampling.LANCZOS instead.\n",
            "  new_img=old_img.resize(target_size,Image.ANTIALIAS)\n"
          ]
        },
        {
          "output_type": "stream",
          "name": "stdout",
          "text": [
            "319  images resized.\n",
            "보 이미지 resize 완료!\n"
          ]
        }
      ]
    },
    {
      "cell_type": "code",
      "source": [
        "# 코랩 환경 진행이기 때문에 경로가 다르다.\n",
        "import numpy as np\n",
        "import glob\n",
        "\n",
        "def load_data(img_path, number_of_data={\"scissor\": 321, \"rock\": 322, \"paper\": 319}):  # 각 카테고리별 이미지 개수를 dictionary 형태로 입력\n",
        "    # 가위 : 0, 바위 : 1, 보 : 2\n",
        "    img_size=28\n",
        "    color=3\n",
        "    #이미지 데이터와 라벨(가위 : 0, 바위 : 1, 보 : 2) 데이터를 담을 행렬(matrix) 영역을 생성합니다.\n",
        "    imgs=np.zeros(sum(number_of_data.values())*img_size*img_size*color,dtype=np.int32).reshape(sum(number_of_data.values()),img_size,img_size,color)\n",
        "    labels=np.zeros(sum(number_of_data.values()),dtype=np.int32)\n",
        "\n",
        "    idx=0\n",
        "    # 카테고리로 정리했다.\n",
        "    for category in [\"scissor\", \"rock\", \"paper\"]:\n",
        "        for file in glob.glob(img_path+'/'+category+'/*.jpg')[:number_of_data[category]]:\n",
        "            img = np.array(Image.open(file),dtype=np.int32)\n",
        "            imgs[idx,:,:,:]=img    # 데이터 영역에 이미지 행렬을 복사\n",
        "            labels[idx]=[\"scissor\", \"rock\", \"paper\"].index(category)   # 가위 : 0, 바위 : 1, 보 : 2\n",
        "            idx=idx+1\n",
        "\n",
        "    print(\"테스트(x_train)의 이미지 개수는\", idx,\"입니다.\")\n",
        "    return imgs, labels\n",
        "\n",
        "image_dir_path = '/content/drive/MyDrive/rock_scissor_paper/test'\n",
        "(x_test, y_test)=load_data(image_dir_path)\n",
        "x_test_norm = x_test/255.0   # 입력은 0~1 사이의 값으로 정규화\n",
        "\n",
        "print(\"x_test shape: {}\".format(x_test.shape))\n",
        "print(\"y_test shape: {}\".format(y_test.shape))"
      ],
      "metadata": {
        "colab": {
          "base_uri": "https://localhost:8080/"
        },
        "id": "tdXoKTsSKdI9",
        "outputId": "7b843737-3e82-4c18-f3be-3b8330c09e95"
      },
      "execution_count": 52,
      "outputs": [
        {
          "output_type": "stream",
          "name": "stdout",
          "text": [
            "테스트(x_train)의 이미지 개수는 962 입니다.\n",
            "x_test shape: (962, 28, 28, 3)\n",
            "y_test shape: (962,)\n"
          ]
        }
      ]
    },
    {
      "cell_type": "code",
      "source": [
        "# model을 학습시키는 코드를 직접 작성해 보세요.\n",
        "# Hint! model.evaluate()을 사용해 봅시다.\n",
        "# 테스트 데이터 정규화\n",
        "x_test_norm = x_test/255.0\n",
        "\n",
        "# 테스트 데이터에 대한 예측 정확도 측정\n",
        "test_loss, test_accuracy = model.evaluate(x_test_norm, y_test, verbose=2)\n",
        "print(f\"test_loss: {test_loss} \")\n",
        "print(f\"test_accuracy: {test_accuracy}\")"
      ],
      "metadata": {
        "colab": {
          "base_uri": "https://localhost:8080/"
        },
        "id": "_JWtPUIbKdMr",
        "outputId": "b8f442d2-8714-4c01-c7a7-eb78380acfc2"
      },
      "execution_count": 53,
      "outputs": [
        {
          "output_type": "stream",
          "name": "stdout",
          "text": [
            "31/31 - 0s - loss: 2.4901 - accuracy: 0.5603 - 228ms/epoch - 7ms/step\n",
            "test_loss: 2.4901480674743652 \n",
            "test_accuracy: 0.560291051864624\n"
          ]
        }
      ]
    },
    {
      "cell_type": "markdown",
      "source": [
        "더 좋은 네트워크 만들어보기\n",
        "시험용 데이터x_test에 대한 인식률 test accuracy가 train accuracy보다 많이 낮게 나오지는 않았나요? 만약 그렇다면 그 이유는 무엇일까요? MNIST 손글씨 데이터 때처럼 test accuracy가 train accuracy에 근접하도록 개선 방법을 찾아 봅시다.\n",
        "\n",
        "노드를 마치며...\n",
        "여러분 미니 프로젝트는 잘 마치셨나요? 여러분은 이번 노드를 통해 다음의 내용을 배웠습니다.\n",
        "\n",
        "이미 잘 정제된 10개 클래스의 숫자 손글씨 데이터를 분류하는 classifier 만들기\n",
        "정제되지 않은 웹캠 사진으로부터 데이터 만들어보기\n",
        "흑백 사진이 아닌 컬러 사진을 학습하는 classifier 만들기\n",
        "분류하고자 하는 클래스의 개수를 마음대로 조절하기 (10개에서 3개로)"
      ],
      "metadata": {
        "id": "dWnqO3R7XSxA"
      }
    },
    {
      "cell_type": "markdown",
      "source": [
        "# 회고\n",
        "\n",
        "### 트레인 파라미터 설정\n",
        "\n",
        ": 트레인 파라미터 설정을 처음에 아래와 같이 주었다.\n",
        "\n",
        "n_channel_1=16\n",
        "n_channel_2=32\n",
        "n_dense=30\n",
        "n_train_epoch=12\n",
        "\n",
        "그랬는데 accuracy 가 92% 인가? 떠서 그래도 한번 돌려보자 라면서 돌렸다. 그랬눈데 테스트 어큐러씨 무슨일... ㅋㅋㅋㅋㅋㅋ\n",
        "test_accuracy: 0.36666667461395264 오... 이 모델은 심각하다 생각해서 공부를 더 시키기로 했다.\n",
        "\n",
        "---\n",
        "### 트레인 파라미터 설정\n",
        "n_channel_1=20\n",
        "n_channel_2=40\n",
        "n_dense=30\n",
        "n_train_epoch=15\n",
        "\n",
        "accuracy 가 96 으로 올랐다.\n",
        "음.. 좀 나아진듯\n",
        "그래서 일단 에폭을 더 늘리자 해서 늘렸는데 점수가 많이 좋아졌다.\n",
        "\n",
        "---\n",
        "\n",
        "### 트레인 파라미터 설정\n",
        "n_channel_1=20\n",
        "n_channel_2=40\n",
        "n_dense=30\n",
        "n_train_epoch=20\n",
        "\n",
        "accuracy가 99% 대로 들어섰다. 오버피팅은 아니길...ㅜ\n",
        "\n",
        "---\n",
        "\n",
        "test_loss: 11.594159126281738\n",
        "test_accuracy: 0.3333333432674408 더 떨어졌네... 이런.. 다음에 모델을 더 크게 만들어 보겠다고 다짐했다.\n",
        "아... 너무 아쉽--\n",
        "데이터 더 모을까 아직 시간이 있으니 더 모아보아야겠다.\n",
        "\n",
        "---\n",
        "\n",
        "### 결국... 테스트 데이터 더 다운 받아서 만들었다....\n",
        "\n",
        "### 트레인 파라미터 설정\n",
        "n_channel_1=20\n",
        "n_channel_2=40\n",
        "n_dense=30\n",
        "n_train_epoch=15\n",
        "에폭도 줄였다.\n",
        "\n",
        "학습데이터(x_train)의 이미지 개수는 3127 입니다.\n",
        "\n",
        "x_train shape: (3127, 28, 28, 3)\n",
        "\n",
        "y_train shape: (3127,)\n",
        "\n",
        "테스트(x_train)의 이미지 개수는 628 입니다.\n",
        "\n",
        "x_test shape: (628, 28, 28, 3)\n",
        "\n",
        "y_test shape: (628,)\n",
        "\n",
        "accuracy: 0.9994\n",
        "\n",
        "test_accuracy: 0.5955414175987244\n",
        "\n",
        "음.. 아마도 테스트 데이터가 약 200-300개정도 더 들어가야했는데, 퍼센트 조절을 못했던 것 같다.\n",
        "그래서 테스트 어큐러시가 저렇게 나온거 아닐까하는 안타까움이 들었다.ㅜㅜ 데이터가 좀 더 있었으면 좋았겠다 하는 아쉬움이 생긴다.\n",
        "\n",
        "---\n",
        "\n",
        "결국 내 데이터를 300개 더 찍어서 만들었다.\n",
        "ㅋㅋㅋㅋㅋㅋ하... 100장씩 찍어서 만들고 넣어서 테스트 데이터를 늘려서 돌려보았다.\n",
        "제발 어큐러시 올라라\n",
        "\n",
        "테스트(x_train)의 이미지 개수는 962 입니다.\n",
        "\n",
        "x_test shape: (962, 28, 28, 3)\n",
        "\n",
        "y_test shape: (962,)\n",
        "\n",
        "31/31 - 0s - loss: 2.4901 - accuracy: 0.5603 - 228ms/epoch - 7ms/step\n",
        "test_loss: 2.4901480674743652\n",
        "test_accuracy: 0.560291051864624\n",
        "\n",
        "에잇... 이런 너무 아쉽지만 여기에서 마무리 해야겠다."
      ],
      "metadata": {
        "id": "JeZgpfnJXt20"
      }
    }
  ]
}