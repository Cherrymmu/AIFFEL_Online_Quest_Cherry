{
  "nbformat": 4,
  "nbformat_minor": 0,
  "metadata": {
    "colab": {
      "provenance": [],
      "machine_shape": "hm",
      "gpuType": "T4"
    },
    "kernelspec": {
      "name": "python3",
      "display_name": "Python 3"
    },
    "language_info": {
      "name": "python"
    },
    "accelerator": "GPU"
  },
  "cells": [
    {
      "cell_type": "markdown",
      "source": [
        "# 4-1. 프로젝트: 뉴스기사 요약해보기\n",
        "---\n",
        "새로운 데이터셋에 대해서 추상적 요약과 추출적 요약을 모두 해보는 시간을 가져봐요.\n",
        "\n",
        "먼저 주요 라이브러리 버전을 확인해 보죠.\n",
        "\n",
        "\n",
        "Step 1. 데이터 수집하기\n",
        "데이터는 아래 링크에 있는 뉴스 기사 데이터(news_summary_more.csv)를 사용하세요.\n",
        "\n",
        "https://github.com/sunnysai12345/News_Summary\n",
        "아래의 코드로 데이터를 다운로드할 수 있어요."
      ],
      "metadata": {
        "id": "gK8h65OeoAxD"
      }
    },
    {
      "cell_type": "markdown",
      "source": [
        "이 데이터는 기사의 본문에 해당되는 text와 headlines 두 가지 열로 구성되어져 있습니다.\n",
        "\n",
        "추상적 요약을 하는 경우에는 text를 본문, headlines를 이미 요약된 데이터로 삼아서 모델을 학습할 수 있어요. 추출적 요약을 하는 경우에는 오직 text열만을 사용하세요.\n",
        "\n",
        "Step 2. 데이터 전처리하기 (추상적 요약)\n",
        "실습에서 사용된 전처리를 참고하여 각자 필요하다고 생각하는 전처리를 추가 사용하여 텍스트를 정규화 또는 정제해 보세요. 만약, 불용어 제거를 선택한다면 상대적으로 길이가 짧은 요약 데이터에 대해서도 불용어를 제거하는 것이 좋을지 고민해 보세요.\n",
        "\n",
        "Step 3. 어텐션 메커니즘 사용하기 (추상적 요약)\n",
        "일반적인 seq2seq보다는 어텐션 메커니즘을 사용한 seq2seq를 사용하는 것이 더 나은 성능을 얻을 수 있어요. 실습 내용을 참고하여 어텐션 메커니즘을 사용한 seq2seq를 설계해 보세요.\n",
        "\n",
        "Step 4. 실제 결과와 요약문 비교하기 (추상적 요약)\n",
        "원래의 요약문(headlines 열)과 학습을 통해 얻은 추상적 요약의 결과를 비교해 보세요.\n",
        "\n",
        "Step 5. Summa을 이용해서 추출적 요약해보기\n",
        "추상적 요약은 추출적 요약과는 달리 문장의 표현력을 다양하게 가져갈 수 있지만, 추출적 요약에 비해서 난이도가 높아요. 반대로 말하면 추출적 요약은 추상적 요약에 비해 난이도가 낮고 기존 문장에서 문장을 꺼내오는 것이므로 잘못된 요약이 나올 가능성이 낮아요.\n",
        "\n",
        "Summa의 summarize를 사용하여 추출적 요약을 해보세요.\n",
        "\n"
      ],
      "metadata": {
        "id": "i4CM33VhIhvI"
      }
    },
    {
      "cell_type": "code",
      "source": [
        "!pip install summa"
      ],
      "metadata": {
        "colab": {
          "base_uri": "https://localhost:8080/"
        },
        "id": "ffUu5cBVEe0U",
        "outputId": "295872e0-7609-4cf3-cf42-a3c7c1694745"
      },
      "execution_count": 197,
      "outputs": [
        {
          "output_type": "stream",
          "name": "stdout",
          "text": [
            "Requirement already satisfied: summa in /usr/local/lib/python3.10/dist-packages (1.2.0)\n",
            "Requirement already satisfied: scipy>=0.19 in /usr/local/lib/python3.10/dist-packages (from summa) (1.11.4)\n",
            "Requirement already satisfied: numpy<1.28.0,>=1.21.6 in /usr/local/lib/python3.10/dist-packages (from scipy>=0.19->summa) (1.23.5)\n"
          ]
        }
      ]
    },
    {
      "cell_type": "code",
      "source": [
        "from importlib.metadata import version\n",
        "import nltk\n",
        "import tensorflow as tf\n",
        "import summa\n",
        "import pandas as pd\n",
        "\n",
        "print(nltk.__version__)\n",
        "print(tensorflow.__version__)\n",
        "print(pandas.__version__)\n",
        "print(version('summa'))"
      ],
      "metadata": {
        "colab": {
          "base_uri": "https://localhost:8080/"
        },
        "id": "s45x9Xg8oGu6",
        "outputId": "2486face-ec4c-4c02-d05e-e5d4a965b891"
      },
      "execution_count": 198,
      "outputs": [
        {
          "output_type": "stream",
          "name": "stdout",
          "text": [
            "3.8.1\n",
            "2.15.0\n",
            "1.5.3\n",
            "1.2.0\n"
          ]
        }
      ]
    },
    {
      "cell_type": "code",
      "execution_count": 199,
      "metadata": {
        "id": "mjBJhpL0n6kB"
      },
      "outputs": [],
      "source": [
        "import urllib.request\n",
        "urllib.request.urlretrieve(\"https://raw.githubusercontent.com/sunnysai12345/News_Summary/master/news_summary_more.csv\", filename=\"news_summary_more.csv\")\n",
        "data = pd.read_csv('news_summary_more.csv', encoding='iso-8859-1')"
      ]
    },
    {
      "cell_type": "code",
      "source": [
        "data.sample(10)"
      ],
      "metadata": {
        "colab": {
          "base_uri": "https://localhost:8080/",
          "height": 363
        },
        "id": "IEIAvj00oYBH",
        "outputId": "45bd05ba-2f05-43ff-fa68-df464916ac16"
      },
      "execution_count": 200,
      "outputs": [
        {
          "output_type": "execute_result",
          "data": {
            "text/plain": [
              "                                               headlines  \\\n",
              "92246  Pakistani man claims to eat leaves, wood for 2...   \n",
              "82415  PM Modi to adopt wrestling village, his third ...   \n",
              "7650   Not trying to replace Alia, Sidharth, Varun: T...   \n",
              "62511  Facebook could help US retaliate against Russi...   \n",
              "47269  About 5 crore jobs to be created by next year:...   \n",
              "79276  Hulk Hogan locks himself out of his home in un...   \n",
              "77224  ISIS, climate change top world threat list: Su...   \n",
              "12958  Corporate India has to clean up: Sona Mohapatr...   \n",
              "90333  Shashi Tharoor's tweet on Portuguese-built chu...   \n",
              "88839  My 'Don't blush, baby' comment now used for ma...   \n",
              "\n",
              "                                                    text  \n",
              "92246  Mehmood Butt from Pakistan claims to have been...  \n",
              "82415  Uttar Pradesh Chief Minister Yogi Adityanath o...  \n",
              "7650   Talking about Alia Bhatt, Sidharth Malhotra an...  \n",
              "62511  Republican Senator Mitch McConnell has said th...  \n",
              "47269  Around five crore employment opportunities wil...  \n",
              "79276  Former WWE star Hulk Hogan got locked out of h...  \n",
              "77224  People across the world consider the terror gr...  \n",
              "12958  Singer Sona Mohapatra, while referring to #MeT...  \n",
              "90333  Congress leader Shashi Tharoor was criticised ...  \n",
              "88839  Speaking about his 'Don't blush, baby!' commen...  "
            ],
            "text/html": [
              "\n",
              "  <div id=\"df-ad707824-5f75-4007-87a2-ee8f082ec532\" class=\"colab-df-container\">\n",
              "    <div>\n",
              "<style scoped>\n",
              "    .dataframe tbody tr th:only-of-type {\n",
              "        vertical-align: middle;\n",
              "    }\n",
              "\n",
              "    .dataframe tbody tr th {\n",
              "        vertical-align: top;\n",
              "    }\n",
              "\n",
              "    .dataframe thead th {\n",
              "        text-align: right;\n",
              "    }\n",
              "</style>\n",
              "<table border=\"1\" class=\"dataframe\">\n",
              "  <thead>\n",
              "    <tr style=\"text-align: right;\">\n",
              "      <th></th>\n",
              "      <th>headlines</th>\n",
              "      <th>text</th>\n",
              "    </tr>\n",
              "  </thead>\n",
              "  <tbody>\n",
              "    <tr>\n",
              "      <th>92246</th>\n",
              "      <td>Pakistani man claims to eat leaves, wood for 2...</td>\n",
              "      <td>Mehmood Butt from Pakistan claims to have been...</td>\n",
              "    </tr>\n",
              "    <tr>\n",
              "      <th>82415</th>\n",
              "      <td>PM Modi to adopt wrestling village, his third ...</td>\n",
              "      <td>Uttar Pradesh Chief Minister Yogi Adityanath o...</td>\n",
              "    </tr>\n",
              "    <tr>\n",
              "      <th>7650</th>\n",
              "      <td>Not trying to replace Alia, Sidharth, Varun: T...</td>\n",
              "      <td>Talking about Alia Bhatt, Sidharth Malhotra an...</td>\n",
              "    </tr>\n",
              "    <tr>\n",
              "      <th>62511</th>\n",
              "      <td>Facebook could help US retaliate against Russi...</td>\n",
              "      <td>Republican Senator Mitch McConnell has said th...</td>\n",
              "    </tr>\n",
              "    <tr>\n",
              "      <th>47269</th>\n",
              "      <td>About 5 crore jobs to be created by next year:...</td>\n",
              "      <td>Around five crore employment opportunities wil...</td>\n",
              "    </tr>\n",
              "    <tr>\n",
              "      <th>79276</th>\n",
              "      <td>Hulk Hogan locks himself out of his home in un...</td>\n",
              "      <td>Former WWE star Hulk Hogan got locked out of h...</td>\n",
              "    </tr>\n",
              "    <tr>\n",
              "      <th>77224</th>\n",
              "      <td>ISIS, climate change top world threat list: Su...</td>\n",
              "      <td>People across the world consider the terror gr...</td>\n",
              "    </tr>\n",
              "    <tr>\n",
              "      <th>12958</th>\n",
              "      <td>Corporate India has to clean up: Sona Mohapatr...</td>\n",
              "      <td>Singer Sona Mohapatra, while referring to #MeT...</td>\n",
              "    </tr>\n",
              "    <tr>\n",
              "      <th>90333</th>\n",
              "      <td>Shashi Tharoor's tweet on Portuguese-built chu...</td>\n",
              "      <td>Congress leader Shashi Tharoor was criticised ...</td>\n",
              "    </tr>\n",
              "    <tr>\n",
              "      <th>88839</th>\n",
              "      <td>My 'Don't blush, baby' comment now used for ma...</td>\n",
              "      <td>Speaking about his 'Don't blush, baby!' commen...</td>\n",
              "    </tr>\n",
              "  </tbody>\n",
              "</table>\n",
              "</div>\n",
              "    <div class=\"colab-df-buttons\">\n",
              "\n",
              "  <div class=\"colab-df-container\">\n",
              "    <button class=\"colab-df-convert\" onclick=\"convertToInteractive('df-ad707824-5f75-4007-87a2-ee8f082ec532')\"\n",
              "            title=\"Convert this dataframe to an interactive table.\"\n",
              "            style=\"display:none;\">\n",
              "\n",
              "  <svg xmlns=\"http://www.w3.org/2000/svg\" height=\"24px\" viewBox=\"0 -960 960 960\">\n",
              "    <path d=\"M120-120v-720h720v720H120Zm60-500h600v-160H180v160Zm220 220h160v-160H400v160Zm0 220h160v-160H400v160ZM180-400h160v-160H180v160Zm440 0h160v-160H620v160ZM180-180h160v-160H180v160Zm440 0h160v-160H620v160Z\"/>\n",
              "  </svg>\n",
              "    </button>\n",
              "\n",
              "  <style>\n",
              "    .colab-df-container {\n",
              "      display:flex;\n",
              "      gap: 12px;\n",
              "    }\n",
              "\n",
              "    .colab-df-convert {\n",
              "      background-color: #E8F0FE;\n",
              "      border: none;\n",
              "      border-radius: 50%;\n",
              "      cursor: pointer;\n",
              "      display: none;\n",
              "      fill: #1967D2;\n",
              "      height: 32px;\n",
              "      padding: 0 0 0 0;\n",
              "      width: 32px;\n",
              "    }\n",
              "\n",
              "    .colab-df-convert:hover {\n",
              "      background-color: #E2EBFA;\n",
              "      box-shadow: 0px 1px 2px rgba(60, 64, 67, 0.3), 0px 1px 3px 1px rgba(60, 64, 67, 0.15);\n",
              "      fill: #174EA6;\n",
              "    }\n",
              "\n",
              "    .colab-df-buttons div {\n",
              "      margin-bottom: 4px;\n",
              "    }\n",
              "\n",
              "    [theme=dark] .colab-df-convert {\n",
              "      background-color: #3B4455;\n",
              "      fill: #D2E3FC;\n",
              "    }\n",
              "\n",
              "    [theme=dark] .colab-df-convert:hover {\n",
              "      background-color: #434B5C;\n",
              "      box-shadow: 0px 1px 3px 1px rgba(0, 0, 0, 0.15);\n",
              "      filter: drop-shadow(0px 1px 2px rgba(0, 0, 0, 0.3));\n",
              "      fill: #FFFFFF;\n",
              "    }\n",
              "  </style>\n",
              "\n",
              "    <script>\n",
              "      const buttonEl =\n",
              "        document.querySelector('#df-ad707824-5f75-4007-87a2-ee8f082ec532 button.colab-df-convert');\n",
              "      buttonEl.style.display =\n",
              "        google.colab.kernel.accessAllowed ? 'block' : 'none';\n",
              "\n",
              "      async function convertToInteractive(key) {\n",
              "        const element = document.querySelector('#df-ad707824-5f75-4007-87a2-ee8f082ec532');\n",
              "        const dataTable =\n",
              "          await google.colab.kernel.invokeFunction('convertToInteractive',\n",
              "                                                    [key], {});\n",
              "        if (!dataTable) return;\n",
              "\n",
              "        const docLinkHtml = 'Like what you see? Visit the ' +\n",
              "          '<a target=\"_blank\" href=https://colab.research.google.com/notebooks/data_table.ipynb>data table notebook</a>'\n",
              "          + ' to learn more about interactive tables.';\n",
              "        element.innerHTML = '';\n",
              "        dataTable['output_type'] = 'display_data';\n",
              "        await google.colab.output.renderOutput(dataTable, element);\n",
              "        const docLink = document.createElement('div');\n",
              "        docLink.innerHTML = docLinkHtml;\n",
              "        element.appendChild(docLink);\n",
              "      }\n",
              "    </script>\n",
              "  </div>\n",
              "\n",
              "\n",
              "<div id=\"df-f7f8f38c-8eba-4fe5-a26b-60c0a931bddf\">\n",
              "  <button class=\"colab-df-quickchart\" onclick=\"quickchart('df-f7f8f38c-8eba-4fe5-a26b-60c0a931bddf')\"\n",
              "            title=\"Suggest charts\"\n",
              "            style=\"display:none;\">\n",
              "\n",
              "<svg xmlns=\"http://www.w3.org/2000/svg\" height=\"24px\"viewBox=\"0 0 24 24\"\n",
              "     width=\"24px\">\n",
              "    <g>\n",
              "        <path d=\"M19 3H5c-1.1 0-2 .9-2 2v14c0 1.1.9 2 2 2h14c1.1 0 2-.9 2-2V5c0-1.1-.9-2-2-2zM9 17H7v-7h2v7zm4 0h-2V7h2v10zm4 0h-2v-4h2v4z\"/>\n",
              "    </g>\n",
              "</svg>\n",
              "  </button>\n",
              "\n",
              "<style>\n",
              "  .colab-df-quickchart {\n",
              "      --bg-color: #E8F0FE;\n",
              "      --fill-color: #1967D2;\n",
              "      --hover-bg-color: #E2EBFA;\n",
              "      --hover-fill-color: #174EA6;\n",
              "      --disabled-fill-color: #AAA;\n",
              "      --disabled-bg-color: #DDD;\n",
              "  }\n",
              "\n",
              "  [theme=dark] .colab-df-quickchart {\n",
              "      --bg-color: #3B4455;\n",
              "      --fill-color: #D2E3FC;\n",
              "      --hover-bg-color: #434B5C;\n",
              "      --hover-fill-color: #FFFFFF;\n",
              "      --disabled-bg-color: #3B4455;\n",
              "      --disabled-fill-color: #666;\n",
              "  }\n",
              "\n",
              "  .colab-df-quickchart {\n",
              "    background-color: var(--bg-color);\n",
              "    border: none;\n",
              "    border-radius: 50%;\n",
              "    cursor: pointer;\n",
              "    display: none;\n",
              "    fill: var(--fill-color);\n",
              "    height: 32px;\n",
              "    padding: 0;\n",
              "    width: 32px;\n",
              "  }\n",
              "\n",
              "  .colab-df-quickchart:hover {\n",
              "    background-color: var(--hover-bg-color);\n",
              "    box-shadow: 0 1px 2px rgba(60, 64, 67, 0.3), 0 1px 3px 1px rgba(60, 64, 67, 0.15);\n",
              "    fill: var(--button-hover-fill-color);\n",
              "  }\n",
              "\n",
              "  .colab-df-quickchart-complete:disabled,\n",
              "  .colab-df-quickchart-complete:disabled:hover {\n",
              "    background-color: var(--disabled-bg-color);\n",
              "    fill: var(--disabled-fill-color);\n",
              "    box-shadow: none;\n",
              "  }\n",
              "\n",
              "  .colab-df-spinner {\n",
              "    border: 2px solid var(--fill-color);\n",
              "    border-color: transparent;\n",
              "    border-bottom-color: var(--fill-color);\n",
              "    animation:\n",
              "      spin 1s steps(1) infinite;\n",
              "  }\n",
              "\n",
              "  @keyframes spin {\n",
              "    0% {\n",
              "      border-color: transparent;\n",
              "      border-bottom-color: var(--fill-color);\n",
              "      border-left-color: var(--fill-color);\n",
              "    }\n",
              "    20% {\n",
              "      border-color: transparent;\n",
              "      border-left-color: var(--fill-color);\n",
              "      border-top-color: var(--fill-color);\n",
              "    }\n",
              "    30% {\n",
              "      border-color: transparent;\n",
              "      border-left-color: var(--fill-color);\n",
              "      border-top-color: var(--fill-color);\n",
              "      border-right-color: var(--fill-color);\n",
              "    }\n",
              "    40% {\n",
              "      border-color: transparent;\n",
              "      border-right-color: var(--fill-color);\n",
              "      border-top-color: var(--fill-color);\n",
              "    }\n",
              "    60% {\n",
              "      border-color: transparent;\n",
              "      border-right-color: var(--fill-color);\n",
              "    }\n",
              "    80% {\n",
              "      border-color: transparent;\n",
              "      border-right-color: var(--fill-color);\n",
              "      border-bottom-color: var(--fill-color);\n",
              "    }\n",
              "    90% {\n",
              "      border-color: transparent;\n",
              "      border-bottom-color: var(--fill-color);\n",
              "    }\n",
              "  }\n",
              "</style>\n",
              "\n",
              "  <script>\n",
              "    async function quickchart(key) {\n",
              "      const quickchartButtonEl =\n",
              "        document.querySelector('#' + key + ' button');\n",
              "      quickchartButtonEl.disabled = true;  // To prevent multiple clicks.\n",
              "      quickchartButtonEl.classList.add('colab-df-spinner');\n",
              "      try {\n",
              "        const charts = await google.colab.kernel.invokeFunction(\n",
              "            'suggestCharts', [key], {});\n",
              "      } catch (error) {\n",
              "        console.error('Error during call to suggestCharts:', error);\n",
              "      }\n",
              "      quickchartButtonEl.classList.remove('colab-df-spinner');\n",
              "      quickchartButtonEl.classList.add('colab-df-quickchart-complete');\n",
              "    }\n",
              "    (() => {\n",
              "      let quickchartButtonEl =\n",
              "        document.querySelector('#df-f7f8f38c-8eba-4fe5-a26b-60c0a931bddf button');\n",
              "      quickchartButtonEl.style.display =\n",
              "        google.colab.kernel.accessAllowed ? 'block' : 'none';\n",
              "    })();\n",
              "  </script>\n",
              "</div>\n",
              "\n",
              "    </div>\n",
              "  </div>\n"
            ]
          },
          "metadata": {},
          "execution_count": 200
        }
      ]
    },
    {
      "cell_type": "markdown",
      "source": [
        "위 데이터프레임을 보면 headline 과 text 밖에 열이 없어서 노드에서 진행 되었던 것 처럼 필요가 있는 열만 가져올 필요가 없기 때문에 그대로 진행 하겠다.\n",
        "\n",
        "### 중복 샘플과 null 값이 있는지 확인하고 제거하겠다."
      ],
      "metadata": {
        "id": "j3PkgvCKFRqA"
      }
    },
    {
      "cell_type": "code",
      "source": [
        "print('headlines\t 열에서 중복을 배제한 유일한 샘플의 수 :', data['headlines'].nunique())\n",
        "print('text 열에서 중복을 배제한 유일한 샘플의 수 :', data['text'].nunique())"
      ],
      "metadata": {
        "colab": {
          "base_uri": "https://localhost:8080/"
        },
        "id": "ttES1ZmKFP6l",
        "outputId": "30e650dc-032f-4b89-fb97-716b7c93cce5"
      },
      "execution_count": 201,
      "outputs": [
        {
          "output_type": "stream",
          "name": "stdout",
          "text": [
            "headlines\t 열에서 중복을 배제한 유일한 샘플의 수 : 98280\n",
            "text 열에서 중복을 배제한 유일한 샘플의 수 : 98360\n"
          ]
        }
      ]
    },
    {
      "cell_type": "markdown",
      "source": [
        "데이터프레임의 drop_duplicates()를 사용해 중복 샘플 제거"
      ],
      "metadata": {
        "id": "GubnWF9_GGm6"
      }
    },
    {
      "cell_type": "code",
      "source": [
        "# inplace=True 를 설정하면 DataFrame 타입 값을 return 하지 않고 data 내부를 직접적으로 바꿔준다.\n",
        "data.drop_duplicates(subset = ['headlines'], inplace=True)\n",
        "print('전체 샘플수 :', (len(data)))"
      ],
      "metadata": {
        "colab": {
          "base_uri": "https://localhost:8080/"
        },
        "id": "18ZoeOsaGNjo",
        "outputId": "ab94668a-e2c9-44e6-bb00-5825428b8263"
      },
      "execution_count": 202,
      "outputs": [
        {
          "output_type": "stream",
          "name": "stdout",
          "text": [
            "전체 샘플수 : 98280\n"
          ]
        }
      ]
    },
    {
      "cell_type": "code",
      "source": [
        "# null 값 확인\n",
        "print(data.isnull().sum())"
      ],
      "metadata": {
        "colab": {
          "base_uri": "https://localhost:8080/"
        },
        "id": "UT41jg1nGsKa",
        "outputId": "b3afcf4e-d6a6-474a-a522-2952c7e33ad0"
      },
      "execution_count": 203,
      "outputs": [
        {
          "output_type": "stream",
          "name": "stdout",
          "text": [
            "headlines    0\n",
            "text         0\n",
            "dtype: int64\n"
          ]
        }
      ]
    },
    {
      "cell_type": "markdown",
      "source": [
        "더이상 없애줄 널값이 없기 때문에\n",
        "\n",
        "### 텍스트 정규화와 불용어 제거를 진행하겠다.\n",
        "\n",
        "사전(dictionary)을 구성해 텍스트 정규화를 진행하겠다.\n",
        "\n",
        "이 사전은 아래의 링크를 참고해서 만들겠다.\n",
        "\n",
        "https://stackoverflow.com/questions/19790188/expanding-english-language-contractions-in-python"
      ],
      "metadata": {
        "id": "VI-nhLKfG0uW"
      }
    },
    {
      "cell_type": "code",
      "source": [
        "contractions = {\"ain't\": \"is not\", \"aren't\": \"are not\",\"can't\": \"cannot\", \"'cause\": \"because\", \"could've\": \"could have\", \"couldn't\": \"could not\",\n",
        "                           \"didn't\": \"did not\",  \"doesn't\": \"does not\", \"don't\": \"do not\", \"hadn't\": \"had not\", \"hasn't\": \"has not\", \"haven't\": \"have not\",\n",
        "                           \"he'd\": \"he would\",\"he'll\": \"he will\", \"he's\": \"he is\", \"how'd\": \"how did\", \"how'd'y\": \"how do you\", \"how'll\": \"how will\", \"how's\": \"how is\",\n",
        "                           \"I'd\": \"I would\", \"I'd've\": \"I would have\", \"I'll\": \"I will\", \"I'll've\": \"I will have\",\"I'm\": \"I am\", \"I've\": \"I have\", \"i'd\": \"i would\",\n",
        "                           \"i'd've\": \"i would have\", \"i'll\": \"i will\",  \"i'll've\": \"i will have\",\"i'm\": \"i am\", \"i've\": \"i have\", \"isn't\": \"is not\", \"it'd\": \"it would\",\n",
        "                           \"it'd've\": \"it would have\", \"it'll\": \"it will\", \"it'll've\": \"it will have\",\"it's\": \"it is\", \"let's\": \"let us\", \"ma'am\": \"madam\",\n",
        "                           \"mayn't\": \"may not\", \"might've\": \"might have\",\"mightn't\": \"might not\",\"mightn't've\": \"might not have\", \"must've\": \"must have\",\n",
        "                           \"mustn't\": \"must not\", \"mustn't've\": \"must not have\", \"needn't\": \"need not\", \"needn't've\": \"need not have\",\"o'clock\": \"of the clock\",\n",
        "                           \"oughtn't\": \"ought not\", \"oughtn't've\": \"ought not have\", \"shan't\": \"shall not\", \"sha'n't\": \"shall not\", \"shan't've\": \"shall not have\",\n",
        "                           \"she'd\": \"she would\", \"she'd've\": \"she would have\", \"she'll\": \"she will\", \"she'll've\": \"she will have\", \"she's\": \"she is\",\n",
        "                           \"should've\": \"should have\", \"shouldn't\": \"should not\", \"shouldn't've\": \"should not have\", \"so've\": \"so have\",\"so's\": \"so as\",\n",
        "                           \"this's\": \"this is\",\"that'd\": \"that would\", \"that'd've\": \"that would have\", \"that's\": \"that is\", \"there'd\": \"there would\",\n",
        "                           \"there'd've\": \"there would have\", \"there's\": \"there is\", \"here's\": \"here is\",\"they'd\": \"they would\", \"they'd've\": \"they would have\",\n",
        "                           \"they'll\": \"they will\", \"they'll've\": \"they will have\", \"they're\": \"they are\", \"they've\": \"they have\", \"to've\": \"to have\",\n",
        "                           \"wasn't\": \"was not\", \"we'd\": \"we would\", \"we'd've\": \"we would have\", \"we'll\": \"we will\", \"we'll've\": \"we will have\", \"we're\": \"we are\",\n",
        "                           \"we've\": \"we have\", \"weren't\": \"were not\", \"what'll\": \"what will\", \"what'll've\": \"what will have\", \"what're\": \"what are\",\n",
        "                           \"what's\": \"what is\", \"what've\": \"what have\", \"when's\": \"when is\", \"when've\": \"when have\", \"where'd\": \"where did\", \"where's\": \"where is\",\n",
        "                           \"where've\": \"where have\", \"who'll\": \"who will\", \"who'll've\": \"who will have\", \"who's\": \"who is\", \"who've\": \"who have\",\n",
        "                           \"why's\": \"why is\", \"why've\": \"why have\", \"will've\": \"will have\", \"won't\": \"will not\", \"won't've\": \"will not have\",\n",
        "                           \"would've\": \"would have\", \"wouldn't\": \"would not\", \"wouldn't've\": \"would not have\", \"y'all\": \"you all\",\n",
        "                           \"y'all'd\": \"you all would\",\"y'all'd've\": \"you all would have\",\"y'all're\": \"you all are\",\"y'all've\": \"you all have\",\n",
        "                           \"you'd\": \"you would\", \"you'd've\": \"you would have\", \"you'll\": \"you will\", \"you'll've\": \"you will have\",\n",
        "                           \"you're\": \"you are\", \"you've\": \"you have\"}\n",
        "\n",
        "print(\"정규화 사전의 수: \", len(contractions))"
      ],
      "metadata": {
        "colab": {
          "base_uri": "https://localhost:8080/"
        },
        "id": "XUqn8g4JId9-",
        "outputId": "168781fc-3d73-4a52-9d02-71ee97d0c2e9"
      },
      "execution_count": 204,
      "outputs": [
        {
          "output_type": "stream",
          "name": "stdout",
          "text": [
            "정규화 사전의 수:  120\n"
          ]
        }
      ]
    },
    {
      "cell_type": "markdown",
      "source": [
        "### 정규화 준비는 끝냈고, 불용어를 제거해주겠다."
      ],
      "metadata": {
        "id": "CSSn80rhocWd"
      }
    },
    {
      "cell_type": "code",
      "source": [
        "from nltk.corpus import stopwords"
      ],
      "metadata": {
        "id": "DlLT_Zs_JduC"
      },
      "execution_count": 205,
      "outputs": []
    },
    {
      "cell_type": "code",
      "source": [
        "# nltk의 stopwords 데이터셋을 다운받아준다.\n",
        "import nltk\n",
        "nltk.download('stopwords')"
      ],
      "metadata": {
        "colab": {
          "base_uri": "https://localhost:8080/"
        },
        "id": "ZNRM2MPgJ7cF",
        "outputId": "56808515-68bf-4c0a-aef2-9cf03a8d9999"
      },
      "execution_count": 206,
      "outputs": [
        {
          "output_type": "stream",
          "name": "stderr",
          "text": [
            "[nltk_data] Downloading package stopwords to /root/nltk_data...\n",
            "[nltk_data]   Package stopwords is already up-to-date!\n"
          ]
        },
        {
          "output_type": "execute_result",
          "data": {
            "text/plain": [
              "True"
            ]
          },
          "metadata": {},
          "execution_count": 206
        }
      ]
    },
    {
      "cell_type": "code",
      "source": [
        "print('불용어 개수 :', len(stopwords.words('english') ))\n",
        "print(stopwords.words('english'))"
      ],
      "metadata": {
        "colab": {
          "base_uri": "https://localhost:8080/"
        },
        "id": "6e3Yoc4Codvm",
        "outputId": "58ccfd29-5611-4b31-93cf-29072e5ff45a"
      },
      "execution_count": 207,
      "outputs": [
        {
          "output_type": "stream",
          "name": "stdout",
          "text": [
            "불용어 개수 : 179\n",
            "['i', 'me', 'my', 'myself', 'we', 'our', 'ours', 'ourselves', 'you', \"you're\", \"you've\", \"you'll\", \"you'd\", 'your', 'yours', 'yourself', 'yourselves', 'he', 'him', 'his', 'himself', 'she', \"she's\", 'her', 'hers', 'herself', 'it', \"it's\", 'its', 'itself', 'they', 'them', 'their', 'theirs', 'themselves', 'what', 'which', 'who', 'whom', 'this', 'that', \"that'll\", 'these', 'those', 'am', 'is', 'are', 'was', 'were', 'be', 'been', 'being', 'have', 'has', 'had', 'having', 'do', 'does', 'did', 'doing', 'a', 'an', 'the', 'and', 'but', 'if', 'or', 'because', 'as', 'until', 'while', 'of', 'at', 'by', 'for', 'with', 'about', 'against', 'between', 'into', 'through', 'during', 'before', 'after', 'above', 'below', 'to', 'from', 'up', 'down', 'in', 'out', 'on', 'off', 'over', 'under', 'again', 'further', 'then', 'once', 'here', 'there', 'when', 'where', 'why', 'how', 'all', 'any', 'both', 'each', 'few', 'more', 'most', 'other', 'some', 'such', 'no', 'nor', 'not', 'only', 'own', 'same', 'so', 'than', 'too', 'very', 's', 't', 'can', 'will', 'just', 'don', \"don't\", 'should', \"should've\", 'now', 'd', 'll', 'm', 'o', 're', 've', 'y', 'ain', 'aren', \"aren't\", 'couldn', \"couldn't\", 'didn', \"didn't\", 'doesn', \"doesn't\", 'hadn', \"hadn't\", 'hasn', \"hasn't\", 'haven', \"haven't\", 'isn', \"isn't\", 'ma', 'mightn', \"mightn't\", 'mustn', \"mustn't\", 'needn', \"needn't\", 'shan', \"shan't\", 'shouldn', \"shouldn't\", 'wasn', \"wasn't\", 'weren', \"weren't\", 'won', \"won't\", 'wouldn', \"wouldn't\"]\n"
          ]
        }
      ]
    },
    {
      "cell_type": "markdown",
      "source": [
        "NLTK에서 미리 정의하여 제공하고 있는 불용어는 총 179개이다. 이걸 통해 이용해 불용어를 제거하고, 모든 영어 문자는 소문자로 만들겠다. 섞여있는 html 태그를 제거하고, 정규 표현식을 통해 각종 특수문자를 제거해서 정말 필요한 내용만 잘 학습할 수 있도록 처리하겠다.\n",
        "\n",
        "함수의 하단을 보면, NLTK를 이용해 불용어를 제거하는 파트가 있는데, 이는 Text 전처리 시에서만 호출하고 이미 상대적으로 문장 길이가 짧은 Summary 전처리할 때는 호출하지 않을 예정이에요. Abstractive한 문장 요약 결과문이 자연스러운 문장이 되려면 이 불용어들이 Summary에는 남아 있는 게 더 좋을 것 같습니다. 이 처리를 위해서 함수의 인자로 remove_stopwords를 추가하고, if문을 추가했어요."
      ],
      "metadata": {
        "id": "C3ebANOIKZEs"
      }
    },
    {
      "cell_type": "code",
      "source": [
        "from bs4 import BeautifulSoup\n",
        "import re"
      ],
      "metadata": {
        "id": "No7e2AGNQHuk"
      },
      "execution_count": 208,
      "outputs": []
    },
    {
      "cell_type": "code",
      "source": [
        "# 여기에서는 두 열다 불용어 제거를 진행하기 때문에 불용어 제거 함수를 만들어주겠다.\n",
        "def preprocess_sentence(sentence):\n",
        "    sentence = sentence.lower()  # 텍스트 소문자화\n",
        "    sentence = BeautifulSoup(sentence, \"lxml\").text  # HTML 태그 제거\n",
        "    sentence = re.sub(r'\\([^)]*\\)', '', sentence)  # 괄호로 닫힌 문자열 제거\n",
        "    sentence = re.sub('\"', '', sentence)  # 쌍따옴표 제거\n",
        "    sentence = re.sub(r\"'s\\b\", \"\", sentence)  # 소유격 제거\n",
        "    sentence = re.sub(\"[^a-zA-Z]\", \" \", sentence)  # 영어 외 문자 공백으로 변환\n",
        "    sentence = re.sub('[m]{2,}', 'mm', sentence)  # 'm'이 3개 이상이면 2개로 변경\n",
        "\n",
        "    # 불용어 제거\n",
        "    tokens = ' '.join(word for word in sentence.split() if not word in stopwords.words('english') if len(word) > 1)\n",
        "    return tokens"
      ],
      "metadata": {
        "id": "ZeduCu2UN_AU"
      },
      "execution_count": 209,
      "outputs": []
    },
    {
      "cell_type": "code",
      "source": [
        "temp_headlines = 'Sonu Kumari,\"02 Aug 2017,Wednesday\"'\n",
        "temp_text = 'The Brihanmumbai Electric Supply and Transport (BEST) is planning to shift its iconic museum from the Anik Bus Depot at Wadala to Byculla zoo.'\n",
        "\n",
        "print(\"headlines: \", preprocess_sentence(temp_headlines))\n",
        "print(\"text: \", preprocess_sentence(temp_text))"
      ],
      "metadata": {
        "colab": {
          "base_uri": "https://localhost:8080/"
        },
        "id": "f5_5knn5JcIg",
        "outputId": "70a2c3af-1625-4d8e-fbc7-ac4efefef3af"
      },
      "execution_count": 210,
      "outputs": [
        {
          "output_type": "stream",
          "name": "stdout",
          "text": [
            "headlines:  sonu kumari aug wednesday\n",
            "text:  brihanmumbai electric supply transport planning shift iconic museum anik bus depot wadala byculla zoo\n"
          ]
        }
      ]
    },
    {
      "cell_type": "markdown",
      "source": [
        "결과를 보면 기본적으로 모든 알파벳이 소문자로 변환되고, <br />과 같은 html 태그가 제거되었다. (or finish)와 같은 괄호로 묶였던 단어 시퀀스가 제거된 것도 확인할 수 있다."
      ],
      "metadata": {
        "id": "a3tRfqNHQW5r"
      }
    },
    {
      "cell_type": "code",
      "source": [
        "# 전체 Headlines 데이터에 대한 전처리\n",
        "clean_headlines = []\n",
        "\n",
        "for s in data['headlines']:\n",
        "    clean_headlines.append(preprocess_sentence(s))\n",
        "\n",
        "# 전처리 후 출력\n",
        "print(\"headlines 전처리 후 결과: \", clean_headlines[:5])"
      ],
      "metadata": {
        "colab": {
          "base_uri": "https://localhost:8080/"
        },
        "id": "UIGx3i3vP01Z",
        "outputId": "fc6e8b14-145e-4cd4-d4c0-0b3e1bf2bb76"
      },
      "execution_count": 211,
      "outputs": [
        {
          "output_type": "stream",
          "name": "stderr",
          "text": [
            "<ipython-input-209-aa675224639c>:4: MarkupResemblesLocatorWarning: The input looks more like a filename than markup. You may want to open this file and pass the filehandle into Beautiful Soup.\n",
            "  sentence = BeautifulSoup(sentence, \"lxml\").text  # HTML 태그 제거\n"
          ]
        },
        {
          "output_type": "stream",
          "name": "stdout",
          "text": [
            "headlines 전처리 후 결과:  ['upgrad learner switches career ml al salary hike', 'delhi techie wins free food swiggy one year cred', 'new zealand end rohit sharma led india match winning streak', 'aegon life iterm insurance plan helps customers save tax', 'known hirani yrs metoo claims true sonam']\n"
          ]
        }
      ]
    },
    {
      "cell_type": "code",
      "source": [
        "# 전체 Text 데이터에 대한 전처리\n",
        "clean_text = []\n",
        "\n",
        "for s in data['text']:\n",
        "    clean_text.append(preprocess_sentence(s))\n",
        "\n",
        "# 전처리 후 출력\n",
        "print(\"text 전처리 후 결과: \", clean_text[:5])"
      ],
      "metadata": {
        "colab": {
          "base_uri": "https://localhost:8080/"
        },
        "id": "nmosEUfrQfDa",
        "outputId": "73600720-45b4-461c-9224-96f682857183"
      },
      "execution_count": 212,
      "outputs": [
        {
          "output_type": "stream",
          "name": "stdout",
          "text": [
            "text 전처리 후 결과:  ['saurav kant alumnus upgrad iiit pg program machine learning artificial intelligence sr systems engineer infosys almost years work experience program upgrad degree career support helped transition data scientist tech mahindra salary hike upgrad online power learning powered lakh careers', 'kunal shah credit card bill payment platform cred gave users chance win free food swiggy one year pranav kaushik delhi techie bagged reward spending cred coins users get one cred coin per rupee bill paid used avail rewards brands like ixigo bookmyshow ubereats cult fit', 'new zealand defeated india wickets fourth odi hamilton thursday win first match five match odi series india lost international match rohit sharma captaincy consecutive victories dating back march match witnessed india getting seventh lowest total odi cricket history', 'aegon life iterm insurance plan customers enjoy tax benefits premiums paid save taxes plan provides life cover age years also customers options insure critical illnesses disability accidental death benefit rider life cover age years', 'speaking sexual harassment allegations rajkumar hirani sonam kapoor said known hirani many years true metoo movement get derailed metoo movement always believe woman case need reserve judgment added hirani accused assistant worked sanju']\n"
          ]
        }
      ]
    },
    {
      "cell_type": "markdown",
      "source": [
        "빈(empty) 샘플이 생겼는지 확인하고 비어있는 샘플은 null 값으로 채워준다."
      ],
      "metadata": {
        "id": "k91wSiXfUlwX"
      }
    },
    {
      "cell_type": "code",
      "source": [
        "import numpy as np"
      ],
      "metadata": {
        "id": "cY3CZkJZU3dz"
      },
      "execution_count": 213,
      "outputs": []
    },
    {
      "cell_type": "code",
      "source": [
        "data['headlines'] = clean_headlines\n",
        "data['text'] = clean_text\n",
        "\n",
        "# 빈 값을 Null 값으로 변환\n",
        "data.replace('', np.nan, inplace=True)\n",
        "print('=3')"
      ],
      "metadata": {
        "colab": {
          "base_uri": "https://localhost:8080/"
        },
        "id": "0t3dCLHVQfaF",
        "outputId": "a5c03d8b-ccb9-49ea-ffba-2e6df96da1fa"
      },
      "execution_count": 214,
      "outputs": [
        {
          "output_type": "stream",
          "name": "stdout",
          "text": [
            "=3\n"
          ]
        }
      ]
    },
    {
      "cell_type": "code",
      "source": [
        "# Null 값을 .isnull().sum() 이용해서 확인\n",
        "data.isnull().sum()"
      ],
      "metadata": {
        "colab": {
          "base_uri": "https://localhost:8080/"
        },
        "id": "VExYItChQff8",
        "outputId": "8d9f3c71-9a4a-44c7-9ab7-56a466201a97"
      },
      "execution_count": 215,
      "outputs": [
        {
          "output_type": "execute_result",
          "data": {
            "text/plain": [
              "headlines    0\n",
              "text         0\n",
              "dtype: int64"
            ]
          },
          "metadata": {},
          "execution_count": 215
        }
      ]
    },
    {
      "cell_type": "code",
      "source": [
        "print('전체 샘플 수 :', (len(data)))"
      ],
      "metadata": {
        "colab": {
          "base_uri": "https://localhost:8080/"
        },
        "id": "w_Pu-Ul5QfkO",
        "outputId": "7e09154f-72da-4a7e-ca88-953573dacf97"
      },
      "execution_count": 216,
      "outputs": [
        {
          "output_type": "stream",
          "name": "stdout",
          "text": [
            "전체 샘플 수 : 98280\n"
          ]
        }
      ]
    },
    {
      "cell_type": "markdown",
      "source": [
        "### 훈련데이터와 테스트데이터 나누기\n",
        "\n",
        "학습을 진행하기 위해서는 학습에 사용할 데이터의 크기를 결정하고, 문장의 시작과 끝을 표시한다.\n",
        "샘플 최대 길이를 정해주겠다.  "
      ],
      "metadata": {
        "id": "UI3sR-w1VL4k"
      }
    },
    {
      "cell_type": "code",
      "source": [
        "# 길이 분포 출력\n",
        "import matplotlib.pyplot as plt\n",
        "\n",
        "headlines_len = [len(s.split()) for s in data['headlines']]\n",
        "text_len = [len(s.split()) for s in data['text']]\n",
        "\n",
        "print('헤드라인의 최소 길이 : {}'.format(np.min(headlines_len)))\n",
        "print('헤드라인의 최대 길이 : {}'.format(np.max(headlines_len)))\n",
        "print('헤드라인의 평균 길이 : {}'.format(np.mean(headlines_len)))\n",
        "print('텍스트의 최소 길이 : {}'.format(np.min(text_len)))\n",
        "print('텍스트의 최대 길이 : {}'.format(np.max(text_len)))\n",
        "print('텍스트의 평균 길이 : {}'.format(np.mean(text_len)))\n",
        "\n",
        "plt.subplot(1,2,1)\n",
        "plt.boxplot(text_len)\n",
        "plt.title('headlines')\n",
        "plt.subplot(1,2,2)\n",
        "plt.boxplot(text_len)\n",
        "plt.title('text')\n",
        "plt.tight_layout()\n",
        "plt.show()\n",
        "\n",
        "plt.title('headlines')\n",
        "plt.hist(headlines_len, bins = 40)\n",
        "plt.xlabel('length of samples')\n",
        "plt.ylabel('number of samples')\n",
        "plt.show()\n",
        "\n",
        "plt.title('text')\n",
        "plt.hist(text_len, bins = 40)\n",
        "plt.xlabel('length of samples')\n",
        "plt.ylabel('number of samples')\n",
        "plt.show()"
      ],
      "metadata": {
        "colab": {
          "base_uri": "https://localhost:8080/",
          "height": 1000
        },
        "id": "2JTg08BSQfni",
        "outputId": "f88966f9-a37a-4a5b-9f26-73bf02dd8529"
      },
      "execution_count": 217,
      "outputs": [
        {
          "output_type": "stream",
          "name": "stdout",
          "text": [
            "헤드라인의 최소 길이 : 1\n",
            "헤드라인의 최대 길이 : 13\n",
            "헤드라인의 평균 길이 : 7.128601953601954\n",
            "텍스트의 최소 길이 : 1\n",
            "텍스트의 최대 길이 : 60\n",
            "텍스트의 평균 길이 : 35.0796805046805\n"
          ]
        },
        {
          "output_type": "display_data",
          "data": {
            "text/plain": [
              "<Figure size 640x480 with 2 Axes>"
            ],
            "image/png": "[encoded data removed]"
          },
          "metadata": {}
        },
        {
          "output_type": "display_data",
          "data": {
            "text/plain": [
              "<Figure size 640x480 with 1 Axes>"
            ],
            "image/png": "[encoded data removed]"
          },
          "metadata": {}
        },
        {
          "output_type": "display_data",
          "data": {
            "text/plain": [
              "<Figure size 640x480 with 1 Axes>"
            ],
            "image/png": "[encoded data removed]"
          },
          "metadata": {}
        }
      ]
    },
    {
      "cell_type": "code",
      "source": [
        "# 임의로 적절한 길이 지정\n",
        "headlines_max_len = 50\n",
        "text_max_len = 50\n",
        "print('=3')"
      ],
      "metadata": {
        "colab": {
          "base_uri": "https://localhost:8080/"
        },
        "id": "FyCOC902QfrP",
        "outputId": "0c3af276-2148-41d5-fec1-2edf8f6abdf1"
      },
      "execution_count": 218,
      "outputs": [
        {
          "output_type": "stream",
          "name": "stdout",
          "text": [
            "=3\n"
          ]
        }
      ]
    },
    {
      "cell_type": "code",
      "source": [
        "# 훈련 데이터와 샘플의 길이를 입력하면, 데이터의 몇 %가 해당하는지 계산하는 함수를 만들어서 판단\n",
        "def below_threshold_len(max_len, nested_list):\n",
        "    cnt = 0\n",
        "    for s in nested_list:\n",
        "        if(len(s.split()) <= max_len):\n",
        "            cnt = cnt + 1\n",
        "    print('전체 샘플 중 길이가 %s 이하인 샘플의 비율: %s' %(max_len, (cnt / len(nested_list))))\n",
        "print('=3')"
      ],
      "metadata": {
        "colab": {
          "base_uri": "https://localhost:8080/"
        },
        "id": "_AJTu66MQfuZ",
        "outputId": "09bf02bd-82d7-42b7-d2fb-1d1e4afdc4c9"
      },
      "execution_count": 219,
      "outputs": [
        {
          "output_type": "stream",
          "name": "stdout",
          "text": [
            "=3\n"
          ]
        }
      ]
    },
    {
      "cell_type": "code",
      "source": [
        "# headlines와 text에 적용해 우리가 결정한 임의의 길이가 몇%의 샘플까지 포함하는지 볼 수 있다.\n",
        "below_threshold_len(headlines_max_len, data['headlines'])\n",
        "below_threshold_len(text_max_len,  data['text'])"
      ],
      "metadata": {
        "colab": {
          "base_uri": "https://localhost:8080/"
        },
        "id": "hR7_Gba3Qfxu",
        "outputId": "ca324af2-22ca-4a84-a40b-42db1c39e75b"
      },
      "execution_count": 220,
      "outputs": [
        {
          "output_type": "stream",
          "name": "stdout",
          "text": [
            "전체 샘플 중 길이가 50 이하인 샘플의 비율: 1.0\n",
            "전체 샘플 중 길이가 50 이하인 샘플의 비율: 0.9998575498575498\n"
          ]
        }
      ]
    },
    {
      "cell_type": "code",
      "source": [
        "# 거의 대부분이 들어오게 잘 설정했지만, text_max_len 길이보다 큰 샘플을 제외하는 코드를 진행하겠다.(headline 은 100% 들어와있기 때문)\n",
        "data = data[data['text'].apply(lambda x: len(x.split()) <= text_max_len)]\n",
        "\n",
        "print('전체 샘플수 :', (len(data)))"
      ],
      "metadata": {
        "colab": {
          "base_uri": "https://localhost:8080/"
        },
        "id": "n68Zcw7wQf1O",
        "outputId": "329fc9e1-644e-4ca4-c6e5-f742dddd3d38"
      },
      "execution_count": 221,
      "outputs": [
        {
          "output_type": "stream",
          "name": "stdout",
          "text": [
            "전체 샘플수 : 98266\n"
          ]
        }
      ]
    },
    {
      "cell_type": "markdown",
      "source": [
        "### 시작 토큰과 종료 토큰 추가하기\n",
        "\n",
        "seq2seq 훈련을 위해서는 디코더의 입력과 레이블에 시작 토큰과 종료 토큰을 추가할 필요가 있기 때문에, 시작 토큰은 sostoken, 종료 토큰은 eostoken이라 임의로 명명하고 앞, 뒤로 추가하겠다.\n",
        "디코더의 입력에 해당하면서 시작 토큰이 맨 앞에 있는 문장의 이름을 decoder_input, 디코더의 출력 또는 레이블에 해당되면서 종료 토큰이 맨 뒤에 붙는 문장의 이름을 decoder_target이라고 하겠다."
      ],
      "metadata": {
        "id": "CbyMnDfwYWYH"
      }
    },
    {
      "cell_type": "code",
      "source": [
        "# 요약 데이터에는 시작 토큰과 종료 토큰을 추가\n",
        "data['decoder_input'] = data['headlines'].apply(lambda x : 'sostoken '+ x)\n",
        "data['decoder_target'] = data['headlines'].apply(lambda x : x + ' eostoken')\n",
        "data.head()"
      ],
      "metadata": {
        "colab": {
          "base_uri": "https://localhost:8080/",
          "height": 431
        },
        "id": "YSsEvdTZQf38",
        "outputId": "b6f198f8-3fdf-427d-aaa8-3b19a02954e1"
      },
      "execution_count": 222,
      "outputs": [
        {
          "output_type": "stream",
          "name": "stderr",
          "text": [
            "<ipython-input-222-4eb5523174b4>:2: SettingWithCopyWarning: \n",
            "A value is trying to be set on a copy of a slice from a DataFrame.\n",
            "Try using .loc[row_indexer,col_indexer] = value instead\n",
            "\n",
            "See the caveats in the documentation: https://pandas.pydata.org/pandas-docs/stable/user_guide/indexing.html#returning-a-view-versus-a-copy\n",
            "  data['decoder_input'] = data['headlines'].apply(lambda x : 'sostoken '+ x)\n",
            "<ipython-input-222-4eb5523174b4>:3: SettingWithCopyWarning: \n",
            "A value is trying to be set on a copy of a slice from a DataFrame.\n",
            "Try using .loc[row_indexer,col_indexer] = value instead\n",
            "\n",
            "See the caveats in the documentation: https://pandas.pydata.org/pandas-docs/stable/user_guide/indexing.html#returning-a-view-versus-a-copy\n",
            "  data['decoder_target'] = data['headlines'].apply(lambda x : x + ' eostoken')\n"
          ]
        },
        {
          "output_type": "execute_result",
          "data": {
            "text/plain": [
              "                                           headlines  \\\n",
              "0   upgrad learner switches career ml al salary hike   \n",
              "1   delhi techie wins free food swiggy one year cred   \n",
              "2  new zealand end rohit sharma led india match w...   \n",
              "3  aegon life iterm insurance plan helps customer...   \n",
              "4           known hirani yrs metoo claims true sonam   \n",
              "\n",
              "                                                text  \\\n",
              "0  saurav kant alumnus upgrad iiit pg program mac...   \n",
              "1  kunal shah credit card bill payment platform c...   \n",
              "2  new zealand defeated india wickets fourth odi ...   \n",
              "3  aegon life iterm insurance plan customers enjo...   \n",
              "4  speaking sexual harassment allegations rajkuma...   \n",
              "\n",
              "                                       decoder_input  \\\n",
              "0  sostoken upgrad learner switches career ml al ...   \n",
              "1  sostoken delhi techie wins free food swiggy on...   \n",
              "2  sostoken new zealand end rohit sharma led indi...   \n",
              "3  sostoken aegon life iterm insurance plan helps...   \n",
              "4  sostoken known hirani yrs metoo claims true sonam   \n",
              "\n",
              "                                      decoder_target  \n",
              "0  upgrad learner switches career ml al salary hi...  \n",
              "1  delhi techie wins free food swiggy one year cr...  \n",
              "2  new zealand end rohit sharma led india match w...  \n",
              "3  aegon life iterm insurance plan helps customer...  \n",
              "4  known hirani yrs metoo claims true sonam eostoken  "
            ],
            "text/html": [
              "\n",
              "  <div id=\"df-21a76fa0-cb9b-4f33-9ce0-24fb01d1d19d\" class=\"colab-df-container\">\n",
              "    <div>\n",
              "<style scoped>\n",
              "    .dataframe tbody tr th:only-of-type {\n",
              "        vertical-align: middle;\n",
              "    }\n",
              "\n",
              "    .dataframe tbody tr th {\n",
              "        vertical-align: top;\n",
              "    }\n",
              "\n",
              "    .dataframe thead th {\n",
              "        text-align: right;\n",
              "    }\n",
              "</style>\n",
              "<table border=\"1\" class=\"dataframe\">\n",
              "  <thead>\n",
              "    <tr style=\"text-align: right;\">\n",
              "      <th></th>\n",
              "      <th>headlines</th>\n",
              "      <th>text</th>\n",
              "      <th>decoder_input</th>\n",
              "      <th>decoder_target</th>\n",
              "    </tr>\n",
              "  </thead>\n",
              "  <tbody>\n",
              "    <tr>\n",
              "      <th>0</th>\n",
              "      <td>upgrad learner switches career ml al salary hike</td>\n",
              "      <td>saurav kant alumnus upgrad iiit pg program mac...</td>\n",
              "      <td>sostoken upgrad learner switches career ml al ...</td>\n",
              "      <td>upgrad learner switches career ml al salary hi...</td>\n",
              "    </tr>\n",
              "    <tr>\n",
              "      <th>1</th>\n",
              "      <td>delhi techie wins free food swiggy one year cred</td>\n",
              "      <td>kunal shah credit card bill payment platform c...</td>\n",
              "      <td>sostoken delhi techie wins free food swiggy on...</td>\n",
              "      <td>delhi techie wins free food swiggy one year cr...</td>\n",
              "    </tr>\n",
              "    <tr>\n",
              "      <th>2</th>\n",
              "      <td>new zealand end rohit sharma led india match w...</td>\n",
              "      <td>new zealand defeated india wickets fourth odi ...</td>\n",
              "      <td>sostoken new zealand end rohit sharma led indi...</td>\n",
              "      <td>new zealand end rohit sharma led india match w...</td>\n",
              "    </tr>\n",
              "    <tr>\n",
              "      <th>3</th>\n",
              "      <td>aegon life iterm insurance plan helps customer...</td>\n",
              "      <td>aegon life iterm insurance plan customers enjo...</td>\n",
              "      <td>sostoken aegon life iterm insurance plan helps...</td>\n",
              "      <td>aegon life iterm insurance plan helps customer...</td>\n",
              "    </tr>\n",
              "    <tr>\n",
              "      <th>4</th>\n",
              "      <td>known hirani yrs metoo claims true sonam</td>\n",
              "      <td>speaking sexual harassment allegations rajkuma...</td>\n",
              "      <td>sostoken known hirani yrs metoo claims true sonam</td>\n",
              "      <td>known hirani yrs metoo claims true sonam eostoken</td>\n",
              "    </tr>\n",
              "  </tbody>\n",
              "</table>\n",
              "</div>\n",
              "    <div class=\"colab-df-buttons\">\n",
              "\n",
              "  <div class=\"colab-df-container\">\n",
              "    <button class=\"colab-df-convert\" onclick=\"convertToInteractive('df-21a76fa0-cb9b-4f33-9ce0-24fb01d1d19d')\"\n",
              "            title=\"Convert this dataframe to an interactive table.\"\n",
              "            style=\"display:none;\">\n",
              "\n",
              "  <svg xmlns=\"http://www.w3.org/2000/svg\" height=\"24px\" viewBox=\"0 -960 960 960\">\n",
              "    <path d=\"M120-120v-720h720v720H120Zm60-500h600v-160H180v160Zm220 220h160v-160H400v160Zm0 220h160v-160H400v160ZM180-400h160v-160H180v160Zm440 0h160v-160H620v160ZM180-180h160v-160H180v160Zm440 0h160v-160H620v160Z\"/>\n",
              "  </svg>\n",
              "    </button>\n",
              "\n",
              "  <style>\n",
              "    .colab-df-container {\n",
              "      display:flex;\n",
              "      gap: 12px;\n",
              "    }\n",
              "\n",
              "    .colab-df-convert {\n",
              "      background-color: #E8F0FE;\n",
              "      border: none;\n",
              "      border-radius: 50%;\n",
              "      cursor: pointer;\n",
              "      display: none;\n",
              "      fill: #1967D2;\n",
              "      height: 32px;\n",
              "      padding: 0 0 0 0;\n",
              "      width: 32px;\n",
              "    }\n",
              "\n",
              "    .colab-df-convert:hover {\n",
              "      background-color: #E2EBFA;\n",
              "      box-shadow: 0px 1px 2px rgba(60, 64, 67, 0.3), 0px 1px 3px 1px rgba(60, 64, 67, 0.15);\n",
              "      fill: #174EA6;\n",
              "    }\n",
              "\n",
              "    .colab-df-buttons div {\n",
              "      margin-bottom: 4px;\n",
              "    }\n",
              "\n",
              "    [theme=dark] .colab-df-convert {\n",
              "      background-color: #3B4455;\n",
              "      fill: #D2E3FC;\n",
              "    }\n",
              "\n",
              "    [theme=dark] .colab-df-convert:hover {\n",
              "      background-color: #434B5C;\n",
              "      box-shadow: 0px 1px 3px 1px rgba(0, 0, 0, 0.15);\n",
              "      filter: drop-shadow(0px 1px 2px rgba(0, 0, 0, 0.3));\n",
              "      fill: #FFFFFF;\n",
              "    }\n",
              "  </style>\n",
              "\n",
              "    <script>\n",
              "      const buttonEl =\n",
              "        document.querySelector('#df-21a76fa0-cb9b-4f33-9ce0-24fb01d1d19d button.colab-df-convert');\n",
              "      buttonEl.style.display =\n",
              "        google.colab.kernel.accessAllowed ? 'block' : 'none';\n",
              "\n",
              "      async function convertToInteractive(key) {\n",
              "        const element = document.querySelector('#df-21a76fa0-cb9b-4f33-9ce0-24fb01d1d19d');\n",
              "        const dataTable =\n",
              "          await google.colab.kernel.invokeFunction('convertToInteractive',\n",
              "                                                    [key], {});\n",
              "        if (!dataTable) return;\n",
              "\n",
              "        const docLinkHtml = 'Like what you see? Visit the ' +\n",
              "          '<a target=\"_blank\" href=https://colab.research.google.com/notebooks/data_table.ipynb>data table notebook</a>'\n",
              "          + ' to learn more about interactive tables.';\n",
              "        element.innerHTML = '';\n",
              "        dataTable['output_type'] = 'display_data';\n",
              "        await google.colab.output.renderOutput(dataTable, element);\n",
              "        const docLink = document.createElement('div');\n",
              "        docLink.innerHTML = docLinkHtml;\n",
              "        element.appendChild(docLink);\n",
              "      }\n",
              "    </script>\n",
              "  </div>\n",
              "\n",
              "\n",
              "<div id=\"df-dc536af0-2a81-48d7-9927-a5e9a70d5fbb\">\n",
              "  <button class=\"colab-df-quickchart\" onclick=\"quickchart('df-dc536af0-2a81-48d7-9927-a5e9a70d5fbb')\"\n",
              "            title=\"Suggest charts\"\n",
              "            style=\"display:none;\">\n",
              "\n",
              "<svg xmlns=\"http://www.w3.org/2000/svg\" height=\"24px\"viewBox=\"0 0 24 24\"\n",
              "     width=\"24px\">\n",
              "    <g>\n",
              "        <path d=\"M19 3H5c-1.1 0-2 .9-2 2v14c0 1.1.9 2 2 2h14c1.1 0 2-.9 2-2V5c0-1.1-.9-2-2-2zM9 17H7v-7h2v7zm4 0h-2V7h2v10zm4 0h-2v-4h2v4z\"/>\n",
              "    </g>\n",
              "</svg>\n",
              "  </button>\n",
              "\n",
              "<style>\n",
              "  .colab-df-quickchart {\n",
              "      --bg-color: #E8F0FE;\n",
              "      --fill-color: #1967D2;\n",
              "      --hover-bg-color: #E2EBFA;\n",
              "      --hover-fill-color: #174EA6;\n",
              "      --disabled-fill-color: #AAA;\n",
              "      --disabled-bg-color: #DDD;\n",
              "  }\n",
              "\n",
              "  [theme=dark] .colab-df-quickchart {\n",
              "      --bg-color: #3B4455;\n",
              "      --fill-color: #D2E3FC;\n",
              "      --hover-bg-color: #434B5C;\n",
              "      --hover-fill-color: #FFFFFF;\n",
              "      --disabled-bg-color: #3B4455;\n",
              "      --disabled-fill-color: #666;\n",
              "  }\n",
              "\n",
              "  .colab-df-quickchart {\n",
              "    background-color: var(--bg-color);\n",
              "    border: none;\n",
              "    border-radius: 50%;\n",
              "    cursor: pointer;\n",
              "    display: none;\n",
              "    fill: var(--fill-color);\n",
              "    height: 32px;\n",
              "    padding: 0;\n",
              "    width: 32px;\n",
              "  }\n",
              "\n",
              "  .colab-df-quickchart:hover {\n",
              "    background-color: var(--hover-bg-color);\n",
              "    box-shadow: 0 1px 2px rgba(60, 64, 67, 0.3), 0 1px 3px 1px rgba(60, 64, 67, 0.15);\n",
              "    fill: var(--button-hover-fill-color);\n",
              "  }\n",
              "\n",
              "  .colab-df-quickchart-complete:disabled,\n",
              "  .colab-df-quickchart-complete:disabled:hover {\n",
              "    background-color: var(--disabled-bg-color);\n",
              "    fill: var(--disabled-fill-color);\n",
              "    box-shadow: none;\n",
              "  }\n",
              "\n",
              "  .colab-df-spinner {\n",
              "    border: 2px solid var(--fill-color);\n",
              "    border-color: transparent;\n",
              "    border-bottom-color: var(--fill-color);\n",
              "    animation:\n",
              "      spin 1s steps(1) infinite;\n",
              "  }\n",
              "\n",
              "  @keyframes spin {\n",
              "    0% {\n",
              "      border-color: transparent;\n",
              "      border-bottom-color: var(--fill-color);\n",
              "      border-left-color: var(--fill-color);\n",
              "    }\n",
              "    20% {\n",
              "      border-color: transparent;\n",
              "      border-left-color: var(--fill-color);\n",
              "      border-top-color: var(--fill-color);\n",
              "    }\n",
              "    30% {\n",
              "      border-color: transparent;\n",
              "      border-left-color: var(--fill-color);\n",
              "      border-top-color: var(--fill-color);\n",
              "      border-right-color: var(--fill-color);\n",
              "    }\n",
              "    40% {\n",
              "      border-color: transparent;\n",
              "      border-right-color: var(--fill-color);\n",
              "      border-top-color: var(--fill-color);\n",
              "    }\n",
              "    60% {\n",
              "      border-color: transparent;\n",
              "      border-right-color: var(--fill-color);\n",
              "    }\n",
              "    80% {\n",
              "      border-color: transparent;\n",
              "      border-right-color: var(--fill-color);\n",
              "      border-bottom-color: var(--fill-color);\n",
              "    }\n",
              "    90% {\n",
              "      border-color: transparent;\n",
              "      border-bottom-color: var(--fill-color);\n",
              "    }\n",
              "  }\n",
              "</style>\n",
              "\n",
              "  <script>\n",
              "    async function quickchart(key) {\n",
              "      const quickchartButtonEl =\n",
              "        document.querySelector('#' + key + ' button');\n",
              "      quickchartButtonEl.disabled = true;  // To prevent multiple clicks.\n",
              "      quickchartButtonEl.classList.add('colab-df-spinner');\n",
              "      try {\n",
              "        const charts = await google.colab.kernel.invokeFunction(\n",
              "            'suggestCharts', [key], {});\n",
              "      } catch (error) {\n",
              "        console.error('Error during call to suggestCharts:', error);\n",
              "      }\n",
              "      quickchartButtonEl.classList.remove('colab-df-spinner');\n",
              "      quickchartButtonEl.classList.add('colab-df-quickchart-complete');\n",
              "    }\n",
              "    (() => {\n",
              "      let quickchartButtonEl =\n",
              "        document.querySelector('#df-dc536af0-2a81-48d7-9927-a5e9a70d5fbb button');\n",
              "      quickchartButtonEl.style.display =\n",
              "        google.colab.kernel.accessAllowed ? 'block' : 'none';\n",
              "    })();\n",
              "  </script>\n",
              "</div>\n",
              "\n",
              "    </div>\n",
              "  </div>\n"
            ]
          },
          "metadata": {},
          "execution_count": 222
        }
      ]
    },
    {
      "cell_type": "code",
      "source": [
        "# 인코더의 입력, 디코더의 입력과 레이블을 각각 다시 Numpy 타입으로 저장\n",
        "encoder_input = np.array(data['text']) # 인코더의 입력\n",
        "decoder_input = np.array(data['decoder_input']) # 디코더의 입력\n",
        "decoder_target = np.array(data['decoder_target']) # 디코더의 레이블\n",
        "print('=3')"
      ],
      "metadata": {
        "colab": {
          "base_uri": "https://localhost:8080/"
        },
        "id": "MG_wXD15Qf7d",
        "outputId": "b5b7ba1d-a081-4d27-972a-28bed6963743"
      },
      "execution_count": 223,
      "outputs": [
        {
          "output_type": "stream",
          "name": "stdout",
          "text": [
            "=3\n"
          ]
        }
      ]
    },
    {
      "cell_type": "markdown",
      "source": [
        "훈련 데이터와 테스트 데이터를 분리\n"
      ],
      "metadata": {
        "id": "dnAN50sgZHjF"
      }
    },
    {
      "cell_type": "code",
      "source": [
        "indices = np.arange(encoder_input.shape[0])\n",
        "np.random.shuffle(indices) # 배열의 순서를 무작위로 섞어줌\n",
        "print(indices)"
      ],
      "metadata": {
        "colab": {
          "base_uri": "https://localhost:8080/"
        },
        "id": "VDLq13CJQf-l",
        "outputId": "2e02b460-88b0-497e-ff44-f9e9123ac8b0"
      },
      "execution_count": 224,
      "outputs": [
        {
          "output_type": "stream",
          "name": "stdout",
          "text": [
            "[24938 86486  6793 ... 55169 90698 51317]\n"
          ]
        }
      ]
    },
    {
      "cell_type": "code",
      "source": [
        "# sample Shuffel\n",
        "encoder_input = encoder_input[indices]\n",
        "decoder_input = decoder_input[indices]\n",
        "decoder_target = decoder_target[indices]\n",
        "print('=3')"
      ],
      "metadata": {
        "colab": {
          "base_uri": "https://localhost:8080/"
        },
        "id": "aa0MUdqmQgBi",
        "outputId": "ddbfb2eb-1ddb-4739-da04-03caa2ee5168"
      },
      "execution_count": 225,
      "outputs": [
        {
          "output_type": "stream",
          "name": "stdout",
          "text": [
            "=3\n"
          ]
        }
      ]
    },
    {
      "cell_type": "code",
      "source": [
        "# 8:2 비율로 분리\n",
        "n_of_val = int(len(encoder_input)*0.2)\n",
        "print('테스트 데이터의 수 :', n_of_val)"
      ],
      "metadata": {
        "colab": {
          "base_uri": "https://localhost:8080/"
        },
        "id": "67zrkjq8QgEd",
        "outputId": "9b8eb152-8fee-4abc-a12f-669bbae172fe"
      },
      "execution_count": 226,
      "outputs": [
        {
          "output_type": "stream",
          "name": "stdout",
          "text": [
            "테스트 데이터의 수 : 19653\n"
          ]
        }
      ]
    },
    {
      "cell_type": "code",
      "source": [
        "# 테스트 데이터의 개수를 이용해 전체 데이터를 양분\n",
        "encoder_input_train = encoder_input[:-n_of_val]\n",
        "decoder_input_train = decoder_input[:-n_of_val]\n",
        "decoder_target_train = decoder_target[:-n_of_val]\n",
        "\n",
        "encoder_input_test = encoder_input[-n_of_val:]\n",
        "decoder_input_test = decoder_input[-n_of_val:]\n",
        "decoder_target_test = decoder_target[-n_of_val:]\n",
        "\n",
        "print('훈련 데이터의 개수 :', len(encoder_input_train))\n",
        "print('훈련 레이블의 개수 :', len(decoder_input_train))\n",
        "print('테스트 데이터의 개수 :', len(encoder_input_test))\n",
        "print('테스트 레이블의 개수 :', len(decoder_input_test))"
      ],
      "metadata": {
        "colab": {
          "base_uri": "https://localhost:8080/"
        },
        "id": "C-lwvK8FQgHx",
        "outputId": "f2515c22-6e3a-41f5-9a9c-4e232da101ac"
      },
      "execution_count": 227,
      "outputs": [
        {
          "output_type": "stream",
          "name": "stdout",
          "text": [
            "훈련 데이터의 개수 : 78613\n",
            "훈련 레이블의 개수 : 78613\n",
            "테스트 데이터의 개수 : 19653\n",
            "테스트 레이블의 개수 : 19653\n"
          ]
        }
      ]
    },
    {
      "cell_type": "markdown",
      "source": [
        "### 정수 인코딩\n",
        "\n",
        "단어 집합(vocabulary) 만들기 및 정수 인코딩"
      ],
      "metadata": {
        "id": "2IUzNin-aJuT"
      }
    },
    {
      "cell_type": "code",
      "source": [
        "from keras.preprocessing.text import Tokenizer"
      ],
      "metadata": {
        "id": "8tKxv1OnanPh"
      },
      "execution_count": 228,
      "outputs": []
    },
    {
      "cell_type": "code",
      "source": [
        "src_tokenizer = Tokenizer() # 토크나이저 정의\n",
        "src_tokenizer.fit_on_texts(encoder_input_train) # 입력된 데이터로부터 단어 집합 생성\n",
        "print('=3')"
      ],
      "metadata": {
        "colab": {
          "base_uri": "https://localhost:8080/"
        },
        "id": "_QwZTKzOaJi4",
        "outputId": "5a009423-19b2-493d-9f62-654f9e493da3"
      },
      "execution_count": 229,
      "outputs": [
        {
          "output_type": "stream",
          "name": "stdout",
          "text": [
            "=3\n"
          ]
        }
      ]
    },
    {
      "cell_type": "markdown",
      "source": [
        "단어 집합이 생성되는 동시에 각 단어에 고유한 정수가 부여되었다.\n",
        "또, 단어 집합은 src_tokenizer.word_index에 저장되어있다.\n",
        "\n",
        "단어 전부를 활용하는 것이 아니라 빈도수가 낮은 단어들은 훈련 데이터에서 제외시키겠다.\n",
        "\n",
        "등장 빈도수가 7회 미만인 단어들이 이 데이터에서 얼만큼의 비중을 차지하는지 확인하겠다.\n",
        "\n",
        "src_tokenizer.word_counts.items()에는 단어와 각 단어의 등장 빈도수가 저장되어있다. 이를 통해 통계를 내겠다."
      ],
      "metadata": {
        "id": "mj9pilKOayNt"
      }
    },
    {
      "cell_type": "code",
      "source": [
        "threshold = 7\n",
        "total_cnt = len(src_tokenizer.word_index) # 단어의 수\n",
        "rare_cnt = 0 # 등장 빈도수가 threshold보다 작은 단어의 개수를 카운트\n",
        "total_freq = 0 # 훈련 데이터의 전체 단어 빈도수 총 합\n",
        "rare_freq = 0 # 등장 빈도수가 threshold보다 작은 단어의 등장 빈도수의 총 합\n",
        "\n",
        "# 단어와 빈도수의 쌍(pair)을 key와 value로 받는다.\n",
        "for key, value in src_tokenizer.word_counts.items():\n",
        "    total_freq = total_freq + value\n",
        "\n",
        "    # 단어의 등장 빈도수가 threshold보다 작으면\n",
        "    if(value < threshold):\n",
        "        rare_cnt = rare_cnt + 1\n",
        "        rare_freq = rare_freq + value\n",
        "\n",
        "print('단어 집합(vocabulary)의 크기 :', total_cnt)\n",
        "print('등장 빈도가 %s번 이하인 희귀 단어의 수: %s'%(threshold - 1, rare_cnt))\n",
        "print('단어 집합에서 희귀 단어를 제외시킬 경우의 단어 집합의 크기 %s'%(total_cnt - rare_cnt))\n",
        "print(\"단어 집합에서 희귀 단어의 비율:\", (rare_cnt / total_cnt)*100)\n",
        "print(\"전체 등장 빈도에서 희귀 단어 등장 빈도 비율:\", (rare_freq / total_freq)*100)"
      ],
      "metadata": {
        "colab": {
          "base_uri": "https://localhost:8080/"
        },
        "id": "1NHtX13naJg3",
        "outputId": "03d96f92-00b0-4535-dcfb-eca97600f565"
      },
      "execution_count": 230,
      "outputs": [
        {
          "output_type": "stream",
          "name": "stdout",
          "text": [
            "단어 집합(vocabulary)의 크기 : 69563\n",
            "등장 빈도가 6번 이하인 희귀 단어의 수: 47371\n",
            "단어 집합에서 희귀 단어를 제외시킬 경우의 단어 집합의 크기 22192\n",
            "단어 집합에서 희귀 단어의 비율: 68.09798312321205\n",
            "전체 등장 빈도에서 희귀 단어 등장 빈도 비율: 3.4793568193544484\n"
          ]
        }
      ]
    },
    {
      "cell_type": "markdown",
      "source": [
        "encoder_input_train에는 69582개의 단어가 존재한다.\n",
        "\n",
        "등장 빈도가 threshold 값인 7회 미만, 즉 6회 이하인 단어들은 단어 집합에서 약 70%를 차지한다.\n",
        "하지만 실제로 훈련 데이터에서 등장하는 빈도는 3.49% 이다.\n",
        "\n",
        "그래서 등장 빈도가 6회 이하인 단어들은 정수 인코딩 과정에서 빼겠다. 훈련데이터에서 제외하고,\n",
        "위에서 이를 제외한 단어 집합의 크기를 22111개로 계산했는데, 이와 비슷한 값으로 어림잡아 단어 집합의 크기를 22000개로 으로 제한해볼게요. 토크나이저를 정의할 때 num_words의 값을 지정해 제한하겠다."
      ],
      "metadata": {
        "id": "mxKyMpy1bkP5"
      }
    },
    {
      "cell_type": "code",
      "source": [
        "src_vocab = 22000\n",
        "src_tokenizer = Tokenizer(num_words=src_vocab) # 단어 집합의 크기를 22,000으로 제한\n",
        "src_tokenizer.fit_on_texts(encoder_input_train) # 단어 집합 재생성\n",
        "print('=3')"
      ],
      "metadata": {
        "colab": {
          "base_uri": "https://localhost:8080/"
        },
        "id": "1LWOhoixaJeV",
        "outputId": "e19b31c4-0338-41e8-9a2f-1a978d0cf594"
      },
      "execution_count": 231,
      "outputs": [
        {
          "output_type": "stream",
          "name": "stdout",
          "text": [
            "=3\n"
          ]
        }
      ]
    },
    {
      "cell_type": "markdown",
      "source": [
        "texts_to_sequences()는 생성된 단어 집합에 기반하여 입력으로 주어진 텍스트 데이터의 단어들을 모두 정수로 변환하는 정수 인코딩을 수행한다. 현재 단어 집합의 크기를 22,000으로 제한했으니까 이제 22,000이 넘는 숫자들은 정수 인코딩 후에는 데이터 정제후 사라졌다."
      ],
      "metadata": {
        "id": "iAhxLJlQc-vx"
      }
    },
    {
      "cell_type": "code",
      "source": [
        "# 텍스트 시퀀스를 정수 시퀀스로 변환\n",
        "encoder_input_train = src_tokenizer.texts_to_sequences(encoder_input_train)\n",
        "encoder_input_test = src_tokenizer.texts_to_sequences(encoder_input_test)\n",
        "\n",
        "# 잘 진행되었는지 샘플 출력\n",
        "print(encoder_input_train[:3])"
      ],
      "metadata": {
        "colab": {
          "base_uri": "https://localhost:8080/"
        },
        "id": "i4F7BJUZaJcM",
        "outputId": "44204b2e-8932-4966-852a-dfc006bdbaed"
      },
      "execution_count": 232,
      "outputs": [
        {
          "output_type": "stream",
          "name": "stdout",
          "text": [
            "[[353, 362, 14, 5658, 7263, 86, 241, 5, 2844, 2816, 5157, 63, 87, 5, 4507, 353, 2931, 1332, 8270, 645, 169, 5010, 998, 2903, 452, 353, 8, 2931, 2399, 1868, 259, 870, 17463, 463, 1187], [1227, 80, 5051, 13778, 371, 10, 1533, 130, 5877, 4470, 789, 1274, 5051, 13778, 138, 19433, 4, 4796, 1533, 1006, 789, 3639, 786, 3068, 3152, 138, 5943, 50, 3462, 13779, 6, 371, 30, 1970, 3442, 130, 164, 1228], [198, 1545, 340, 34, 5822, 275, 4797, 471, 3802, 274, 471, 2904, 628, 198, 23, 748, 2486, 101, 416, 51, 471, 1248, 4797, 9306, 11, 1077, 6988, 151, 2303, 2487, 336, 5997, 1779, 2603, 103, 20695, 1192, 13780]]\n"
          ]
        }
      ]
    },
    {
      "cell_type": "markdown",
      "source": [
        "텍스트 데이터 대신 정수가 나오고 있다."
      ],
      "metadata": {
        "id": "4e9Xrs2zeT9E"
      }
    },
    {
      "cell_type": "code",
      "source": [
        "tar_tokenizer = Tokenizer()\n",
        "tar_tokenizer.fit_on_texts(decoder_input_train)\n",
        "print('=3')"
      ],
      "metadata": {
        "colab": {
          "base_uri": "https://localhost:8080/"
        },
        "id": "Aw5_BWe9aJZu",
        "outputId": "b4b1863d-72c9-4675-f837-a3ad951063c8"
      },
      "execution_count": 233,
      "outputs": [
        {
          "output_type": "stream",
          "name": "stdout",
          "text": [
            "=3\n"
          ]
        }
      ]
    },
    {
      "cell_type": "code",
      "source": [
        "threshold = 6\n",
        "total_cnt = len(tar_tokenizer.word_index) # 단어의 수\n",
        "rare_cnt = 0 # 등장 빈도수가 threshold보다 작은 단어의 개수를 카운트\n",
        "total_freq = 0 # 훈련 데이터의 전체 단어 빈도수 총 합\n",
        "rare_freq = 0 # 등장 빈도수가 threshold보다 작은 단어의 등장 빈도수의 총 합\n",
        "\n",
        "# 단어와 빈도수의 쌍(pair)을 key와 value로 받는다.\n",
        "for key, value in tar_tokenizer.word_counts.items():\n",
        "    total_freq = total_freq + value\n",
        "\n",
        "    # 단어의 등장 빈도수가 threshold보다 작으면\n",
        "    if(value < threshold):\n",
        "        rare_cnt = rare_cnt + 1\n",
        "        rare_freq = rare_freq + value\n",
        "\n",
        "print('단어 집합(vocabulary)의 크기 :', total_cnt)\n",
        "print('등장 빈도가 %s번 이하인 희귀 단어의 수: %s'%(threshold - 1, rare_cnt))\n",
        "print('단어 집합에서 희귀 단어를 제외시킬 경우의 단어 집합의 크기 %s'%(total_cnt - rare_cnt))\n",
        "print(\"단어 집합에서 희귀 단어의 비율:\", (rare_cnt / total_cnt)*100)\n",
        "print(\"전체 등장 빈도에서 희귀 단어 등장 빈도 비율:\", (rare_freq / total_freq)*100)"
      ],
      "metadata": {
        "colab": {
          "base_uri": "https://localhost:8080/"
        },
        "id": "EVEIWB1faJXU",
        "outputId": "db4e61b5-fae8-41fe-e52c-59a197c412af"
      },
      "execution_count": 234,
      "outputs": [
        {
          "output_type": "stream",
          "name": "stdout",
          "text": [
            "단어 집합(vocabulary)의 크기 : 29932\n",
            "등장 빈도가 5번 이하인 희귀 단어의 수: 19608\n",
            "단어 집합에서 희귀 단어를 제외시킬 경우의 단어 집합의 크기 10324\n",
            "단어 집합에서 희귀 단어의 비율: 65.50848590137646\n",
            "전체 등장 빈도에서 희귀 단어 등장 빈도 비율: 5.852796755244405\n"
          ]
        }
      ]
    },
    {
      "cell_type": "markdown",
      "source": [
        "등장 빈도가 5회 이하인 단어들은 단어 집합에서 약 77%를 차지하고 있다. 하지만 빈도 수는 5% 대이기 때문에 크기제한을 10,000으로하겠다."
      ],
      "metadata": {
        "id": "iK0R2k9KfD5J"
      }
    },
    {
      "cell_type": "code",
      "source": [
        "tar_vocab = 10000\n",
        "tar_tokenizer = Tokenizer(num_words=tar_vocab)\n",
        "tar_tokenizer.fit_on_texts(decoder_input_train)\n",
        "tar_tokenizer.fit_on_texts(decoder_target_train)\n",
        "\n",
        "# 텍스트 시퀀스를 정수 시퀀스로 변환\n",
        "decoder_input_train = tar_tokenizer.texts_to_sequences(decoder_input_train)\n",
        "decoder_target_train = tar_tokenizer.texts_to_sequences(decoder_target_train)\n",
        "decoder_input_test = tar_tokenizer.texts_to_sequences(decoder_input_test)\n",
        "decoder_target_test = tar_tokenizer.texts_to_sequences(decoder_target_test)\n",
        "\n",
        "# 잘 변환되었는지 확인\n",
        "print('input')\n",
        "print('input ',decoder_input_train[:5])\n",
        "print('target')\n",
        "print('decoder ',decoder_target_train[:5])"
      ],
      "metadata": {
        "colab": {
          "base_uri": "https://localhost:8080/"
        },
        "id": "kPz5lthnaJVD",
        "outputId": "fe617188-5613-402e-afcf-c0f26ffc1177"
      },
      "execution_count": 235,
      "outputs": [
        {
          "output_type": "stream",
          "name": "stdout",
          "text": [
            "input\n",
            "input  [[1, 162, 287, 18, 94, 4, 2985, 99, 597, 4], [1, 3480, 147, 1614, 5796, 1592], [1, 61, 1798, 232, 401, 166, 3069, 212], [1, 2135, 1918, 27, 741, 6379, 1226], [1, 39, 147, 71, 485, 283, 279, 2791]]\n",
            "target\n",
            "decoder  [[162, 287, 18, 94, 4, 2985, 99, 597, 4, 2], [3480, 147, 1614, 5796, 1592, 2], [61, 1798, 232, 401, 166, 3069, 212, 2], [2135, 1918, 27, 741, 6379, 1226, 2], [39, 147, 71, 485, 283, 279, 2791, 2]]\n"
          ]
        }
      ]
    },
    {
      "cell_type": "markdown",
      "source": [
        "정상적으로 정수 인코딩 작업이 끝냈다.\n",
        "decoder_input_train과 decoder_target_train에는 더 이상 숫자 22,000이 넘는 숫자들은 존재하지 않는다. 다음 작업인 패딩 하기로 넘어가기 전에 한 가지 점검해야 한다.\n",
        "\n",
        "전체 데이터에서 빈도수가 낮은 단어가 삭제되었다는 것은 빈도수가 낮은 단어만으로 구성되었던 샘플들은 이제 빈(empty) 샘플이 되었을 가능성이 있다.\n",
        "\n",
        "요약문에서 길이가 0이 된 샘플들의 인덱스를 받아오겠다.\n",
        "여기서 주의할 점은 요약문인 decoder_input에는 sostoken 또는 decoder_target에는 eostoken이 추가된 상태이고, 이 두 토큰은 모든 샘플에서 등장하므로 빈도수가 샘플 수와 동일하게 매우 높으므로 단어 집합 제한에도 삭제되지 않는다.\n",
        "\n",
        "그래서 이제 길이가 0이 된 요약문의 실제 길이는 1로 나올 것이다. 길이 0이 된 decoder_input에는 sostoken, decoder_target에는 eostoken만 남아 있을 것이다.\n",
        "\n",
        "훈련 데이터와 테스트 데이터에 대해서 요약문의 길이가 1인 경우의 인덱스를 각각 drop_train과 drop_test에 라는 변수에 저장하겠다. 이 샘플들은 모두 삭제하겠다."
      ],
      "metadata": {
        "id": "Ow_OIM0sfad3"
      }
    },
    {
      "cell_type": "code",
      "source": [
        "drop_train = [index for index, sentence in enumerate(decoder_input_train) if len(sentence) == 1]\n",
        "drop_test = [index for index, sentence in enumerate(decoder_input_test) if len(sentence) == 1]\n",
        "\n",
        "print('삭제할 훈련 데이터의 개수 :', len(drop_train))\n",
        "print('삭제할 테스트 데이터의 개수 :', len(drop_test))\n",
        "\n",
        "encoder_input_train = [sentence for index, sentence in enumerate(encoder_input_train) if index not in drop_train]\n",
        "decoder_input_train = [sentence for index, sentence in enumerate(decoder_input_train) if index not in drop_train]\n",
        "decoder_target_train = [sentence for index, sentence in enumerate(decoder_target_train) if index not in drop_train]\n",
        "\n",
        "encoder_input_test = [sentence for index, sentence in enumerate(encoder_input_test) if index not in drop_test]\n",
        "decoder_input_test = [sentence for index, sentence in enumerate(decoder_input_test) if index not in drop_test]\n",
        "decoder_target_test = [sentence for index, sentence in enumerate(decoder_target_test) if index not in drop_test]\n",
        "\n",
        "print('훈련 데이터의 개수 :', len(encoder_input_train))\n",
        "print('훈련 레이블의 개수 :', len(decoder_input_train))\n",
        "print('테스트 데이터의 개수 :', len(encoder_input_test))\n",
        "print('테스트 레이블의 개수 :', len(decoder_input_test))"
      ],
      "metadata": {
        "colab": {
          "base_uri": "https://localhost:8080/"
        },
        "id": "LzDDZ-TbaJS3",
        "outputId": "7c731741-92a3-425f-cc02-35d8924e3653"
      },
      "execution_count": 236,
      "outputs": [
        {
          "output_type": "stream",
          "name": "stdout",
          "text": [
            "삭제할 훈련 데이터의 개수 : 1\n",
            "삭제할 테스트 데이터의 개수 : 1\n",
            "훈련 데이터의 개수 : 78612\n",
            "훈련 레이블의 개수 : 78612\n",
            "테스트 데이터의 개수 : 19652\n",
            "테스트 레이블의 개수 : 19652\n"
          ]
        }
      ]
    },
    {
      "cell_type": "markdown",
      "source": [
        "삭제하는 훈련 데이터가 많지 않다. :)\n",
        "\n",
        "훈련 데이터와 테스트 데이터 모두 일정량의 샘플들이 제거된 것을 확인 되었다.\n",
        "\n",
        "### 패딩하기\n",
        "텍스트 시퀀스를 정수 시퀀스로 변환되었고, 서로 다른 길이의 샘플들을 병렬 처리하기 위해 같은 길이로 맞춰주는 패딩 작업을 진행하겠다. 최대 길이로 패딩 해 줄 거에요. 최대 길이보다 짧은 데이터들은 뒤의 공간에 숫자 0을 넣어 최대 길이로 길이를 맞춰주겠다."
      ],
      "metadata": {
        "id": "vA9WQ82EltPm"
      }
    },
    {
      "cell_type": "code",
      "source": [
        "from keras.preprocessing.sequence import pad_sequences"
      ],
      "metadata": {
        "id": "dWjobFO_nKHd"
      },
      "execution_count": 237,
      "outputs": []
    },
    {
      "cell_type": "code",
      "source": [
        "encoder_input_train = pad_sequences(encoder_input_train, maxlen=headlines_max_len, padding='post')\n",
        "encoder_input_test = pad_sequences(encoder_input_test, maxlen=headlines_max_len, padding='post')\n",
        "decoder_input_train = pad_sequences(decoder_input_train, maxlen=text_max_len, padding='post')\n",
        "decoder_target_train = pad_sequences(decoder_target_train, maxlen=text_max_len, padding='post')\n",
        "decoder_input_test = pad_sequences(decoder_input_test, maxlen=text_max_len, padding='post')\n",
        "decoder_target_test = pad_sequences(decoder_target_test, maxlen=text_max_len, padding='post')\n",
        "print('=3')"
      ],
      "metadata": {
        "colab": {
          "base_uri": "https://localhost:8080/"
        },
        "id": "pNllmlYgaJQU",
        "outputId": "dd38e55c-7cc9-4458-c245-3225b3165662"
      },
      "execution_count": 238,
      "outputs": [
        {
          "output_type": "stream",
          "name": "stdout",
          "text": [
            "=3\n"
          ]
        }
      ]
    },
    {
      "cell_type": "markdown",
      "source": [
        "### 모델 설계하기\n",
        "\n",
        "함수형 API를 이용해서 인코더를 설계하고 LSTM 모델을 이용해 인풋 레이어와 가까운 층에서는\n",
        "\n",
        "장기기억을 가져가게 학습시키고 인코더의 끝 부분에서는 GRU 모델을 사용해 모델을 가볍게 만들겠다.\n",
        "\n",
        "| 특징 / 모델 | LSTM | GRU |\n",
        "|-------------|------|------|\n",
        "| 게이트의 수 | 3개 (입력 게이트, 출력 게이트, 삭제 게이트) | 2개 (업데이트 게이트, 재설정 게이트) |\n",
        "| 구조 | 비교적 복잡 | 비교적 간단 |\n",
        "| 메모리 셀 | 별도의 메모리 셀 존재 | 메모리 셀 없음 |\n",
        "| 정보 유지 | 장기간의 의존성 정보 유지에 강점 | 중단기간의 의존성 정보 유지에 적합 |\n",
        "| 계산 비용 | 높음 (더 많은 게이트와 계산 필요) | 낮음 (더 적은 게이트와 계산 필요) |\n",
        "| 학습 시간 | 상대적으로 긴 학습 시간 | 상대적으로 짧은 학습 시간 |\n",
        "| 성능 | 복잡한 문제에 적합, 장기 의존성을 잘 처리 | 간단한 문제에 적합, 빠른 학습 및 유사한 성능 제공 가능 |\n",
        "\n",
        "\n",
        "---\n",
        "-> 계속 에러떠서...결국\n",
        "\n",
        "전부 LSTM 으로 다시 다 바꿨다.\n",
        "\n",
        "\n"
      ],
      "metadata": {
        "id": "3OO7jlYBnPUs"
      }
    },
    {
      "cell_type": "code",
      "source": [
        "from tensorflow.keras.layers import Input, LSTM, Embedding, Dense, Concatenate, TimeDistributed\n",
        "from tensorflow.keras.models import Model\n",
        "from tensorflow.keras.callbacks import EarlyStopping, ModelCheckpoint\n",
        "\n",
        "\n",
        "# 인코더 설계 시작\n",
        "embedding_dim = 128\n",
        "hidden_size = 256\n",
        "\n",
        "# 인코더\n",
        "encoder_inputs = Input(shape=(headlines_max_len,))\n",
        "\n",
        "# 인코더의 임베딩 층\n",
        "enc_emb = Embedding(src_vocab, embedding_dim)(encoder_inputs)\n",
        "\n",
        "# 인코더의 LSTM 1\n",
        "# encoder_lstm1 = LSTM(hidden_size, return_sequences=True, return_state=True ,dropout = 0.4, recurrent_dropout = 0.4)\n",
        "encoder_lstm1 = LSTM(hidden_size, return_sequences=True, return_state=True ,dropout = 0.4)\n",
        "encoder_output1, state_h1, state_c1 = encoder_lstm1(enc_emb)\n",
        "\n",
        "# 인코더의 LSTM 2\n",
        "encoder_lstm2 = LSTM(hidden_size, return_sequences=True, return_state=True, dropout=0.4)\n",
        "encoder_output2, state_h2, state_c2 = encoder_lstm2(encoder_output1)  # 이전 레이어의 출력을 입력으로 사용\n",
        "\n",
        "# 인코더의 LSTM 3\n",
        "encoder_lstm3= LSTM(hidden_size, return_state=True, return_sequences=True, dropout=0.4)\n",
        "encoder_outputs, state_h, state_c = encoder_lstm3(encoder_output2)  # 이전 레이어의 출력을 입력으로 사용"
      ],
      "metadata": {
        "id": "T_IGTDc9aJNu"
      },
      "execution_count": 239,
      "outputs": []
    },
    {
      "cell_type": "markdown",
      "source": [
        "임베딩 벡터의 차원은 128로 정의하고, hidden state의 크기를 256으로 정의했어요. hidden state는 LSTM에서 얼만큼의 수용력(capacity)를 가질지를 정하는 파라미터이다."
      ],
      "metadata": {
        "id": "t6w69KvGqsCi"
      }
    },
    {
      "cell_type": "code",
      "source": [
        "# 디코더 설계\n",
        "decoder_inputs = Input(shape=(None,))\n",
        "\n",
        "# 디코더의 임베딩 층\n",
        "dec_emb_layer = Embedding(tar_vocab, embedding_dim)\n",
        "dec_emb = dec_emb_layer(decoder_inputs)\n",
        "\n",
        "# 디코더의 LSTM\n",
        "# decoder_lstm = LSTM(hidden_size, return_sequences=True, return_state=True, dropout=0.4, recurrent_dropout=0.2)\n",
        "decoder_lstm = LSTM(hidden_size, return_sequences=True, return_state=True, dropout=0.4)\n",
        "decoder_outputs, _, _ = decoder_lstm(dec_emb, initial_state=[state_h, state_c])"
      ],
      "metadata": {
        "id": "xzC4USJIQgKt"
      },
      "execution_count": 240,
      "outputs": []
    },
    {
      "cell_type": "code",
      "source": [
        "from tensorflow.keras.layers import Attention"
      ],
      "metadata": {
        "id": "brnIGWQ0tgWC"
      },
      "execution_count": 241,
      "outputs": []
    },
    {
      "cell_type": "code",
      "source": [
        "# 어텐션 층(어텐션 함수)\n",
        "attn_layer = AdditiveAttention(name='attention_layer')\n",
        "\n",
        "# 인코더와 디코더의 모든 time step의 hidden state를 어텐션 층에 전달하고 결과를 리턴\n",
        "attn_out = attn_layer([decoder_outputs, encoder_outputs])\n",
        "\n",
        "\n",
        "# 어텐션의 결과와 디코더의 hidden state들을 연결\n",
        "decoder_concat_input = Concatenate(axis=-1, name='concat_layer')([decoder_outputs, attn_out])\n",
        "\n",
        "# 디코더의 출력층\n",
        "decoder_softmax_layer = Dense(tar_vocab, activation='softmax')\n",
        "decoder_softmax_outputs = decoder_softmax_layer(decoder_concat_input)\n",
        "\n",
        "# 모델 정의\n",
        "model = Model([encoder_inputs, decoder_inputs], decoder_softmax_outputs)\n",
        "model.summary()"
      ],
      "metadata": {
        "colab": {
          "base_uri": "https://localhost:8080/"
        },
        "id": "X3zxp-KyQgOB",
        "outputId": "4fbf2092-1588-47a6-d66c-d90b6f3a9834"
      },
      "execution_count": 242,
      "outputs": [
        {
          "output_type": "stream",
          "name": "stdout",
          "text": [
            "Model: \"model_19\"\n",
            "__________________________________________________________________________________________________\n",
            " Layer (type)                Output Shape                 Param #   Connected to                  \n",
            "==================================================================================================\n",
            " input_35 (InputLayer)       [(None, 50)]                 0         []                            \n",
            "                                                                                                  \n",
            " embedding_14 (Embedding)    (None, 50, 128)              2816000   ['input_35[0][0]']            \n",
            "                                                                                                  \n",
            " lstm_24 (LSTM)              [(None, 50, 256),            394240    ['embedding_14[0][0]']        \n",
            "                              (None, 256),                                                        \n",
            "                              (None, 256)]                                                        \n",
            "                                                                                                  \n",
            " input_36 (InputLayer)       [(None, None)]               0         []                            \n",
            "                                                                                                  \n",
            " lstm_25 (LSTM)              [(None, 50, 256),            525312    ['lstm_24[0][0]']             \n",
            "                              (None, 256),                                                        \n",
            "                              (None, 256)]                                                        \n",
            "                                                                                                  \n",
            " embedding_15 (Embedding)    (None, None, 128)            1280000   ['input_36[0][0]']            \n",
            "                                                                                                  \n",
            " lstm_26 (LSTM)              [(None, 50, 256),            525312    ['lstm_25[0][0]']             \n",
            "                              (None, 256),                                                        \n",
            "                              (None, 256)]                                                        \n",
            "                                                                                                  \n",
            " lstm_27 (LSTM)              [(None, None, 256),          394240    ['embedding_15[0][0]',        \n",
            "                              (None, 256),                           'lstm_26[0][1]',             \n",
            "                              (None, 256)]                           'lstm_26[0][2]']             \n",
            "                                                                                                  \n",
            " attention_layer (AdditiveA  (None, None, 256)            256       ['lstm_27[0][0]',             \n",
            " ttention)                                                           'lstm_26[0][0]']             \n",
            "                                                                                                  \n",
            " concat_layer (Concatenate)  (None, None, 512)            0         ['lstm_27[0][0]',             \n",
            "                                                                     'attention_layer[0][0]']     \n",
            "                                                                                                  \n",
            " dense_7 (Dense)             (None, None, 10000)          5130000   ['concat_layer[0][0]']        \n",
            "                                                                                                  \n",
            "==================================================================================================\n",
            "Total params: 11065360 (42.21 MB)\n",
            "Trainable params: 11065360 (42.21 MB)\n",
            "Non-trainable params: 0 (0.00 Byte)\n",
            "__________________________________________________________________________________________________\n"
          ]
        }
      ]
    },
    {
      "cell_type": "markdown",
      "source": [
        "### 모델 훈련하기"
      ],
      "metadata": {
        "id": "EA5eLPb2s5tN"
      }
    },
    {
      "cell_type": "code",
      "source": [
        "model.compile(optimizer='rmsprop', loss='sparse_categorical_crossentropy')\n",
        "es = EarlyStopping(monitor='val_loss', patience=2, verbose=1)\n",
        "history = model.fit(x=[encoder_input_train, decoder_input_train], y=decoder_target_train, \\\n",
        "          validation_data=([encoder_input_test, decoder_input_test], decoder_target_test), \\\n",
        "          batch_size=256, callbacks=[es], epochs=50)"
      ],
      "metadata": {
        "colab": {
          "base_uri": "https://localhost:8080/"
        },
        "id": "ciM7_JRxQgRJ",
        "outputId": "67bea99d-3769-47ac-8ecf-a069b3c6e0bc"
      },
      "execution_count": 243,
      "outputs": [
        {
          "output_type": "stream",
          "name": "stdout",
          "text": [
            "Epoch 1/50\n",
            "308/308 [==============================] - 92s 278ms/step - loss: 1.3256 - val_loss: 1.1117\n",
            "Epoch 2/50\n",
            "308/308 [==============================] - 84s 274ms/step - loss: 1.1172 - val_loss: 1.1022\n",
            "Epoch 3/50\n",
            "308/308 [==============================] - 84s 273ms/step - loss: 1.1128 - val_loss: 1.1024\n",
            "Epoch 4/50\n",
            "308/308 [==============================] - 84s 274ms/step - loss: 1.1090 - val_loss: 1.0948\n",
            "Epoch 5/50\n",
            "308/308 [==============================] - 84s 273ms/step - loss: 1.1049 - val_loss: 1.0919\n",
            "Epoch 6/50\n",
            "308/308 [==============================] - 84s 274ms/step - loss: 1.1012 - val_loss: 1.0985\n",
            "Epoch 7/50\n",
            "308/308 [==============================] - 84s 274ms/step - loss: 1.0978 - val_loss: 1.0839\n",
            "Epoch 8/50\n",
            "308/308 [==============================] - 84s 274ms/step - loss: 1.0922 - val_loss: 1.0800\n",
            "Epoch 9/50\n",
            "308/308 [==============================] - 85s 275ms/step - loss: 1.0834 - val_loss: 1.0706\n",
            "Epoch 10/50\n",
            "308/308 [==============================] - 85s 275ms/step - loss: 1.0717 - val_loss: 1.0579\n",
            "Epoch 11/50\n",
            "308/308 [==============================] - 85s 276ms/step - loss: 1.0619 - val_loss: 1.0499\n",
            "Epoch 12/50\n",
            "308/308 [==============================] - 85s 275ms/step - loss: 1.0524 - val_loss: 1.0385\n",
            "Epoch 13/50\n",
            "308/308 [==============================] - 85s 276ms/step - loss: 1.0432 - val_loss: 1.0434\n",
            "Epoch 14/50\n",
            "308/308 [==============================] - 85s 275ms/step - loss: 1.0351 - val_loss: 1.0252\n",
            "Epoch 15/50\n",
            "308/308 [==============================] - 85s 276ms/step - loss: 1.0278 - val_loss: 1.0259\n",
            "Epoch 16/50\n",
            "308/308 [==============================] - 85s 276ms/step - loss: 1.0207 - val_loss: 1.0231\n",
            "Epoch 17/50\n",
            "308/308 [==============================] - 85s 276ms/step - loss: 1.0133 - val_loss: 1.0104\n",
            "Epoch 18/50\n",
            "308/308 [==============================] - 85s 277ms/step - loss: 1.0048 - val_loss: 1.0000\n",
            "Epoch 19/50\n",
            "308/308 [==============================] - 85s 276ms/step - loss: 0.9957 - val_loss: 0.9907\n",
            "Epoch 20/50\n",
            "308/308 [==============================] - 85s 277ms/step - loss: 0.9871 - val_loss: 0.9933\n",
            "Epoch 21/50\n",
            "308/308 [==============================] - 85s 277ms/step - loss: 0.9787 - val_loss: 0.9872\n",
            "Epoch 22/50\n",
            "308/308 [==============================] - 85s 276ms/step - loss: 0.9698 - val_loss: 0.9927\n",
            "Epoch 23/50\n",
            "308/308 [==============================] - 85s 277ms/step - loss: 0.9608 - val_loss: 0.9649\n",
            "Epoch 24/50\n",
            "308/308 [==============================] - 85s 276ms/step - loss: 0.9524 - val_loss: 0.9601\n",
            "Epoch 25/50\n",
            "308/308 [==============================] - 85s 276ms/step - loss: 0.9444 - val_loss: 0.9607\n",
            "Epoch 26/50\n",
            "308/308 [==============================] - 85s 276ms/step - loss: 0.9367 - val_loss: 0.9577\n",
            "Epoch 27/50\n",
            "308/308 [==============================] - 85s 277ms/step - loss: 0.9296 - val_loss: 0.9394\n",
            "Epoch 28/50\n",
            "308/308 [==============================] - 85s 276ms/step - loss: 0.9227 - val_loss: 0.9434\n",
            "Epoch 29/50\n",
            "308/308 [==============================] - 85s 276ms/step - loss: 0.9161 - val_loss: 0.9445\n",
            "Epoch 29: early stopping\n"
          ]
        }
      ]
    },
    {
      "cell_type": "code",
      "source": [
        "# 시각화를 Seaborn 으로 진행\n",
        "import seaborn as sns\n",
        "import matplotlib.pyplot as plt\n",
        "import pandas as pd"
      ],
      "metadata": {
        "id": "Z5S-QTEsQgUp"
      },
      "execution_count": 244,
      "outputs": []
    },
    {
      "cell_type": "code",
      "source": [
        "# 학습 데이터를 DataFrame으로 변환\n",
        "history_df = pd.DataFrame(history.history)\n",
        "\n",
        "# 손실률 그래프 그리기\n",
        "sns.lineplot(data=history_df[['loss', 'val_loss']])\n",
        "plt.title(\"Model Loss\")\n",
        "plt.ylabel(\"Loss\")\n",
        "plt.xlabel(\"Epoch\")\n",
        "plt.legend(title='Type', loc='upper right', labels=['Train', 'Validation'])\n",
        "\n",
        "# 그래프 표시\n",
        "plt.show()"
      ],
      "metadata": {
        "colab": {
          "base_uri": "https://localhost:8080/",
          "height": 472
        },
        "id": "jlD1KHoSQgX9",
        "outputId": "71aad29a-aab0-42b4-d224-f959a8435d7e"
      },
      "execution_count": 245,
      "outputs": [
        {
          "output_type": "display_data",
          "data": {
            "text/plain": [
              "<Figure size 640x480 with 1 Axes>"
            ],
            "image/png": "[encoded data removed]"
          },
          "metadata": {}
        }
      ]
    },
    {
      "cell_type": "markdown",
      "source": [
        "### 인퍼런스 모델 구현하기\n",
        "\n",
        "seq2seq는 훈련할 때와 실제 동작할 때(인퍼런스 단계)의 방식이 다르다. 그래서 별도로 진행해줘야한다.\n",
        "훈련 단계에서는 디코더의 입력부에 정답이 되는 문장 전체를 한꺼번에 넣고 디코더의 출력과 한 번에 비교할 수 있으므로, 인코더와 디코더를 엮은 통짜 모델 하나만 준비하겠다.\n",
        "\n",
        "정답 문장이 없는 인퍼런스 단계에서는 만들어야 할 문장의 길이만큼 디코더가 반복 구조로 동작해야 하기 때문에 부득이하게 인퍼런스를 위한 모델 설계를 별도로 해주어야한다.\n",
        "인코더 모델과 디코더 모델을 분리해서 설계하겠다."
      ],
      "metadata": {
        "id": "f0Mia-Ih8R1q"
      }
    },
    {
      "cell_type": "code",
      "source": [
        "src_index_to_word = src_tokenizer.index_word # 원문 단어 집합에서 정수 -> 단어를 얻음\n",
        "tar_word_to_index = tar_tokenizer.word_index # 요약 단어 집합에서 단어 -> 정수를 얻음\n",
        "tar_index_to_word = tar_tokenizer.index_word # 요약 단어 집합에서 정수 -> 단어를 얻음\n",
        "\n",
        "print('=3')"
      ],
      "metadata": {
        "colab": {
          "base_uri": "https://localhost:8080/"
        },
        "id": "Yf6dHZLI606i",
        "outputId": "a972753f-1744-4776-b7d8-9dd00dc449c7"
      },
      "execution_count": 260,
      "outputs": [
        {
          "output_type": "stream",
          "name": "stdout",
          "text": [
            "=3\n"
          ]
        }
      ]
    },
    {
      "cell_type": "code",
      "source": [
        "# 인코더 설계\n",
        "encoder_model = Model(inputs=encoder_inputs, outputs=[encoder_outputs, state_h, state_c])\n",
        "\n",
        "# 이전 시점의 상태들을 저장하는 텐서\n",
        "decoder_state_input_h = Input(shape=(hidden_size,))\n",
        "decoder_state_input_c = Input(shape=(hidden_size,))\n",
        "\n",
        "dec_emb2 = dec_emb_layer(decoder_inputs)\n",
        "\n",
        "# 문장의 다음 단어를 예측하기 위해서 초기 상태(initial_state)를 이전 시점의 상태로 사용. 이는 뒤의 함수 decode_sequence()에 구현\n",
        "# 훈련 과정에서와 달리 LSTM의 리턴하는 은닉 상태와 셀 상태인 state_h와 state_c를 버리지 않음.\n",
        "decoder_outputs2, state_h2, state_c2 = decoder_lstm(dec_emb2, initial_state=[decoder_state_input_h, decoder_state_input_c])\n",
        "\n",
        "print('=3')"
      ],
      "metadata": {
        "colab": {
          "base_uri": "https://localhost:8080/"
        },
        "id": "SRExIgsXDA9-",
        "outputId": "ce1775f5-5bb7-4914-b189-06c05c0d1294"
      },
      "execution_count": 261,
      "outputs": [
        {
          "output_type": "stream",
          "name": "stdout",
          "text": [
            "=3\n"
          ]
        }
      ]
    },
    {
      "cell_type": "markdown",
      "source": [
        "어텐션 메커니즘을 사용하는 출력층"
      ],
      "metadata": {
        "id": "Vk1nuIcEFI8X"
      }
    },
    {
      "cell_type": "code",
      "source": [
        "# 어텐션 함수\n",
        "decoder_hidden_state_input = Input(shape=(text_max_len, hidden_size))\n",
        "attn_out_inf = attn_layer([decoder_outputs2, decoder_hidden_state_input])\n",
        "decoder_inf_concat = Concatenate(axis=-1, name='concat')([decoder_outputs2, attn_out_inf])\n",
        "\n",
        "# 디코더의 출력층\n",
        "decoder_outputs2 = decoder_softmax_layer(decoder_inf_concat)\n",
        "\n",
        "# 최종 디코더 모델\n",
        "decoder_model = Model(\n",
        "    [decoder_inputs] + [decoder_hidden_state_input,decoder_state_input_h, decoder_state_input_c],\n",
        "    [decoder_outputs2] + [state_h2, state_c2])\n",
        "\n",
        "print('=3')"
      ],
      "metadata": {
        "colab": {
          "base_uri": "https://localhost:8080/"
        },
        "id": "W8VfWQjdDzHC",
        "outputId": "5d69ff1c-3c64-40e8-9337-b2144a295acf"
      },
      "execution_count": 262,
      "outputs": [
        {
          "output_type": "stream",
          "name": "stdout",
          "text": [
            "=3\n"
          ]
        }
      ]
    },
    {
      "cell_type": "code",
      "source": [
        "encoder_model.summary()"
      ],
      "metadata": {
        "colab": {
          "base_uri": "https://localhost:8080/"
        },
        "id": "sg0g_e3QjW_O",
        "outputId": "9cb0dc77-be41-455a-cacc-dc7fd0c58e7a"
      },
      "execution_count": 263,
      "outputs": [
        {
          "output_type": "stream",
          "name": "stdout",
          "text": [
            "Model: \"model_22\"\n",
            "_________________________________________________________________\n",
            " Layer (type)                Output Shape              Param #   \n",
            "=================================================================\n",
            " input_35 (InputLayer)       [(None, 50)]              0         \n",
            "                                                                 \n",
            " embedding_14 (Embedding)    (None, 50, 128)           2816000   \n",
            "                                                                 \n",
            " lstm_24 (LSTM)              [(None, 50, 256),         394240    \n",
            "                              (None, 256),                       \n",
            "                              (None, 256)]                       \n",
            "                                                                 \n",
            " lstm_25 (LSTM)              [(None, 50, 256),         525312    \n",
            "                              (None, 256),                       \n",
            "                              (None, 256)]                       \n",
            "                                                                 \n",
            " lstm_26 (LSTM)              [(None, 50, 256),         525312    \n",
            "                              (None, 256),                       \n",
            "                              (None, 256)]                       \n",
            "                                                                 \n",
            "=================================================================\n",
            "Total params: 4260864 (16.25 MB)\n",
            "Trainable params: 4260864 (16.25 MB)\n",
            "Non-trainable params: 0 (0.00 Byte)\n",
            "_________________________________________________________________\n"
          ]
        }
      ]
    },
    {
      "cell_type": "code",
      "source": [
        "decoder_model.summary()"
      ],
      "metadata": {
        "colab": {
          "base_uri": "https://localhost:8080/"
        },
        "id": "tzLonfN1jdnX",
        "outputId": "5a34e1e1-c303-479f-db01-02ed34bd2091"
      },
      "execution_count": 264,
      "outputs": [
        {
          "output_type": "stream",
          "name": "stdout",
          "text": [
            "Model: \"model_23\"\n",
            "__________________________________________________________________________________________________\n",
            " Layer (type)                Output Shape                 Param #   Connected to                  \n",
            "==================================================================================================\n",
            " input_36 (InputLayer)       [(None, None)]               0         []                            \n",
            "                                                                                                  \n",
            " embedding_15 (Embedding)    (None, None, 128)            1280000   ['input_36[0][0]']            \n",
            "                                                                                                  \n",
            " input_40 (InputLayer)       [(None, 256)]                0         []                            \n",
            "                                                                                                  \n",
            " input_41 (InputLayer)       [(None, 256)]                0         []                            \n",
            "                                                                                                  \n",
            " lstm_27 (LSTM)              [(None, None, 256),          394240    ['embedding_15[2][0]',        \n",
            "                              (None, 256),                           'input_40[0][0]',            \n",
            "                              (None, 256)]                           'input_41[0][0]']            \n",
            "                                                                                                  \n",
            " input_42 (InputLayer)       [(None, 50, 256)]            0         []                            \n",
            "                                                                                                  \n",
            " attention_layer (AdditiveA  (None, None, 256)            256       ['lstm_27[2][0]',             \n",
            " ttention)                                                           'input_42[0][0]']            \n",
            "                                                                                                  \n",
            " concat (Concatenate)        (None, None, 512)            0         ['lstm_27[2][0]',             \n",
            "                                                                     'attention_layer[2][0]']     \n",
            "                                                                                                  \n",
            " dense_7 (Dense)             (None, None, 10000)          5130000   ['concat[0][0]']              \n",
            "                                                                                                  \n",
            "==================================================================================================\n",
            "Total params: 6804496 (25.96 MB)\n",
            "Trainable params: 6804496 (25.96 MB)\n",
            "Non-trainable params: 0 (0.00 Byte)\n",
            "__________________________________________________________________________________________________\n"
          ]
        }
      ]
    },
    {
      "cell_type": "code",
      "source": [
        "def decode_sequence(input_seq):\n",
        "    # 인코더 모델을 통해 인코더 출력과 상태 얻기\n",
        "    e_out, e_h, e_c = encoder_model.predict(input_seq)\n",
        "\n",
        "    # 초기 디코더 입력 (예: <start> 토큰)\n",
        "    target_seq = np.zeros((1,1))\n",
        "    target_seq[0, 0] = tar_word_to_index['sostoken']\n",
        "\n",
        "    stop_condition = False\n",
        "    decoded_sentence = ''\n",
        "    while not stop_condition:\n",
        "        output_tokens, h, c = decoder_model.predict([target_seq] + [e_out, e_h, e_c])\n",
        "        # 다음 토큰 예측\n",
        "        sampled_token_index = np.argmax(output_tokens[0, -1, :])\n",
        "        sampled_token = tar_index_to_word[sampled_token_index]\n",
        "\n",
        "        if (sampled_token != 'eostoken'):\n",
        "            decoded_sentence += ' ' + sampled_token\n",
        "\n",
        "        # 종료 조건 체크\n",
        "        if (sampled_token == 'eostoken' or len(decoded_sentence.split()) >= (text_max_len-1)):\n",
        "            stop_condition = True\n",
        "\n",
        "        # 타겟 시퀀스 업데이트\n",
        "        target_seq = np.zeros((1,1))\n",
        "        target_seq[0, 0] = sampled_token_index\n",
        "\n",
        "        # 상태 업데이트\n",
        "        e_h, e_c = h, c\n",
        "\n",
        "    return decoded_sentence\n"
      ],
      "metadata": {
        "id": "Rus2RHoCFMIB"
      },
      "execution_count": 294,
      "outputs": []
    },
    {
      "cell_type": "markdown",
      "source": [
        "### 모델 테스트하기"
      ],
      "metadata": {
        "id": "J9CJQ5mJGrr4"
      }
    },
    {
      "cell_type": "code",
      "source": [
        "# 원문의 정수 시퀀스를 텍스트 시퀀스로 변환\n",
        "def seq2headlines(input_seq):\n",
        "    temp=''\n",
        "    for i in input_seq:\n",
        "        if (i!=0):\n",
        "            temp = temp + src_index_to_word[i]+' '\n",
        "    return temp\n",
        "\n",
        "# 요약문의 정수 시퀀스를 텍스트 시퀀스로 변환\n",
        "sos_index = 1  # 시작 토큰의 인덱스\n",
        "eos_index = 2  # 종료 토큰의 인덱스\n",
        "\n",
        "def seq2text(input_seq):\n",
        "    temp = ''\n",
        "    for i in input_seq:\n",
        "        if (i != 0 and i != sos_index and i != eos_index):\n",
        "            temp = temp + tar_index_to_word[i] + ' '\n",
        "    return temp\n",
        "\n",
        "print('=3')"
      ],
      "metadata": {
        "colab": {
          "base_uri": "https://localhost:8080/"
        },
        "id": "R_UELmFXGk2f",
        "outputId": "18935665-42be-4d2c-ec64-7665d53dfab9"
      },
      "execution_count": 295,
      "outputs": [
        {
          "output_type": "stream",
          "name": "stdout",
          "text": [
            "=3\n"
          ]
        }
      ]
    },
    {
      "cell_type": "markdown",
      "source": [
        "테스트 데이터 약 20개의 샘플에 대해서 실제 요약과 예측된 요약을 비교"
      ],
      "metadata": {
        "id": "YikHTbnoG1kB"
      }
    },
    {
      "cell_type": "code",
      "source": [
        "from tensorflow.keras.preprocessing.sequence import pad_sequences"
      ],
      "metadata": {
        "id": "oonvjeoNJNd0"
      },
      "execution_count": 296,
      "outputs": []
    },
    {
      "cell_type": "code",
      "source": [
        "print(input_seq_padded.shape)\n"
      ],
      "metadata": {
        "colab": {
          "base_uri": "https://localhost:8080/"
        },
        "id": "XorPGMIDpuZv",
        "outputId": "7a40bb2a-25fa-42b5-fd2e-e76efbf175f1"
      },
      "execution_count": 297,
      "outputs": [
        {
          "output_type": "stream",
          "name": "stdout",
          "text": [
            "(1, 50)\n"
          ]
        }
      ]
    },
    {
      "cell_type": "code",
      "source": [
        "for i in range(50, 100):\n",
        "    # 입력 시퀀스를 모델의 입력 형태에 맞게 조정\n",
        "    input_seq = encoder_input_test[i].reshape(1, -1)\n",
        "    input_seq_padded = pad_sequences(input_seq, maxlen=text_max_len, padding='post')\n",
        "\n",
        "    # input_seq_padded의 차원 확인\n",
        "    print(\"input_seq_padded shape:\", input_seq_padded.shape)\n",
        "\n",
        "    # 원문, 실제 요약, 예측 요약 출력\n",
        "    print(\"원문 :\", seq2headlines(encoder_input_test[i]))\n",
        "    print(\"실제 요약 :\", seq2text(decoder_input_test[i]))\n",
        "    print(\"예측 요약 :\", decode_sequence(input_seq_padded))\n",
        "    print(\"\\n\")"
      ],
      "metadata": {
        "colab": {
          "base_uri": "https://localhost:8080/"
        },
        "id": "wecABIh8GtqV",
        "outputId": "366f1475-9217-45cf-c844-9110c5fe409d"
      },
      "execution_count": 298,
      "outputs": [
        {
          "output_type": "stream",
          "name": "stdout",
          "text": [
            "input_seq_padded shape: (1, 50)\n",
            "원문 : world number naomi osaka face serena williams us open final one time grand slam champion first flushing title osaka first japanese woman advance grand slam final osaka serena faced japanese emerging winner \n",
            "실제 요약 : serena us open final rival st us open \n",
            "1/1 [==============================] - 0s 22ms/step\n",
            "1/1 [==============================] - 0s 22ms/step\n",
            "1/1 [==============================] - 0s 22ms/step\n",
            "1/1 [==============================] - 0s 21ms/step\n",
            "1/1 [==============================] - 0s 21ms/step\n",
            "1/1 [==============================] - 0s 22ms/step\n",
            "1/1 [==============================] - 0s 21ms/step\n",
            "1/1 [==============================] - 0s 22ms/step\n",
            "예측 요약 :  world world world world world time\n",
            "\n",
            "\n",
            "input_seq_padded shape: (1, 50)\n",
            "원문 : sadhvi saraswati said killed gau mata organised beef parties kerala right live india hundreds people posted beef facebook page user commented beef kerala relocate kerala users also posted pictures state bjp leaders allegedly consuming beef \n",
            "실제 요약 : sadhvi trolled beef gau mata \n",
            "1/1 [==============================] - 0s 22ms/step\n",
            "1/1 [==============================] - 0s 22ms/step\n",
            "1/1 [==============================] - 0s 23ms/step\n",
            "1/1 [==============================] - 0s 21ms/step\n",
            "1/1 [==============================] - 0s 22ms/step\n",
            "예측 요약 :  video die protest\n",
            "\n",
            "\n",
            "input_seq_padded shape: (1, 50)\n",
            "원문 : delhi police wednesday registered fir businessman repeatedly raping torturing year old maid three months police told girl originally west bengal kept captivity allowed go employer home accused absconding girl sent back family \n",
            "실제 요약 : maid raped tortured delhi businessman months \n",
            "1/1 [==============================] - 0s 22ms/step\n",
            "1/1 [==============================] - 0s 22ms/step\n",
            "1/1 [==============================] - 0s 21ms/step\n",
            "1/1 [==============================] - 0s 22ms/step\n",
            "1/1 [==============================] - 0s 21ms/step\n",
            "1/1 [==============================] - 0s 21ms/step\n",
            "1/1 [==============================] - 0s 23ms/step\n",
            "예측 요약 :  delhi driver driver driver crore\n",
            "\n",
            "\n",
            "input_seq_padded shape: (1, 50)\n",
            "원문 : bjp national general secretary rao sunday said opposition still divided except anti modi consensus among opposition parties missing added face pm narendra modi yet settled issue said number contenders opposition camp contesting \n",
            "실제 요약 : opposition still divided bjp gen secy rao \n",
            "1/1 [==============================] - 0s 21ms/step\n",
            "1/1 [==============================] - 0s 23ms/step\n",
            "1/1 [==============================] - 0s 22ms/step\n",
            "1/1 [==============================] - 0s 22ms/step\n",
            "1/1 [==============================] - 0s 21ms/step\n",
            "1/1 [==============================] - 0s 21ms/step\n",
            "예측 요약 :  bjp bjp bjp bjp\n",
            "\n",
            "\n",
            "input_seq_padded shape: (1, 50)\n",
            "원문 : chief ministers non bjp ruled states including west bengal cm mamata banerjee delhi cm arvind kejriwal attending swearing ceremony hd kumaraswamy karnataka cm wednesday andhra pradesh cm chandrababu naidu kerala cm pinarayi vijayan leaders like kamal haasan rjd tejashwi yadav dmk working president mk stalin also attend ceremony \n",
            "실제 요약 : mamata kejriwal attend taka cm swearing ceremony \n",
            "1/1 [==============================] - 0s 23ms/step\n",
            "1/1 [==============================] - 0s 22ms/step\n",
            "1/1 [==============================] - 0s 22ms/step\n",
            "1/1 [==============================] - 0s 22ms/step\n",
            "1/1 [==============================] - 0s 21ms/step\n",
            "1/1 [==============================] - 0s 21ms/step\n",
            "1/1 [==============================] - 0s 21ms/step\n",
            "1/1 [==============================] - 0s 21ms/step\n",
            "예측 요약 :  bjp cm bjp cm cm cm\n",
            "\n",
            "\n",
            "input_seq_padded shape: (1, 50)\n",
            "원문 : farming dairy products small significant effect shape human skulls according us based study researchers studied skulls skull bones two dozen populations model change skull shape size humans moved chewing raw meat agriculture based foods even cheese \n",
            "실제 요약 : farming cheese chewing changed human skull shape study \n",
            "1/1 [==============================] - 0s 23ms/step\n",
            "1/1 [==============================] - 0s 23ms/step\n",
            "1/1 [==============================] - 0s 22ms/step\n",
            "1/1 [==============================] - 0s 21ms/step\n",
            "1/1 [==============================] - 0s 21ms/step\n",
            "예측 요약 :  scientists scientists study\n",
            "\n",
            "\n",
            "input_seq_padded shape: (1, 50)\n",
            "원문 : sharing picture instagram son zack turned year old may model tv host lisa wrote motherhood testing love made last year magic added remembering time last year hospital whole family cheering push like football team \n",
            "실제 요약 : love made last year magic lisa son turning \n",
            "1/1 [==============================] - 0s 21ms/step\n",
            "1/1 [==============================] - 0s 23ms/step\n",
            "1/1 [==============================] - 0s 22ms/step\n",
            "1/1 [==============================] - 0s 22ms/step\n",
            "1/1 [==============================] - 0s 23ms/step\n",
            "1/1 [==============================] - 0s 21ms/step\n",
            "예측 요약 :  sachin shares old picture\n",
            "\n",
            "\n",
            "input_seq_padded shape: (1, 50)\n",
            "원문 : congress led opposition called nationwide protests pm narendra modi led government september recent fuel price hike diesel petrol brought gst modi government refused fuel prices rising upa regime taxes reduced take burden people congress leaders said \n",
            "실제 요약 : congress calls bharat bandh sept fuel price hike \n",
            "1/1 [==============================] - 0s 21ms/step\n",
            "1/1 [==============================] - 0s 21ms/step\n",
            "1/1 [==============================] - 0s 22ms/step\n",
            "1/1 [==============================] - 0s 21ms/step\n",
            "1/1 [==============================] - 0s 21ms/step\n",
            "1/1 [==============================] - 0s 21ms/step\n",
            "1/1 [==============================] - 0s 21ms/step\n",
            "예측 요약 :  pm modi modi modi modi\n",
            "\n",
            "\n",
            "input_seq_padded shape: (1, 50)\n",
            "원문 : two members family leaving disney world barred entering uk airport lounge matching mouse shirts featuring names emma two year old niece allowed enter covering shirts family paid upgrade use lounge tour shirts policy \n",
            "실제 요약 : duo mouse shirts allowed airport \n",
            "1/1 [==============================] - 0s 22ms/step\n",
            "1/1 [==============================] - 0s 22ms/step\n",
            "1/1 [==============================] - 0s 22ms/step\n",
            "1/1 [==============================] - 0s 23ms/step\n",
            "예측 요약 :  mumbai airport\n",
            "\n",
            "\n",
            "input_seq_padded shape: (1, 50)\n",
            "원문 : crpf saturday arrested four naxals chhattisgarh bijapur district search operation days crpf personnel martyred encounter naxals sukma meeting chaired special director general dm held earlier centre also said would review revise left wing extremism strategy required \n",
            "실제 요약 : crpf arrests four naxals chhattisgarh \n",
            "1/1 [==============================] - 0s 23ms/step\n",
            "1/1 [==============================] - 0s 23ms/step\n",
            "1/1 [==============================] - 0s 22ms/step\n",
            "1/1 [==============================] - 0s 23ms/step\n",
            "1/1 [==============================] - 0s 22ms/step\n",
            "1/1 [==============================] - 0s 21ms/step\n",
            "예측 요약 :  killed arrested arrested arrested\n",
            "\n",
            "\n",
            "input_seq_padded shape: (1, 50)\n",
            "원문 : fighter pilot killed mig aircraft indian air force crashed himachal pradesh kangra district wednesday jet took pathankot punjab crashed around pm village around km dharamshala earlier june another pilot killed indian air force fighter jet crashed gujarat \n",
            "실제 요약 : pilot killed iaf fighter jet crashes himachal \n",
            "1/1 [==============================] - 0s 23ms/step\n",
            "1/1 [==============================] - 0s 24ms/step\n",
            "1/1 [==============================] - 0s 21ms/step\n",
            "1/1 [==============================] - 0s 21ms/step\n",
            "1/1 [==============================] - 0s 22ms/step\n",
            "1/1 [==============================] - 0s 25ms/step\n",
            "1/1 [==============================] - 0s 22ms/step\n",
            "예측 요약 :  saudi driver flight flight airport\n",
            "\n",
            "\n",
            "input_seq_padded shape: (1, 50)\n",
            "원문 : landslide comet documented astronomers first time images reveal collapse metre long cliff observations comet made esa probe show avalanche leaving patch comet icy interior exposed astronomers also linked landslide releasing dust \n",
            "실제 요약 : landslide recorded comet first time \n",
            "1/1 [==============================] - 0s 21ms/step\n",
            "1/1 [==============================] - 0s 23ms/step\n",
            "1/1 [==============================] - 0s 22ms/step\n",
            "1/1 [==============================] - 0s 22ms/step\n",
            "예측 요약 :  scientists scientists\n",
            "\n",
            "\n",
            "input_seq_padded shape: (1, 50)\n",
            "원문 : indian squash player harinder pal sandhu south australian squash championship adelaide saturday register eighth professional squash association career title sandhu ranked th world defeated australian playing third final row sandhu returned back injury earlier two tournaments may \n",
            "실제 요약 : india sandhu wins south australian squash ship \n",
            "1/1 [==============================] - 0s 22ms/step\n",
            "1/1 [==============================] - 0s 22ms/step\n",
            "1/1 [==============================] - 0s 22ms/step\n",
            "1/1 [==============================] - 0s 22ms/step\n",
            "1/1 [==============================] - 0s 22ms/step\n",
            "1/1 [==============================] - 0s 22ms/step\n",
            "1/1 [==============================] - 0s 21ms/step\n",
            "예측 요약 :  indian st indian st record\n",
            "\n",
            "\n",
            "input_seq_padded shape: (1, 50)\n",
            "원문 : around couples hindu christian communities tied knot mass marriage ceremony organised ministry women child development chhattisgarh monday ceremony organised cm raman singh scheme march couples got married scheme \n",
            "실제 요약 : couples tie knot govt organised mass marriage \n",
            "1/1 [==============================] - 0s 22ms/step\n",
            "1/1 [==============================] - 0s 23ms/step\n",
            "1/1 [==============================] - 0s 22ms/step\n",
            "1/1 [==============================] - 0s 23ms/step\n",
            "1/1 [==============================] - 0s 22ms/step\n",
            "예측 요약 :  video police death\n",
            "\n",
            "\n",
            "input_seq_padded shape: (1, 50)\n",
            "원문 : celebrating th birthday madhya pradesh chief minister shivraj singh chouhan monday promised bear education cost differently abled children children want get admission medical college engineering college iit iim wherever want pay education fee chief minister said \n",
            "실제 요약 : bear education cost differently abled kids mp cm \n",
            "1/1 [==============================] - 0s 22ms/step\n",
            "1/1 [==============================] - 0s 23ms/step\n",
            "1/1 [==============================] - 0s 21ms/step\n",
            "1/1 [==============================] - 0s 23ms/step\n",
            "1/1 [==============================] - 0s 23ms/step\n",
            "1/1 [==============================] - 0s 21ms/step\n",
            "예측 요약 :  ex ex ex ex\n",
            "\n",
            "\n",
            "input_seq_padded shape: (1, 50)\n",
            "원문 : switzerland roger federer began pursuit record extending ninth wimbledon title straight sets win serbia first round monday year old took minutes beat beaten federer straight sets wimbledon last year also federer extended wimbledon run without dropping set \n",
            "실제 요약 : federer begins th wimbledon win mins \n",
            "1/1 [==============================] - 0s 21ms/step\n",
            "1/1 [==============================] - 0s 22ms/step\n",
            "1/1 [==============================] - 0s 22ms/step\n",
            "1/1 [==============================] - 0s 21ms/step\n",
            "1/1 [==============================] - 0s 22ms/step\n",
            "1/1 [==============================] - 0s 22ms/step\n",
            "1/1 [==============================] - 0s 21ms/step\n",
            "1/1 [==============================] - 0s 22ms/step\n",
            "예측 요약 :  federer scores st record th record\n",
            "\n",
            "\n",
            "input_seq_padded shape: (1, 50)\n",
            "원문 : mumbai terror attack mastermind hafiz saeed said challenge pakistan government illegal action taking control health facilities run court un designated terrorist saeed claimed pakistani government taking extreme action please us india nn \n",
            "실제 요약 : challenge pak illegal action court hafiz saeed \n",
            "1/1 [==============================] - 0s 22ms/step\n",
            "1/1 [==============================] - 0s 21ms/step\n",
            "1/1 [==============================] - 0s 22ms/step\n",
            "1/1 [==============================] - 0s 22ms/step\n",
            "1/1 [==============================] - 0s 21ms/step\n",
            "예측 요약 :  pakistan prez pakistan\n",
            "\n",
            "\n",
            "input_seq_padded shape: (1, 50)\n",
            "원문 : students arrested mumbai university question paper leak police said circulated papers computer technician leak allegedly made notably police arrested people leak came light examination \n",
            "실제 요약 : mumbai varsity students sold leaked question papers \n",
            "1/1 [==============================] - 0s 22ms/step\n",
            "1/1 [==============================] - 0s 21ms/step\n",
            "1/1 [==============================] - 0s 21ms/step\n",
            "1/1 [==============================] - 0s 22ms/step\n",
            "1/1 [==============================] - 0s 22ms/step\n",
            "1/1 [==============================] - 0s 22ms/step\n",
            "예측 요약 :  mumbai metro mumbai airport\n",
            "\n",
            "\n",
            "input_seq_padded shape: (1, 50)\n",
            "원문 : investigation launched access panel wing boeing used japanese prime minister shinzo abe fell flight tokyo sign runways going difficult locate officials said japanese pm plane \n",
            "실제 요약 : wing panel falls japanese pm abe boeing \n",
            "1/1 [==============================] - 0s 22ms/step\n",
            "1/1 [==============================] - 0s 22ms/step\n",
            "1/1 [==============================] - 0s 21ms/step\n",
            "1/1 [==============================] - 0s 21ms/step\n",
            "1/1 [==============================] - 0s 22ms/step\n",
            "예측 요약 :  india worth crore\n",
            "\n",
            "\n",
            "input_seq_padded shape: (1, 50)\n",
            "원문 : external affairs minister sushma swaraj thursday said pakistan used kulbhushan jadhav emotional meeting wife mother islamabad propaganda exercise dismissing pakistan allegations wife shoes camera recorder swaraj said claims beyond measure travelled two flights shoes \n",
            "실제 요약 : pak used jadhav meeting family propaganda swaraj \n",
            "1/1 [==============================] - 0s 20ms/step\n",
            "1/1 [==============================] - 0s 21ms/step\n",
            "1/1 [==============================] - 0s 23ms/step\n",
            "1/1 [==============================] - 0s 21ms/step\n",
            "1/1 [==============================] - 0s 23ms/step\n",
            "1/1 [==============================] - 0s 24ms/step\n",
            "예측 요약 :  pak pak indian pak\n",
            "\n",
            "\n",
            "input_seq_padded shape: (1, 50)\n",
            "원문 : trai chairman rs sharma said aadhaar challenge harm done revealed aadhaar number twitter former founding chief executive uidai said aadhaar flaws people needed assurance sharing aadhaar number make digitally vulnerable already \n",
            "실제 요약 : aadhaar challenge harm caused trai chief \n",
            "1/1 [==============================] - 0s 22ms/step\n",
            "1/1 [==============================] - 0s 21ms/step\n",
            "1/1 [==============================] - 0s 23ms/step\n",
            "1/1 [==============================] - 0s 24ms/step\n",
            "1/1 [==============================] - 0s 22ms/step\n",
            "1/1 [==============================] - 0s 21ms/step\n",
            "예측 요약 :  baahubali film film film\n",
            "\n",
            "\n",
            "input_seq_padded shape: (1, 50)\n",
            "원문 : pm narendra modi suggested brics nations make commitments play effective role global transformation called coordinated action counter terrorism cyber security disaster management creating world countering climate change also stressed creating digital world digital divide within outside economies \n",
            "실제 요약 : pm modi suggests brics nations \n",
            "1/1 [==============================] - 0s 21ms/step\n",
            "1/1 [==============================] - 0s 22ms/step\n",
            "1/1 [==============================] - 0s 22ms/step\n",
            "1/1 [==============================] - 0s 21ms/step\n",
            "1/1 [==============================] - 0s 22ms/step\n",
            "1/1 [==============================] - 0s 21ms/step\n",
            "예측 요약 :  pm modi modi modi\n",
            "\n",
            "\n",
            "input_seq_padded shape: (1, 50)\n",
            "원문 : sports direct introduced staff survey system england warehouse wherein workers press featuring happy sad face emoji clock employees press sad emoji called managers discuss grievances uses fingerprint recognition technology identify express \n",
            "실제 요약 : sports firm staff asked press emoji say feel \n",
            "1/1 [==============================] - 0s 23ms/step\n",
            "1/1 [==============================] - 0s 21ms/step\n",
            "1/1 [==============================] - 0s 21ms/step\n",
            "1/1 [==============================] - 0s 21ms/step\n",
            "1/1 [==============================] - 0s 23ms/step\n",
            "1/1 [==============================] - 0s 22ms/step\n",
            "예측 요약 :  new launches new lakh\n",
            "\n",
            "\n",
            "input_seq_padded shape: (1, 50)\n",
            "원문 : actor mark found dead near los angeles home ahead sentencing march possession child pornography mark believed committed suicide pleaded guilty possessing child abuse images december face four seven years prison ordered pay victims \n",
            "실제 요약 : actor found dead ahead child porn case \n",
            "1/1 [==============================] - 0s 21ms/step\n",
            "1/1 [==============================] - 0s 21ms/step\n",
            "1/1 [==============================] - 0s 21ms/step\n",
            "1/1 [==============================] - 0s 22ms/step\n",
            "1/1 [==============================] - 0s 21ms/step\n",
            "1/1 [==============================] - 0s 22ms/step\n",
            "1/1 [==============================] - 0s 20ms/step\n",
            "예측 요약 :  video found found found fire\n",
            "\n",
            "\n",
            "input_seq_padded shape: (1, 50)\n",
            "원문 : supreme court wednesday held indian railways must pay compensation case death injury boarding trains added case accident untoward incident railways must pay compensation whether wrongful act neglect fault part administration \n",
            "실제 요약 : railways pay compensation person dies boarding sc \n",
            "1/1 [==============================] - 0s 21ms/step\n",
            "1/1 [==============================] - 0s 21ms/step\n",
            "1/1 [==============================] - 0s 20ms/step\n",
            "1/1 [==============================] - 0s 22ms/step\n",
            "1/1 [==============================] - 0s 21ms/step\n",
            "1/1 [==============================] - 0s 22ms/step\n",
            "1/1 [==============================] - 0s 21ms/step\n",
            "예측 요약 :  sc hc old worth crore\n",
            "\n",
            "\n",
            "input_seq_padded shape: (1, 50)\n",
            "원문 : year old woman china rendered partially blind playing video games smartphone hours woman reportedly playing multi player online game suddenly lost vision right eye according doctors blindness caused eye strain looking screen long without break \n",
            "실제 요약 : smartphone user goes blind hr gaming china \n",
            "1/1 [==============================] - 0s 21ms/step\n",
            "1/1 [==============================] - 0s 22ms/step\n",
            "1/1 [==============================] - 0s 21ms/step\n",
            "1/1 [==============================] - 0s 21ms/step\n",
            "1/1 [==============================] - 0s 23ms/step\n",
            "1/1 [==============================] - 0s 23ms/step\n",
            "예측 요약 :  world world record record\n",
            "\n",
            "\n",
            "input_seq_padded shape: (1, 50)\n",
            "원문 : cbi booked enforcement directorate former deputy director singh amassing assets disproportionate known sources income posted chandigarh singh used family members names buy properties worth crore tenure however income known sources lakh period \n",
            "실제 요약 : ed ex deputy director booked assets \n",
            "1/1 [==============================] - 0s 23ms/step\n",
            "1/1 [==============================] - 0s 21ms/step\n",
            "1/1 [==============================] - 0s 22ms/step\n",
            "1/1 [==============================] - 0s 22ms/step\n",
            "1/1 [==============================] - 0s 21ms/step\n",
            "1/1 [==============================] - 0s 23ms/step\n",
            "예측 요약 :  cbi gets crore crore\n",
            "\n",
            "\n",
            "input_seq_padded shape: (1, 50)\n",
            "원문 : akshaye khanna speaking break films said working since age added joined films post wanted start slightly smaller quality roles akshaye known films like dil hai next seen sridevi mom nn \n",
            "실제 요약 : working since break akshaye \n",
            "1/1 [==============================] - 0s 22ms/step\n",
            "1/1 [==============================] - 0s 22ms/step\n",
            "1/1 [==============================] - 0s 21ms/step\n",
            "1/1 [==============================] - 0s 20ms/step\n",
            "1/1 [==============================] - 0s 22ms/step\n",
            "예측 요약 :  want like film\n",
            "\n",
            "\n",
            "input_seq_padded shape: (1, 50)\n",
            "원문 : kamal haasan said late actress sridevi bond like brother sister haasan added asked people film industry speak bond celebrated couple sridevi haasan worked together several films including hindi movie sadma \n",
            "실제 요약 : sridevi like sister brother kamal haasan \n",
            "1/1 [==============================] - 0s 20ms/step\n",
            "1/1 [==============================] - 0s 22ms/step\n",
            "1/1 [==============================] - 0s 22ms/step\n",
            "1/1 [==============================] - 0s 22ms/step\n",
            "1/1 [==============================] - 0s 22ms/step\n",
            "예측 요약 :  kangana kangana kangana\n",
            "\n",
            "\n",
            "input_seq_padded shape: (1, 50)\n",
            "원문 : saudi king salman bin abdulaziz al saud half brother prince talal bin abdulaziz died aged royal court said saturday senior member al saud family father billionaire investor alwaleed bin talal ill several years vocal supporter reforms saudi arabia \n",
            "실제 요약 : saudi king half brother prince bin dies aged \n",
            "1/1 [==============================] - 0s 22ms/step\n",
            "1/1 [==============================] - 0s 21ms/step\n",
            "1/1 [==============================] - 0s 21ms/step\n",
            "1/1 [==============================] - 0s 22ms/step\n",
            "1/1 [==============================] - 0s 21ms/step\n",
            "1/1 [==============================] - 0s 21ms/step\n",
            "1/1 [==============================] - 0s 21ms/step\n",
            "예측 요약 :  indian indian indian indian saudi\n",
            "\n",
            "\n",
            "input_seq_padded shape: (1, 50)\n",
            "원문 : delegation opposition parties met officials election commission monday demanded old system ballot paper used elections instead electronic voting machines delegation included congress leaders ghulam nabi azad anand sharma cpi raja along representatives bsp dmk trinamool congress among others \n",
            "실제 요약 : opposition parties urge ec restore paper ballot system \n",
            "1/1 [==============================] - 0s 22ms/step\n",
            "1/1 [==============================] - 0s 21ms/step\n",
            "1/1 [==============================] - 0s 21ms/step\n",
            "1/1 [==============================] - 0s 21ms/step\n",
            "1/1 [==============================] - 0s 22ms/step\n",
            "1/1 [==============================] - 0s 22ms/step\n",
            "예측 요약 :  congress cm party party\n",
            "\n",
            "\n",
            "input_seq_padded shape: (1, 50)\n",
            "원문 : supreme court friday directed tamil nadu ensure anti neet protests held adding violating order charged contempt court comes year old medical aspirant anitha committed suicide triggering widespread protests exam court observed hearing plea seeking law order maintenance state \n",
            "실제 요약 : sc directs tn ensure anti neet protests take place \n",
            "1/1 [==============================] - 0s 22ms/step\n",
            "1/1 [==============================] - 0s 20ms/step\n",
            "1/1 [==============================] - 0s 31ms/step\n",
            "1/1 [==============================] - 0s 35ms/step\n",
            "1/1 [==============================] - 0s 22ms/step\n",
            "1/1 [==============================] - 0s 22ms/step\n",
            "예측 요약 :  sc hc old sc\n",
            "\n",
            "\n",
            "input_seq_padded shape: (1, 50)\n",
            "원문 : world third richest person berkshire hathaway chairman warren buffett annual compensation times median pay two thirds berkshire employees buffett annual compensation median annual compensation employees warren buffett net worth billion according bloomberg \n",
            "실제 요약 : rd richest man salary less twice pay staff \n",
            "1/1 [==============================] - 0s 22ms/step\n",
            "1/1 [==============================] - 0s 21ms/step\n",
            "1/1 [==============================] - 0s 22ms/step\n",
            "1/1 [==============================] - 0s 21ms/step\n",
            "1/1 [==============================] - 0s 21ms/step\n",
            "1/1 [==============================] - 0s 26ms/step\n",
            "1/1 [==============================] - 0s 30ms/step\n",
            "예측 요약 :  indian startup startup startup startup\n",
            "\n",
            "\n",
            "input_seq_padded shape: (1, 50)\n",
            "원문 : supreme court thursday refused accept sahara chief subrata roy plea put hold auction process sahara aamby valley sahara said auction process put hold till september could arrange crore deposited sebi sahara account notably aamby valley worth around crore \n",
            "실제 요약 : sc rejects sahara plea put aamby valley auction hold \n",
            "1/1 [==============================] - 0s 23ms/step\n",
            "1/1 [==============================] - 0s 21ms/step\n",
            "1/1 [==============================] - 0s 22ms/step\n",
            "1/1 [==============================] - 0s 22ms/step\n",
            "1/1 [==============================] - 0s 21ms/step\n",
            "예측 요약 :  sc asks crore\n",
            "\n",
            "\n",
            "input_seq_padded shape: (1, 50)\n",
            "원문 : police civic officials monday uprooted tents set delhi jantar mantar protesters demanding implementation one rank one pension scheme comes national green tribunal banned protests around jantar mantar october police said protestors informed tribunal order \n",
            "실제 요약 : police protestors delhi \n",
            "1/1 [==============================] - 0s 21ms/step\n",
            "1/1 [==============================] - 0s 23ms/step\n",
            "1/1 [==============================] - 0s 21ms/step\n",
            "1/1 [==============================] - 0s 30ms/step\n",
            "1/1 [==============================] - 0s 31ms/step\n",
            "1/1 [==============================] - 0s 21ms/step\n",
            "예측 요약 :  delhi metro metro delhi\n",
            "\n",
            "\n",
            "input_seq_padded shape: (1, 50)\n",
            "원문 : sanjay raut shiv sena leader writer film thackeray said make biopic based former defence minister george fernandes passed away tuesday film focus role fernandes played national politics period raut revealed film reportedly directed shoojit sircar \n",
            "실제 요약 : thackeray writer make biopic ex defence minister fernandes \n",
            "1/1 [==============================] - 0s 22ms/step\n",
            "1/1 [==============================] - 0s 21ms/step\n",
            "1/1 [==============================] - 0s 21ms/step\n",
            "1/1 [==============================] - 0s 21ms/step\n",
            "1/1 [==============================] - 0s 21ms/step\n",
            "예측 요약 :  trailer sena khan\n",
            "\n",
            "\n",
            "input_seq_padded shape: (1, 50)\n",
            "원문 : government reportedly contemplating daily revision cng prices similar daily fuel price revision going implemented across country june currently oil marketing firms fix prices diesel petrol cng basis state owned oil retailers implemented dynamic fuel pricing pilot project five cities may \n",
            "실제 요약 : fuel govt planning daily price reports \n",
            "1/1 [==============================] - 0s 22ms/step\n",
            "1/1 [==============================] - 0s 21ms/step\n",
            "1/1 [==============================] - 0s 22ms/step\n",
            "1/1 [==============================] - 0s 22ms/step\n",
            "1/1 [==============================] - 0s 20ms/step\n",
            "예측 요약 :  mumbai may may\n",
            "\n",
            "\n",
            "input_seq_padded shape: (1, 50)\n",
            "원문 : play sonam kapoor love interest upcoming film ek ladki ko dekha toh aisa laga suggested reports trailer film shows sonam holding hands running another woman acted tamil kannada telugu films media industry since nine hosted tv show \n",
            "실제 요약 : plays sonam love interest ek ladki reports \n",
            "1/1 [==============================] - 0s 23ms/step\n",
            "1/1 [==============================] - 0s 22ms/step\n",
            "1/1 [==============================] - 0s 24ms/step\n",
            "1/1 [==============================] - 0s 23ms/step\n",
            "1/1 [==============================] - 0s 24ms/step\n",
            "1/1 [==============================] - 0s 24ms/step\n",
            "예측 요약 :  ranbir ranbir ranbir ranbir\n",
            "\n",
            "\n",
            "input_seq_padded shape: (1, 50)\n",
            "원문 : pune unit maharashtra anti terrorism squad arrested suspected khalistan terrorist ats said monday based interrogation accused another associate also arrested punjab ats said accused active social media used platform procure weapons youths \n",
            "실제 요약 : maharashtra ats arrests suspected khalistan terrorist \n",
            "1/1 [==============================] - 0s 22ms/step\n",
            "1/1 [==============================] - 0s 23ms/step\n",
            "1/1 [==============================] - 0s 23ms/step\n",
            "1/1 [==============================] - 0s 22ms/step\n",
            "1/1 [==============================] - 0s 21ms/step\n",
            "1/1 [==============================] - 0s 22ms/step\n",
            "1/1 [==============================] - 0s 21ms/step\n",
            "예측 요약 :  delhi airport airport airport airport\n",
            "\n",
            "\n",
            "input_seq_padded shape: (1, 50)\n",
            "원문 : two men taken custody eight crocodile found possession nashik maharashtra police reportedly got know matter receiving complaint wildlife activist raided house locality investigation launched matter \n",
            "실제 요약 : crocodile seized maharashtra \n",
            "1/1 [==============================] - 0s 22ms/step\n",
            "1/1 [==============================] - 0s 22ms/step\n",
            "1/1 [==============================] - 0s 20ms/step\n",
            "1/1 [==============================] - 0s 22ms/step\n",
            "1/1 [==============================] - 0s 22ms/step\n",
            "예측 요약 :  mumbai police mumbai\n",
            "\n",
            "\n",
            "input_seq_padded shape: (1, 50)\n",
            "원문 : chinese army sunday displayed pieces military hardware nearly half displayed first time public parade mark th founding anniversary weaponry included surface air missiles capable intercepting ballistic missiles along air ship missiles operate altitudes \n",
            "실제 요약 : china new mark army th anniversary \n",
            "1/1 [==============================] - 0s 22ms/step\n",
            "1/1 [==============================] - 0s 22ms/step\n",
            "1/1 [==============================] - 0s 23ms/step\n",
            "1/1 [==============================] - 0s 23ms/step\n",
            "1/1 [==============================] - 0s 22ms/step\n",
            "예측 요약 :  us army us\n",
            "\n",
            "\n",
            "input_seq_padded shape: (1, 50)\n",
            "원문 : swiss village become sudden tourist spot video filmmaker friends swimming river dubbing maldives milan went viral locals claimed influx tourists running semi naked street turned open air toilet reportedly one hour milan \n",
            "실제 요약 : swiss villagers angry viral video many tourists \n",
            "1/1 [==============================] - 0s 21ms/step\n",
            "1/1 [==============================] - 0s 22ms/step\n",
            "1/1 [==============================] - 0s 21ms/step\n",
            "1/1 [==============================] - 0s 23ms/step\n",
            "1/1 [==============================] - 0s 22ms/step\n",
            "1/1 [==============================] - 0s 21ms/step\n",
            "예측 요약 :  video woman found found\n",
            "\n",
            "\n",
            "input_seq_padded shape: (1, 50)\n",
            "원문 : india defeated south africa eight wickets sixth odi friday becoming second team beat proteas home bilateral odi series south africa lost australia seven match series match saw captain virat kohli slam th odi ton successful chases \n",
            "실제 요약 : india hand sa joint worst series defeat home \n",
            "1/1 [==============================] - 0s 21ms/step\n",
            "1/1 [==============================] - 0s 22ms/step\n",
            "1/1 [==============================] - 0s 22ms/step\n",
            "1/1 [==============================] - 0s 21ms/step\n",
            "1/1 [==============================] - 0s 22ms/step\n",
            "1/1 [==============================] - 0s 22ms/step\n",
            "1/1 [==============================] - 0s 23ms/step\n",
            "1/1 [==============================] - 0s 21ms/step\n",
            "예측 요약 :  india beat st indian th series\n",
            "\n",
            "\n",
            "input_seq_padded shape: (1, 50)\n",
            "원문 : fourth wife man madhya pradesh set third one fire victim refused divorce husband police arrested accused mother allegedly helped carrying crime victim admitted hospital said critical condition burns \n",
            "실제 요약 : man th wife sets rd fire husband \n",
            "1/1 [==============================] - 0s 22ms/step\n",
            "1/1 [==============================] - 0s 22ms/step\n",
            "1/1 [==============================] - 0s 21ms/step\n",
            "1/1 [==============================] - 0s 21ms/step\n",
            "1/1 [==============================] - 0s 22ms/step\n",
            "1/1 [==============================] - 0s 21ms/step\n",
            "1/1 [==============================] - 0s 25ms/step\n",
            "1/1 [==============================] - 0s 22ms/step\n",
            "1/1 [==============================] - 0s 21ms/step\n",
            "예측 요약 :  yr old girl girl yr old girl\n",
            "\n",
            "\n",
            "input_seq_padded shape: (1, 50)\n",
            "원문 : lawsuit filed new york based investor delhi hc accuses billionaire brothers malvinder shivinder singh diverting funds aid billion personal debt lending arm company religare enterprises made loans firms routed least million firms day according rbi investigation \n",
            "실제 요약 : billionaire singh brothers accused money \n",
            "1/1 [==============================] - 0s 21ms/step\n",
            "1/1 [==============================] - 0s 21ms/step\n",
            "1/1 [==============================] - 0s 22ms/step\n",
            "1/1 [==============================] - 0s 22ms/step\n",
            "1/1 [==============================] - 0s 23ms/step\n",
            "1/1 [==============================] - 0s 20ms/step\n",
            "1/1 [==============================] - 0s 23ms/step\n",
            "1/1 [==============================] - 0s 22ms/step\n",
            "예측 요약 :  google startup startup startup raises mn\n",
            "\n",
            "\n",
            "input_seq_padded shape: (1, 50)\n",
            "원문 : social media giant facebook board approved buyback additional billion worth shares thursday regulatory filing showed board previously authorised billion program since commenced filing said increase prior repurchase program date added \n",
            "실제 요약 : facebook buy back additional billion shares \n",
            "1/1 [==============================] - 0s 21ms/step\n",
            "1/1 [==============================] - 0s 21ms/step\n",
            "1/1 [==============================] - 0s 20ms/step\n",
            "1/1 [==============================] - 0s 23ms/step\n",
            "1/1 [==============================] - 0s 22ms/step\n",
            "예측 요약 :  google ceo ceo\n",
            "\n",
            "\n",
            "input_seq_padded shape: (1, 50)\n",
            "원문 : study american chinese researchers revealed rex stick tongue like lizards claiming incorrectly shown theme parks museums dinosaurs rooted bottom mouths like said researchers comparing tongue supporting bones modern birds crocodiles extinct dinosaur relatives \n",
            "실제 요약 : rex stick tongue models incorrect study \n",
            "1/1 [==============================] - 0s 21ms/step\n",
            "1/1 [==============================] - 0s 21ms/step\n",
            "1/1 [==============================] - 0s 22ms/step\n",
            "1/1 [==============================] - 0s 20ms/step\n",
            "예측 요약 :  scientists study\n",
            "\n",
            "\n",
            "input_seq_padded shape: (1, 50)\n",
            "원문 : bcci monday decided revoke ban imposed rajasthan cricket association since may condition former ipl commissioner lalit modi stays away functioning suspended elected modi president despite banned bcci suspension international ipl match played rajasthan \n",
            "실제 요약 : ban rajasthan cricket association revoked years \n",
            "1/1 [==============================] - 0s 21ms/step\n",
            "1/1 [==============================] - 0s 21ms/step\n",
            "1/1 [==============================] - 0s 22ms/step\n",
            "1/1 [==============================] - 0s 21ms/step\n",
            "1/1 [==============================] - 0s 22ms/step\n",
            "1/1 [==============================] - 0s 23ms/step\n",
            "예측 요약 :  bcci ceo india india\n",
            "\n",
            "\n",
            "input_seq_padded shape: (1, 50)\n",
            "원문 : us president donald trump told french counterpart emmanuel macron quit european union return bilateral trade deal us reports quoting european officials said trump repeatedly slammed eu amid ongoing trade dispute said bloc set take advantage us \n",
            "실제 요약 : trump told french prez macron quit european union report \n",
            "1/1 [==============================] - 0s 21ms/step\n",
            "1/1 [==============================] - 0s 22ms/step\n",
            "1/1 [==============================] - 0s 22ms/step\n",
            "1/1 [==============================] - 0s 23ms/step\n",
            "1/1 [==============================] - 0s 21ms/step\n",
            "예측 요약 :  trump trump trump\n",
            "\n",
            "\n",
            "input_seq_padded shape: (1, 50)\n",
            "원문 : former ufc women champion fight seconds agreed join wwe first american woman win olympic medal judo olympics notably consecutive mma fights lost two straight bouts knockouts decided move wwe \n",
            "실제 요약 : former ufc women champion joins wwe \n",
            "1/1 [==============================] - 0s 21ms/step\n",
            "1/1 [==============================] - 0s 24ms/step\n",
            "1/1 [==============================] - 0s 22ms/step\n",
            "1/1 [==============================] - 0s 22ms/step\n",
            "1/1 [==============================] - 0s 22ms/step\n",
            "1/1 [==============================] - 0s 21ms/step\n",
            "1/1 [==============================] - 0s 21ms/step\n",
            "예측 요약 :  indian player wins world time\n",
            "\n",
            "\n"
          ]
        }
      ]
    },
    {
      "cell_type": "markdown",
      "source": [
        "### summa 로 추출적 요약하기"
      ],
      "metadata": {
        "id": "NkGJ1ZwGvCwb"
      }
    },
    {
      "cell_type": "code",
      "source": [
        "!pip install summa"
      ],
      "metadata": {
        "colab": {
          "base_uri": "https://localhost:8080/"
        },
        "id": "7v8tDd2sGtu9",
        "outputId": "4e7a2f7c-60ef-47c9-b432-4baeceb241e1"
      },
      "execution_count": 299,
      "outputs": [
        {
          "output_type": "stream",
          "name": "stdout",
          "text": [
            "Requirement already satisfied: summa in /usr/local/lib/python3.10/dist-packages (1.2.0)\n",
            "Requirement already satisfied: scipy>=0.19 in /usr/local/lib/python3.10/dist-packages (from summa) (1.11.4)\n",
            "Requirement already satisfied: numpy<1.28.0,>=1.21.6 in /usr/local/lib/python3.10/dist-packages (from scipy>=0.19->summa) (1.23.5)\n"
          ]
        }
      ]
    },
    {
      "cell_type": "code",
      "source": [
        "!pip list | grep summa"
      ],
      "metadata": {
        "colab": {
          "base_uri": "https://localhost:8080/"
        },
        "id": "5cjBfmhmGtyb",
        "outputId": "aecd4f00-30b2-4bb0-be0d-b9f4029eaac2"
      },
      "execution_count": 300,
      "outputs": [
        {
          "output_type": "stream",
          "name": "stdout",
          "text": [
            "summa                            1.2.0\n",
            "torchsummary                     1.5.1\n"
          ]
        }
      ]
    },
    {
      "cell_type": "code",
      "source": [
        "import requests\n",
        "from summa.summarizer import summarize"
      ],
      "metadata": {
        "id": "yRm7FtkFGt18"
      },
      "execution_count": 301,
      "outputs": []
    },
    {
      "cell_type": "code",
      "source": [
        "import urllib.request\n",
        "urllib.request.urlretrieve(\"https://raw.githubusercontent.com/sunnysai12345/News_Summary/master/news_summary_more.csv\", filename=\"news_summary_more.csv\")\n",
        "# 데이터 로드\n",
        "data = pd.read_csv('news_summary_more.csv', encoding='iso-8859-1')\n",
        "\n",
        "# 예시로 첫 번째 뉴스 기사의 본문을 사용\n",
        "text = data['text'][0]\n",
        "\n",
        "# summarize 함수를 사용하여 요약 생성\n",
        "# ratio는 원본에서 요약문이 차지할 비율을 설정\n",
        "# words는 요약문의 단어 수를 지정\n",
        "# ratio와 words 중 하나만 설정\n",
        "summary = summarize(text, ratio=0.5)\n",
        "\n",
        "print(\"원문:\", text)\n",
        "print(\"\\n요약:\", summary)\n"
      ],
      "metadata": {
        "colab": {
          "base_uri": "https://localhost:8080/"
        },
        "id": "QKgbTok3Gt5d",
        "outputId": "ae582979-bbc8-44b5-ce35-cd26a53976ce"
      },
      "execution_count": 302,
      "outputs": [
        {
          "output_type": "stream",
          "name": "stdout",
          "text": [
            "원문: Saurav Kant, an alumnus of upGrad and IIIT-B's PG Program in Machine learning and Artificial Intelligence, was a Sr Systems Engineer at Infosys with almost 5 years of work experience. The program and upGrad's 360-degree career support helped him transition to a Data Scientist at Tech Mahindra with 90% salary hike. upGrad's Online Power Learning has powered 3 lakh+ careers.\n",
            "\n",
            "요약: upGrad's Online Power Learning has powered 3 lakh+ careers.\n"
          ]
        }
      ]
    },
    {
      "cell_type": "markdown",
      "source": [
        "# 회고\n",
        "---\n",
        "\n",
        "Keep: 계속 시도하는 것! 끝까지 포기 안하는 것!!!\n",
        "\n",
        "Problem: 중간에 에러가 떠서 왜 문제가 계속 뜨지 하면서 멘붕이 왔었는데, 중간에 변수를 잘못쓴 부분이 있었다.\n",
        "\n",
        "Try: 다음에도 시도를 계속하겠지만 멘탈을 빨리 부여잡는 노력을 해야겠다!"
      ],
      "metadata": {
        "id": "Epm-7Yllw6_S"
      }
    },
    {
      "cell_type": "code",
      "source": [],
      "metadata": {
        "id": "OCPSlJolxgIN"
      },
      "execution_count": null,
      "outputs": []
    }
  ]
}