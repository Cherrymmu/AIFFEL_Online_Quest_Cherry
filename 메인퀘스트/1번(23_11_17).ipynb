{
  "nbformat": 4,
  "nbformat_minor": 0,
  "metadata": {
    "colab": {
      "provenance": [],
      "authorship_tag": "ABX9TyMnLMoVKC6dlPO6aJbKPS3B",
      "include_colab_link": true
    },
    "kernelspec": {
      "name": "python3",
      "display_name": "Python 3"
    },
    "language_info": {
      "name": "python"
    }
  },
  "cells": [
    {
      "cell_type": "markdown",
      "metadata": {
        "id": "view-in-github",
        "colab_type": "text"
      },
      "source": [
        "<a href=\"https://colab.research.google.com/github/Cherrymmu/AIFFEL_Online_Quest_Cherry/blob/main/%EB%A9%94%EC%9D%B8%ED%80%98%EC%8A%A4%ED%8A%B8/1%EB%B2%88(23_11_17).ipynb\" target=\"_parent\"><img src=\"https://colab.research.google.com/assets/colab-badge.svg\" alt=\"Open In Colab\"/></a>"
      ]
    },
    {
      "cell_type": "markdown",
      "source": [
        "> # 메인퀘스트 1번\n",
        "\n",
        "Account 클래스: 은행 계좌 개설\n",
        "- 은행이름 : SC 은행\n",
        "- 예금주 : 파이썬\n",
        "- 계좌번호 : 111-11-111111\n",
        "- 잔액 : 10,000원\n",
        "\n",
        "Account 클래스 생성 생성자 구현\n",
        "\n",
        "생성자 예금주, 초기 잔액 입력"
      ],
      "metadata": {
        "id": "BmNNuEDJ5dun"
      }
    },
    {
      "cell_type": "markdown",
      "source": [
        "1. 입금 매서드 (입금횟수 5회 이상 1% 이자 잔고 추가)\n",
        "2. 출금 매서드\n",
        "3. 정보 출력 매서드 display_info(매서드 추가)\n",
        "4. 입출금 내역 매서드\n",
        "\n",
        "  - deposit_history 입금 내역 출력\n",
        "  - withdraw_history 출금 내역 출력\n",
        "\n",
        "  "
      ],
      "metadata": {
        "id": "svszsJX37dB5"
      }
    },
    {
      "cell_type": "code",
      "source": [
        "import random as r"
      ],
      "metadata": {
        "id": "ggydtC6nFO6g"
      },
      "execution_count": 3,
      "outputs": []
    },
    {
      "cell_type": "code",
      "execution_count": 7,
      "metadata": {
        "colab": {
          "base_uri": "https://localhost:8080/"
        },
        "id": "My-FM2nI4rdb",
        "outputId": "2aa6a60c-fd9e-4bc3-da8c-9d808efa8783"
      },
      "outputs": [
        {
          "output_type": "stream",
          "name": "stdout",
          "text": [
            "김수완의 SC은행 계좌 번호는 786-21-305099 입니다.\n",
            "이소율의 SC은행 계좌 번호는 116-54-883094 입니다.\n",
            "안내상의 SC은행 계좌 번호는 353-33-410090 입니다.\n",
            "홍채림의 SC은행 계좌 번호는 756-11-248145 입니다.\n",
            "Olaf의 SC은행 계좌 번호는 868-32-796606 입니다.\n"
          ]
        }
      ],
      "source": [
        "class Account:\n",
        "  # Q2.클래스 변수\n",
        "  account_cnt = 0\n",
        "\n",
        "  def __init__(self, name, balance):\n",
        "    self.name = name # Q1.예금주\n",
        "    self.balance = balance #Q1.초기잔액\n",
        "    self.bank = \"SC은행\"\n",
        "    self.account_num = self.new_account_num()\n",
        "    self.deposit_statement  = [] # 입금 명세서\n",
        "    self.deposit_count = 0 #입금 횟수 관리 : 이자 관련\n",
        "    self.deposit_history = [] # 입금 내역서\n",
        "    self.withdraw_history = [] # 출금 내역서\n",
        "\n",
        "    #Q2. 계좌 생성 -> 변수에 += 1\n",
        "    Account.account_cnt += 1\n",
        "\n",
        "  # Q1. 랜덤한 계좌번호\n",
        "  def new_account_num(self):\n",
        "    n1 = r.randint(100, 999)\n",
        "    n2 = r.randint(10, 99)\n",
        "    n3 = r.randint(100000, 999999)\n",
        "    account_num = f\"{n1}-{n2}-{n3}\"\n",
        "    print (f\"{self.name}의 {self.bank} 계좌 번호는 {n1}-{n2}-{n3} 입니다.\")\n",
        "    return account_num\n",
        "\n",
        "  # Q3. 클래스 내부에 생성된 께좌 갯수 센것을 받아야 해서, 클래스 매서드를 만듬.\n",
        "  @classmethod\n",
        "  def get_account_num(cls):\n",
        "    print(f\"총 계좌의 개수는 {cls.account_cnt} 입니다.\")\n",
        "\n",
        "  # Q4. 입금 매서드\n",
        "  def deposit(self, amount):\n",
        "    if self.amount >= 1:\n",
        "        self.deposit_statement.append(amount) # 입금액을 순차적으로 명세서에 추가\n",
        "        self.balance += amount\n",
        "        print(\"입금 되었습니다. \")\n",
        "\n",
        "        #Q7.위 생성자에서 deopsit_count에 몇번 입금되었는지 숫자를 세는 것\n",
        "        self.deposit_count += 1\n",
        "        if self.deposit_count % 5 == 0:\n",
        "          self.balance *= 1.01 # 총금액: 금액 + 1%\n",
        "          print(\"이자가 입금되었습니다. \")\n",
        "\n",
        "  # Q5. 출금 매서드\n",
        "  def withdraw(self, amount):\n",
        "    if self.balance >= amount: #잔액이 출금액보다 큰경우\n",
        "        self.balance -= amount # 잔액이 출금액과 같은 경우\n",
        "    else:\n",
        "      print(\"잔액이 부족합니다. \") # 잔액이 출금액보다 적은 경우\n",
        "\n",
        "  # Q6. 정보 출력 매서드\n",
        "  def display_info(self):\n",
        "    print(f\"은행이름: {self.bank}\")\n",
        "    print(f\"예금주: {self.name}\")\n",
        "    print(f\"계좌번호: {self.account_num}\")\n",
        "    print(f\"잔고: {format(self.balance, ',')}원\")\n",
        "\n",
        "  # Q10. deposit_history\n",
        "  def deposit_history(self):\n",
        "    print (f\"입금액을 확인하시겠습니까? :\")\n",
        "    p = 0\n",
        "    while p != 1 and p != 2:\n",
        "      p = int(input(\"확인을 원하시면 1번, 그렇지 않다면 2번을 눌러주세요 : \"))\n",
        "      if p == 1:\n",
        "        for amount in self.deposit_history:\n",
        "          print(amount)\n",
        "      elif p == 2:\n",
        "        print(\"이용해주셔서 감사합니다. \")\n",
        "      else:\n",
        "        print(\"잘못누르셨습니다. 다시 이용바랍니다. \")\n",
        "\n",
        "  # Q10. withdraw_history\n",
        "  def withdraw_history(self):\n",
        "    print (f\"출금액을 확인하시겠습니까? :\")\n",
        "    n = 0\n",
        "    while n != 1 and n != 2:\n",
        "      n = int(input(\"확인을 원하시면 1번, 그렇지 않다면 2번을 눌러주세요 : \"))\n",
        "      if n == 1:\n",
        "        for amount in self.withdraw_history:\n",
        "          print(amount)\n",
        "      elif n == 2:\n",
        "          print(\"이용해주셔서 감사합니다. \")\n",
        "      else:\n",
        "          print(\"잘못누르셨습니다. 다시 이용바랍니다. \")\n",
        "\n",
        "# Q8. 3개이상 5개\n",
        "계좌1 = Account(\"김수완\", 50000)\n",
        "계좌2 = Account(\"이소율\", 30000)\n",
        "계좌3 = Account(\"안내상\", 20000)\n",
        "계좌4 = Account(\"홍채림\", 70000)\n",
        "계좌5 = Account(\"Olaf\", 66000)\n",
        "# Q8. 리스트 저장\n",
        "accounts = [계좌1, 계좌2, 계좌3, 계좌4, 계좌5]\n",
        "# Q9. 1,000,000만원 이상 고객정보만 출력\n",
        "for 계좌 in accounts:\n",
        "  if 계좌.balance >= 1000000:\n",
        "    계좌.display_info()\n",
        "    print()\n"
      ]
    }
  ]
}