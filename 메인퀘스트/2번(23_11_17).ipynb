{
  "nbformat": 4,
  "nbformat_minor": 0,
  "metadata": {
    "colab": {
      "provenance": [],
      "authorship_tag": "ABX9TyO769XvVmCPrl22AKtHPAn2",
      "include_colab_link": true
    },
    "kernelspec": {
      "name": "python3",
      "display_name": "Python 3"
    },
    "language_info": {
      "name": "python"
    }
  },
  "cells": [
    {
      "cell_type": "markdown",
      "metadata": {
        "id": "view-in-github",
        "colab_type": "text"
      },
      "source": [
        "<a href=\"https://colab.research.google.com/github/Cherrymmu/AIFFEL_Online_Quest_Cherry/blob/main/%EB%A9%94%EC%9D%B8%ED%80%98%EC%8A%A4%ED%8A%B8/2%EB%B2%88(23_11_17).ipynb\" target=\"_parent\"><img src=\"https://colab.research.google.com/assets/colab-badge.svg\" alt=\"Open In Colab\"/></a>"
      ]
    },
    {
      "cell_type": "markdown",
      "source": [
        "> # 메인퀘스트 2번\n",
        "\n",
        "아이펠 캠퍼스 학번, 퀘스트 점수 관리 시스템\n",
        "Class Aiffel 만들기\n",
        "\n",
        "- 이름\n",
        "- 입학년도\n",
        "- 기수\n",
        "- 과정명\n",
        "\n",
        "학번:7자리로 이루어짐\n",
        "\n",
        "학번 생성 규칙:\n",
        "\n",
        "- YY : 연도 마지막 두 자리 (ex. 2023년은 23)\n",
        "- NN : 기수 (온라인 7기는 29기)\n",
        "- C : 과정 종류 (리서치=1, 코어=2)\n",
        "- XX : 가나다순 번호\n",
        "\n",
        "\n",
        "https://python.flowdas.com/library/csv.html\n"
      ],
      "metadata": {
        "id": "9m1owXIXvuKR"
      }
    },
    {
      "cell_type": "code",
      "source": [
        "import csv\n",
        "import random\n",
        "\n",
        "class Aiffel:\n",
        "    id_counter = 0\n",
        "    power = False  # 전원 상태 추가\n",
        "\n",
        "    # Q1. 코어 명단 작성하기\n",
        "    def __init__(self, 이름, 입학연도, 기수, 과정명):\n",
        "        self.students = {}\n",
        "        students_sorted = sorted(이름.keys())\n",
        "        for index, name in enumerate(students_sorted):\n",
        "            year = str(입학연도)[2:] # 연도 마지막 두자리\n",
        "            number = str(기수).zfill(2) # 기수를 두자리 수로 zfill을 통해 맞춰줌\n",
        "            course = str(과정명).zfill(1) # 과정 종류를 한자리 수로 맞춤\n",
        "            student_number = year + number + course + str(index + 1).zfill(2) # 학생순서를의미: 문자열 길이 맞추기\n",
        "            self.students[name] = {\n",
        "                'id': student_number,\n",
        "                'score': 0,\n",
        "                'score_plus': 0,\n",
        "                'penalty': 0,\n",
        "                'guild_score': 0,\n",
        "            }\n",
        "            Aiffel.id_counter += 1\n",
        "\n",
        "        self.power = True  # 전원 상태를 True로 설정\n",
        "\n",
        "    # Q2. Aiffel 클래스에서 생성된 학번 출력 매서드\n",
        "    @staticmethod\n",
        "    def get_id_num():\n",
        "        print(f\"학번 개수는 {Aiffel.id_counter} 입니다.\")\n",
        "\n",
        "    def score(self, name, score_plus):\n",
        "        if score_plus < 1 or score_plus > 3:\n",
        "            print(\"점수를 부여해주세요\")\n",
        "        else:\n",
        "            self.students[name]['score'] += score_plus\n",
        "        self.students[name]['score_plus'] += score_plus\n",
        "        print(f\" {name} 학생에게 {score_plus}이 부여 되었습니다.\")\n",
        "\n",
        "\n",
        "    # Q4. 퀘스트 점수 차감\n",
        "    def penalty(self, name, penalty):\n",
        "        self.students[name]['score'] -= penalty\n",
        "        self.students[name]['penalty'] += penalty\n",
        "        print (f\" {name} 학생에게 {penalty}이 차감 되었습니다.\")\n",
        "\n",
        "    # Q6. 중도포기자 입력\n",
        "    def drop_out(self, name):\n",
        "        try:\n",
        "            del self.students[name]\n",
        "            print(f\"{name}을 명단에서 삭제하였습니다.\")\n",
        "        except KeyError:\n",
        "            print(f\"{name}은(는) 명단에 없습니다.\")\n",
        "\n",
        "    # Q7. 그룹은 총 8개 (상생, 신뢰, 열정, 이끔, 성장, 가치, 공유, 확산)\n",
        "class Aiffel_Group(Aiffel):\n",
        "    def __init__(self, 이름, 입학연도, 기수, 과정명):\n",
        "        super().__init__(이름, 입학연도, 기수, 과정명)\n",
        "        self.group_names = [\"상생\", \"신뢰\", \"열정\", \"이끔\", \"성장\", \"가치\", \"공유\", \"확산\"]\n",
        "        self.groups = []\n",
        "\n",
        "\n",
        "        # 'group_score' 항목 추가\n",
        "        for student in self.students:\n",
        "            self.students[student]['group_score'] = 0\n",
        "\n",
        "    # Q7...\n",
        "    def make_group(self, num):\n",
        "      students = list(self.students.keys())\n",
        "      random.shuffle(students)\n",
        "      self.groups = [students[n:n+num] for n in range(0, len(students), num)]\n",
        "\n",
        "      for i in range(len(self.groups)):\n",
        "          for student in self.groups[i]:\n",
        "              self.students[student]['group'] = self.group_names[i]\n",
        "\n",
        "      for student, info in self.students.items():\n",
        "          group_name = info['group']\n",
        "          print(f\"{student}의 그룹은 {group_name}입니다.\")\n",
        "      return self.groups\n",
        "\n",
        "    #그룹 점수가 영향을 끼치는 것\n",
        "    def add_group_score(self, group_name, group_score):\n",
        "      group_count = 0\n",
        "      for student, info in self.students.items():\n",
        "          if 'group' in info and info['group'] == group_name:\n",
        "              self.students[student]['guild_score'] += group_score\n",
        "              self.students[student]['group_score'] += group_score\n",
        "              group_count += 1\n",
        "              print(f\"{student} 학생의 그룹 점수가 {group_score}점 추가 되였습니다.\")\n",
        "\n",
        "  #  Q11\n",
        "    def display_info(self):\n",
        "        group_scores = {group_name: 0 for group_name in self.group_names}\n",
        "\n",
        "        for student, info in self.students.items():\n",
        "            if 'group' in info:\n",
        "                group_scores[info['group']] += info['guild_score']\n",
        "\n",
        "        with open('new_core_students.csv', 'w', newline='') as file:\n",
        "            입력담당관 = csv.writer(file)\n",
        "            입력담당관.writerow([\"이름\", \"학번\", \"과정종류\", \"퀘스트 점수 총점\", \"퀘스트 입력 총점\", \"퀘스트 penalty 총합\", \"그룹명\", \"길드명\", \"길드 점수\", \"그룹별 스코어 총합\"])\n",
        "            for group_name, students in zip(self.group_names, self.groups):\n",
        "                for student in students:\n",
        "                    info = self.students[student]\n",
        "                    입력담당관.writerow([student, info['id'], '코어', info['score'], info['score_plus'], info['penalty'], info['group'], '', info['guild_score'], group_scores.get(info['group'], '')])\n",
        "        print(f\"학생 정보를 등록하였습니다.\")\n",
        "# Q8\n",
        "class Aiffel_Guild(Aiffel_Group):\n",
        "    def __init__(self, 이름, 입학연도, 기수, 과정명):\n",
        "        super().__init__(이름, 입학연도, 기수, 과정명)\n",
        "        self.guilds = {}\n",
        "        for student, info in self.students.items():\n",
        "            info['group_score'] = 0\n",
        "            info['guild_score'] = 0\n",
        "\n",
        "    # 길드 추가\n",
        "    def add_guild(self, guild_name):\n",
        "        if guild_name not in self.guilds:\n",
        "            self.guilds[guild_name] = []\n",
        "\n",
        "\n",
        "    def add_student_to_guild(self, name, guild_name):\n",
        "        if guild_name in self.guilds:\n",
        "            if name in self.students:\n",
        "                self.guilds[guild_name].append(name)\n",
        "                self.students[name]['guild'] = guild_name\n",
        "            else:\n",
        "                print(f\" {name} 학생이 학생 리스트에 없습니다.\")\n",
        "        else:\n",
        "            print(f\"{guild_name} 길드가 길드 리스트에 없습니다.\")\n",
        "\n",
        "\n",
        "    # 길드로 셔플해서 랜덤하게\n",
        "    def make_guild(self):\n",
        "        guilds_list = [\"힌튼\", \"응\", \"하사비스\"]\n",
        "        students = list(self.students.keys())\n",
        "        random.shuffle(students)\n",
        "        self.guilds = {guild: [] for guild in guilds_list}\n",
        "        for i in range(len(students)):\n",
        "            guild = guilds_list[i % len(guilds_list)]\n",
        "            self.guilds[guild].append(students[i])\n",
        "            self.students[students[i]]['guild'] = guild\n",
        "\n",
        "        for guild, students in self.guilds.items():\n",
        "            print(f\"{guild} 길드: {students}\")\n",
        "        return self.guilds\n",
        "\n",
        "    # Q9 길드 점수 부여\n",
        "    def add_guild_score(self, guild_name, score):\n",
        "        if guild_name in self.guilds:\n",
        "          for student in self.guilds[guild_name]:\n",
        "              self.students[student]['guild_score'] += score\n",
        "              print(f\"{student} 학생의 길드 점수가 {score}점 증가하였습니다.\")\n",
        "        else:\n",
        "          print(f\"{guild_name} 길드가 존재하지 않습니다.\")\n",
        "\n",
        "    def add_group_score(self, group_name, group_score):\n",
        "        for student, info in self.students.items():\n",
        "            if 'group' in info and info['group'] == group_name:\n",
        "                self.students[student]['guild_score'] += group_score\n",
        "\n",
        "    def show_student_score(self, name):\n",
        "        print(f\" {name} 학생의 개인 점수: {self.students[name]['score']}\")\n",
        "        print(f\" {name} 학생의 그룹 점수: {self.students[name]['group_score']}\")\n",
        "        print(f\" {name} 학생의 길드 점수: {self.students[name]['guild_score']}\")\n",
        "\n",
        "\n",
        "    # Q11\n",
        "    def display_info(self):\n",
        "        group_scores = {group_name: 0 for group_name in self.group_names}\n",
        "        guild_scores = {guild_name: 0 for guild_name in self.guilds}\n",
        "\n",
        "        for student, info in self.students.items():\n",
        "            if 'group' in info:\n",
        "                group_scores[info['group']] += info['guild_score']\n",
        "                guild_name = info.get('guild')\n",
        "                if guild_name:\n",
        "                    guild_scores[guild_name] += info['guild_score']\n",
        "\n",
        "        with open('new_core_students.csv', 'w', newline='') as file:\n",
        "          writer = csv.writer(file)\n",
        "          writer.writerow([\"이름\", \"학번\", \"과정종류\", \"퀘스트 점수 총점\", \"퀘스트 입력 총점\", \"퀘스트 penalty 총합\", \"그룹명\", \"길드명\", \"길드 점수\", \"그룹 점수\", \"그룹별 스코어 총합\", \"길드별 스코어 총합\"])\n",
        "          for group_name, students in zip(self.group_names, self.groups):\n",
        "              for student in students:\n",
        "                  info = self.students[student]\n",
        "                  writer.writerow([student, info['id'], '코어', info['score'], info['score_plus'], info['penalty'], info['group'], info.get('guild', ''), info['guild_score'], info['group_score'], group_scores.get(info['group'], ''), guild_scores.get(info.get('guild', ''), '')])\n",
        "        print(f\"학생 정보를 등록하였습니다.\")\n",
        "\n",
        "#코어 명단\n",
        "core_students = core_students = {\n",
        "    '강영현': {'id': '학번1', '길드': '길드1'},\n",
        "    '김경민': {'id': '학번2', '길드': '길드2'},\n",
        "    '김민기': {'id': '학번3', '길드': '길드1'},\n",
        "    '김승순': {'id': '학번4', '길드': '길드2'},\n",
        "    '김양희': {'id': '학번5', '길드': '길드1'},\n",
        "    '김영신': {'id': '학번6', '길드': '길드2'},\n",
        "    '오우진': {'id': '학번7', '길드': '길드1'},\n",
        "    '윤혜윤': {'id': '학번8', '길드': '길드2'},\n",
        "    '이상원': {'id': '학번9', '길드': '길드1'},\n",
        "    '이선재': {'id': '학번10', '길드': '길드2'},\n",
        "    '이슬': {'id': '학번11', '길드': '길드1'},\n",
        "    '이승환': {'id': '학번12', '길드': '길드2'},\n",
        "    '전민규': {'id': '학번13', '길드': '길드1'},\n",
        "    '조보겸': {'id': '학번14', '길드': '길드2'},\n",
        "    '조수민': {'id': '학번15', '길드': '길드1'},\n",
        "    '최강훈': {'id': '학번16', '길드': '길드2'},\n",
        "    '한현종': {'id': '학번17', '길드': '길드1'},\n",
        "    '홍채림': {'id': '학번18', '길드': '길드2'}\n",
        "}\n",
        "print(core_students)\n",
        "\n",
        "입학연도 = 2023  # 입학연도\n",
        "기수 = 29  # 기수\n",
        "과정명 = 2 # 과정종류\n"
      ],
      "metadata": {
        "id": "Da1sLd4WGA-u",
        "colab": {
          "base_uri": "https://localhost:8080/"
        },
        "outputId": "857945f8-9e0c-441d-c969-3f4c6da87b79"
      },
      "execution_count": 265,
      "outputs": [
        {
          "output_type": "stream",
          "name": "stdout",
          "text": [
            "{'강영현': {'id': '학번1', '길드': '길드1'}, '김경민': {'id': '학번2', '길드': '길드2'}, '김민기': {'id': '학번3', '길드': '길드1'}, '김승순': {'id': '학번4', '길드': '길드2'}, '김양희': {'id': '학번5', '길드': '길드1'}, '김영신': {'id': '학번6', '길드': '길드2'}, '오우진': {'id': '학번7', '길드': '길드1'}, '윤혜윤': {'id': '학번8', '길드': '길드2'}, '이상원': {'id': '학번9', '길드': '길드1'}, '이선재': {'id': '학번10', '길드': '길드2'}, '이슬': {'id': '학번11', '길드': '길드1'}, '이승환': {'id': '학번12', '길드': '길드2'}, '전민규': {'id': '학번13', '길드': '길드1'}, '조보겸': {'id': '학번14', '길드': '길드2'}, '조수민': {'id': '학번15', '길드': '길드1'}, '최강훈': {'id': '학번16', '길드': '길드2'}, '한현종': {'id': '학번17', '길드': '길드1'}, '홍채림': {'id': '학번18', '길드': '길드2'}}\n"
          ]
        }
      ]
    },
    {
      "cell_type": "code",
      "source": [
        "# Aiffel_Group 객체\n",
        "aiffel_group = Aiffel_Group(core_students, 2023, 29, 'core')\n",
        "\n",
        "# 그룹 만들기\n",
        "aiffel_group.make_group(6)  # 6명씩 그룹으로 묶기\n",
        "\n",
        "# 그룹에 점수 부여하기\n",
        "aiffel_group.add_group_score('열정', 2)"
      ],
      "metadata": {
        "id": "3O7Hu9r4oB-m",
        "colab": {
          "base_uri": "https://localhost:8080/"
        },
        "outputId": "2a180e80-af5f-43f7-ad84-963b70dbf051"
      },
      "execution_count": 266,
      "outputs": [
        {
          "output_type": "stream",
          "name": "stdout",
          "text": [
            "강영현의 그룹은 신뢰입니다.\n",
            "김경민의 그룹은 상생입니다.\n",
            "김민기의 그룹은 신뢰입니다.\n",
            "김승순의 그룹은 상생입니다.\n",
            "김양희의 그룹은 열정입니다.\n",
            "김영신의 그룹은 상생입니다.\n",
            "오우진의 그룹은 열정입니다.\n",
            "윤혜윤의 그룹은 신뢰입니다.\n",
            "이상원의 그룹은 신뢰입니다.\n",
            "이선재의 그룹은 열정입니다.\n",
            "이슬의 그룹은 상생입니다.\n",
            "이승환의 그룹은 신뢰입니다.\n",
            "전민규의 그룹은 신뢰입니다.\n",
            "조보겸의 그룹은 열정입니다.\n",
            "조수민의 그룹은 상생입니다.\n",
            "최강훈의 그룹은 열정입니다.\n",
            "한현종의 그룹은 상생입니다.\n",
            "홍채림의 그룹은 열정입니다.\n",
            "김양희 학생의 그룹 점수가 2점 추가 되였습니다.\n",
            "오우진 학생의 그룹 점수가 2점 추가 되였습니다.\n",
            "이선재 학생의 그룹 점수가 2점 추가 되였습니다.\n",
            "조보겸 학생의 그룹 점수가 2점 추가 되였습니다.\n",
            "최강훈 학생의 그룹 점수가 2점 추가 되였습니다.\n",
            "홍채림 학생의 그룹 점수가 2점 추가 되였습니다.\n"
          ]
        }
      ]
    },
    {
      "cell_type": "code",
      "source": [
        "aiffel_guild.add_guild_score('하사비스', 3)"
      ],
      "metadata": {
        "colab": {
          "base_uri": "https://localhost:8080/"
        },
        "id": "vPB9xn8lxiyP",
        "outputId": "ee2e3c8b-f1f5-47e5-be86-852fc9294852"
      },
      "execution_count": 259,
      "outputs": [
        {
          "output_type": "stream",
          "name": "stdout",
          "text": [
            "윤혜윤 학생의 길드 점수가 3점 증가하였습니다.\n",
            "오우진 학생의 길드 점수가 3점 증가하였습니다.\n",
            "이선재 학생의 길드 점수가 3점 증가하였습니다.\n",
            "이승환 학생의 길드 점수가 3점 증가하였습니다.\n",
            "김경민 학생의 길드 점수가 3점 증가하였습니다.\n",
            "이슬 학생의 길드 점수가 3점 증가하였습니다.\n"
          ]
        }
      ]
    },
    {
      "cell_type": "code",
      "source": [
        "# 랜덤하게 길드 생성\n",
        "aiffel_guild = Aiffel_Guild(core_students, 2023, 29, 'core')\n",
        "guilds = aiffel_guild.make_guild()\n",
        "aiffel_guild.display_info()"
      ],
      "metadata": {
        "colab": {
          "base_uri": "https://localhost:8080/"
        },
        "id": "rBBCHjg36tyH",
        "outputId": "ebbb32a6-69fc-4dd0-d013-ac47ec490d13"
      },
      "execution_count": 238,
      "outputs": [
        {
          "output_type": "stream",
          "name": "stdout",
          "text": [
            "힌튼 길드: ['이상원', '홍채림', '김양희', '한현종', '조수민', '강영현']\n",
            "응 길드: ['조보겸', '김민기', '최강훈', '김영신', '김승순', '전민규']\n",
            "하사비스 길드: ['윤혜윤', '오우진', '이선재', '이승환', '김경민', '이슬']\n",
            "학생 정보를 등록하였습니다.\n"
          ]
        }
      ]
    },
    {
      "cell_type": "code",
      "source": [
        "# 개인점수, 그룹점수, 길드 점수\n",
        "aiffel_guild.show_student_score('강영현')"
      ],
      "metadata": {
        "colab": {
          "base_uri": "https://localhost:8080/"
        },
        "id": "mXUFcT-_6BTy",
        "outputId": "5cb832a3-1f7c-4ca6-b96e-d1ef5a52fd5e"
      },
      "execution_count": 240,
      "outputs": [
        {
          "output_type": "stream",
          "name": "stdout",
          "text": [
            " 강영현 학생의 개인 점수: 0\n",
            " 강영현 학생의 그룹 점수: 0\n",
            " 강영현 학생의 길드 점수: 0\n"
          ]
        }
      ]
    },
    {
      "cell_type": "code",
      "source": [
        "# 학번 개수 만들기\n",
        "aiffel_instance = Aiffel(core_students, 입학연도, 기수, 과정명)\n",
        "aiffel_instance.get_id_num()"
      ],
      "metadata": {
        "colab": {
          "base_uri": "https://localhost:8080/"
        },
        "id": "JE1HjAHhXS8H",
        "outputId": "11b0bb75-82c5-4beb-df00-8cb5345a6051"
      },
      "execution_count": 241,
      "outputs": [
        {
          "output_type": "stream",
          "name": "stdout",
          "text": [
            "학번 개수는 54 입니다.\n"
          ]
        }
      ]
    },
    {
      "cell_type": "code",
      "source": [
        "# 학번\n",
        "student_id = aiffel_instance.students['김승순']['id']\n",
        "student_id"
      ],
      "metadata": {
        "colab": {
          "base_uri": "https://localhost:8080/",
          "height": 36
        },
        "id": "bxzblgVYZF1p",
        "outputId": "7de11e39-5534-42c4-cad5-ff35096b82f7"
      },
      "execution_count": 228,
      "outputs": [
        {
          "output_type": "execute_result",
          "data": {
            "text/plain": [
              "'2329204'"
            ],
            "application/vnd.google.colaboratory.intrinsic+json": {
              "type": "string"
            }
          },
          "metadata": {},
          "execution_count": 228
        }
      ]
    },
    {
      "cell_type": "code",
      "source": [
        "student_id = aiffel_instance.students['조수민']['id']\n",
        "student_id"
      ],
      "metadata": {
        "colab": {
          "base_uri": "https://localhost:8080/",
          "height": 36
        },
        "id": "fJR6vzQotM8O",
        "outputId": "2c144d62-de3c-4f27-9ec9-38fdb5fc693d"
      },
      "execution_count": 204,
      "outputs": [
        {
          "output_type": "execute_result",
          "data": {
            "text/plain": [
              "'2329215'"
            ],
            "application/vnd.google.colaboratory.intrinsic+json": {
              "type": "string"
            }
          },
          "metadata": {},
          "execution_count": 204
        }
      ]
    },
    {
      "cell_type": "code",
      "source": [
        "student_id = aiffel_instance.students['이슬']['id']\n",
        "student_id"
      ],
      "metadata": {
        "colab": {
          "base_uri": "https://localhost:8080/",
          "height": 36
        },
        "id": "TA2UaNvZtPtM",
        "outputId": "965acba4-907b-441d-d728-798b907be629"
      },
      "execution_count": 184,
      "outputs": [
        {
          "output_type": "execute_result",
          "data": {
            "text/plain": [
              "'2329211'"
            ],
            "application/vnd.google.colaboratory.intrinsic+json": {
              "type": "string"
            }
          },
          "metadata": {},
          "execution_count": 184
        }
      ]
    },
    {
      "cell_type": "code",
      "source": [
        "# 그루 점수 부여\n",
        "aiffel_grew = Aiffel_Guild(core_students, 2023, 29, 'core')\n",
        "aiffel_grew.score('홍채림', 2)\n",
        "aiffel_grew.penalty('홍채림', 1)"
      ],
      "metadata": {
        "colab": {
          "base_uri": "https://localhost:8080/"
        },
        "id": "tvwp1bXK7b1A",
        "outputId": "a89abfeb-6dbe-43a8-c2fc-7d2ec5c90cd5"
      },
      "execution_count": 242,
      "outputs": [
        {
          "output_type": "stream",
          "name": "stdout",
          "text": [
            " 홍채림 학생에게 2이 부여 되었습니다.\n",
            " 홍채림 학생에게 1이 차감 되었습니다.\n"
          ]
        }
      ]
    },
    {
      "cell_type": "code",
      "source": [
        "aiffel_grew = Aiffel(core_students, 2023, 29, 'core')\n",
        "aiffel_grew.drop_out('김경민')\n",
        "aiffel_grew.drop_out('김영신')"
      ],
      "metadata": {
        "colab": {
          "base_uri": "https://localhost:8080/"
        },
        "id": "DULrp-hK-57Q",
        "outputId": "7479c27d-c2a0-4e7e-e623-39d7bd4faa87"
      },
      "execution_count": 267,
      "outputs": [
        {
          "output_type": "stream",
          "name": "stdout",
          "text": [
            "김경민을 명단에서 삭제하였습니다.\n",
            "김영신을 명단에서 삭제하였습니다.\n"
          ]
        }
      ]
    },
    {
      "cell_type": "markdown",
      "source": [
        "# **회고**\n",
        "\n",
        "메인 퀘스트 1번을 푸는데 너무 시간을 많이 쏟아서 제대로 실행해보지도 못하고 메인퀘스트 2번을 만들고 그냥 제출했다. 그래서 구글링한 내용 마구잡이로 집어넣다보니 오류가 계속 떴다.\n",
        "특히 개인점수 그룹점수 길드점수를 나누어서 각각 점수를 더하고 빼주는 것이 쉽지 않았고 오늘 배운 판다스의 데이터 프레임을 활용했으면 조금 더 가독성이 좋은 출력값이 나오게 되었을 것 같아 아쉬웠다.\n",
        "\n",
        "그래서 결론은\n",
        "종종 이 코드를 찾아서 혼자 연구를 좀 더 진행해봐야겠다.\n",
        "\n",
        "언젠가는 조금 더 가독성이 좋고, 가볍게 코드를 짤 수 있지 않을까한다.\n"
      ],
      "metadata": {
        "id": "iIepgYupCRSR"
      }
    }
  ]
}