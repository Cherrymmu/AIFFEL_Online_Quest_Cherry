{
  "cells": [
    {
      "cell_type": "markdown",
      "metadata": {
        "id": "view-in-github",
        "colab_type": "text"
      },
      "source": [
        "<a href=\"https://colab.research.google.com/github/Cherrymmu/AIFFEL_Online_Quest_Cherry/blob/main/%ED%94%84%EB%A1%9C%EC%A0%9D%ED%8A%B8/%EB%A8%B8%EC%8B%A0%EB%9F%AC%EB%8B%9D/10_%E1%84%86%E1%85%A5%E1%84%89%E1%85%B5%E1%86%AB%E1%84%85%E1%85%A5%E1%84%82%E1%85%B5%E1%86%BC_%E1%84%91%E1%85%B3%E1%84%85%E1%85%A9%E1%84%8C%E1%85%A6%E1%86%A8%E1%84%90%E1%85%B3.ipynb\" target=\"_parent\"><img src=\"https://colab.research.google.com/assets/colab-badge.svg\" alt=\"Open In Colab\"/></a>"
      ]
    },
    {
      "cell_type": "markdown",
      "id": "0a4bda7c",
      "metadata": {
        "id": "0a4bda7c"
      },
      "source": [
        "# 머신러닝 프로젝트"
      ]
    },
    {
      "cell_type": "markdown",
      "id": "9bc72605",
      "metadata": {
        "id": "9bc72605"
      },
      "source": [
        "## 데이터 전처리"
      ]
    },
    {
      "cell_type": "code",
      "execution_count": null,
      "id": "b1befb99",
      "metadata": {
        "id": "b1befb99"
      },
      "outputs": [],
      "source": [
        "# 라이브러리\n",
        "import pandas as pd"
      ]
    },
    {
      "cell_type": "code",
      "execution_count": null,
      "id": "c46a5d1f",
      "metadata": {
        "id": "c46a5d1f"
      },
      "outputs": [],
      "source": [
        "# 데이터 불러오기\n",
        "train = pd.read_csv('/aiffel/data/train.csv')\n",
        "test = pd.read_csv('/aiffel/data/test.csv')"
      ]
    },
    {
      "cell_type": "code",
      "execution_count": null,
      "id": "23ed5fa6",
      "metadata": {
        "id": "23ed5fa6",
        "outputId": "5ecc6f8c-772a-43a3-9d89-8de271f7bed5"
      },
      "outputs": [
        {
          "data": {
            "text/plain": [
              "((39116, 16), (9779, 15))"
            ]
          },
          "execution_count": 236,
          "metadata": {},
          "output_type": "execute_result"
        }
      ],
      "source": [
        "# 데이터 크기\n",
        "train.shape, test.shape"
      ]
    },
    {
      "cell_type": "code",
      "execution_count": null,
      "id": "e8814257",
      "metadata": {
        "id": "e8814257",
        "outputId": "0b4e0f2e-96be-4eb0-ad9c-5c746177f092"
      },
      "outputs": [
        {
          "data": {
            "text/html": [
              "<div>\n",
              "<style scoped>\n",
              "    .dataframe tbody tr th:only-of-type {\n",
              "        vertical-align: middle;\n",
              "    }\n",
              "\n",
              "    .dataframe tbody tr th {\n",
              "        vertical-align: top;\n",
              "    }\n",
              "\n",
              "    .dataframe thead th {\n",
              "        text-align: right;\n",
              "    }\n",
              "</style>\n",
              "<table border=\"1\" class=\"dataframe\">\n",
              "  <thead>\n",
              "    <tr style=\"text-align: right;\">\n",
              "      <th></th>\n",
              "      <th>id</th>\n",
              "      <th>name</th>\n",
              "      <th>host_id</th>\n",
              "      <th>host_name</th>\n",
              "      <th>neighbourhood_group</th>\n",
              "      <th>neighbourhood</th>\n",
              "      <th>latitude</th>\n",
              "      <th>longitude</th>\n",
              "      <th>room_type</th>\n",
              "      <th>price</th>\n",
              "      <th>minimum_nights</th>\n",
              "      <th>number_of_reviews</th>\n",
              "      <th>last_review</th>\n",
              "      <th>reviews_per_month</th>\n",
              "      <th>calculated_host_listings_count</th>\n",
              "      <th>availability_365</th>\n",
              "    </tr>\n",
              "  </thead>\n",
              "  <tbody>\n",
              "    <tr>\n",
              "      <th>0</th>\n",
              "      <td>14963583</td>\n",
              "      <td>Room in South Harlem near Central Park</td>\n",
              "      <td>94219511</td>\n",
              "      <td>Gilles</td>\n",
              "      <td>Manhattan</td>\n",
              "      <td>Harlem</td>\n",
              "      <td>40.80167</td>\n",
              "      <td>-73.95781</td>\n",
              "      <td>Private room</td>\n",
              "      <td>70</td>\n",
              "      <td>3</td>\n",
              "      <td>3</td>\n",
              "      <td>2019-01-01</td>\n",
              "      <td>0.09</td>\n",
              "      <td>2</td>\n",
              "      <td>0</td>\n",
              "    </tr>\n",
              "    <tr>\n",
              "      <th>1</th>\n",
              "      <td>9458704</td>\n",
              "      <td>Large 1BR Apartment, near Times Sq (2nd Floor)</td>\n",
              "      <td>49015331</td>\n",
              "      <td>Iradj</td>\n",
              "      <td>Manhattan</td>\n",
              "      <td>Hell's Kitchen</td>\n",
              "      <td>40.76037</td>\n",
              "      <td>-73.99016</td>\n",
              "      <td>Entire home/apt</td>\n",
              "      <td>240</td>\n",
              "      <td>2</td>\n",
              "      <td>64</td>\n",
              "      <td>2019-06-30</td>\n",
              "      <td>1.68</td>\n",
              "      <td>2</td>\n",
              "      <td>262</td>\n",
              "    </tr>\n",
              "    <tr>\n",
              "      <th>2</th>\n",
              "      <td>26871281</td>\n",
              "      <td>West Village Apartment</td>\n",
              "      <td>440022</td>\n",
              "      <td>Petter</td>\n",
              "      <td>Manhattan</td>\n",
              "      <td>West Village</td>\n",
              "      <td>40.73001</td>\n",
              "      <td>-74.00562</td>\n",
              "      <td>Entire home/apt</td>\n",
              "      <td>150</td>\n",
              "      <td>60</td>\n",
              "      <td>1</td>\n",
              "      <td>2019-02-07</td>\n",
              "      <td>0.20</td>\n",
              "      <td>1</td>\n",
              "      <td>0</td>\n",
              "    </tr>\n",
              "    <tr>\n",
              "      <th>3</th>\n",
              "      <td>698132</td>\n",
              "      <td>LARGE PRIVATE FLOOR IN BROOKLYN, NY</td>\n",
              "      <td>3577509</td>\n",
              "      <td>Eric</td>\n",
              "      <td>Brooklyn</td>\n",
              "      <td>Bedford-Stuyvesant</td>\n",
              "      <td>40.69128</td>\n",
              "      <td>-73.93653</td>\n",
              "      <td>Entire home/apt</td>\n",
              "      <td>85</td>\n",
              "      <td>4</td>\n",
              "      <td>239</td>\n",
              "      <td>2019-06-26</td>\n",
              "      <td>2.89</td>\n",
              "      <td>2</td>\n",
              "      <td>1</td>\n",
              "    </tr>\n",
              "    <tr>\n",
              "      <th>4</th>\n",
              "      <td>15783953</td>\n",
              "      <td>Sun-drenched apartment, 20 mins to Manhattan</td>\n",
              "      <td>12475280</td>\n",
              "      <td>George</td>\n",
              "      <td>Brooklyn</td>\n",
              "      <td>Bedford-Stuyvesant</td>\n",
              "      <td>40.68899</td>\n",
              "      <td>-73.95555</td>\n",
              "      <td>Private room</td>\n",
              "      <td>44</td>\n",
              "      <td>28</td>\n",
              "      <td>0</td>\n",
              "      <td>NaN</td>\n",
              "      <td>NaN</td>\n",
              "      <td>1</td>\n",
              "      <td>0</td>\n",
              "    </tr>\n",
              "  </tbody>\n",
              "</table>\n",
              "</div>"
            ],
            "text/plain": [
              "         id                                            name   host_id  \\\n",
              "0  14963583          Room in South Harlem near Central Park  94219511   \n",
              "1   9458704  Large 1BR Apartment, near Times Sq (2nd Floor)  49015331   \n",
              "2  26871281                          West Village Apartment    440022   \n",
              "3    698132             LARGE PRIVATE FLOOR IN BROOKLYN, NY   3577509   \n",
              "4  15783953    Sun-drenched apartment, 20 mins to Manhattan  12475280   \n",
              "\n",
              "  host_name neighbourhood_group       neighbourhood  latitude  longitude  \\\n",
              "0    Gilles           Manhattan              Harlem  40.80167  -73.95781   \n",
              "1     Iradj           Manhattan      Hell's Kitchen  40.76037  -73.99016   \n",
              "2    Petter           Manhattan        West Village  40.73001  -74.00562   \n",
              "3      Eric            Brooklyn  Bedford-Stuyvesant  40.69128  -73.93653   \n",
              "4    George            Brooklyn  Bedford-Stuyvesant  40.68899  -73.95555   \n",
              "\n",
              "         room_type  price  minimum_nights  number_of_reviews last_review  \\\n",
              "0     Private room     70               3                  3  2019-01-01   \n",
              "1  Entire home/apt    240               2                 64  2019-06-30   \n",
              "2  Entire home/apt    150              60                  1  2019-02-07   \n",
              "3  Entire home/apt     85               4                239  2019-06-26   \n",
              "4     Private room     44              28                  0         NaN   \n",
              "\n",
              "   reviews_per_month  calculated_host_listings_count  availability_365  \n",
              "0               0.09                               2                 0  \n",
              "1               1.68                               2               262  \n",
              "2               0.20                               1                 0  \n",
              "3               2.89                               2                 1  \n",
              "4                NaN                               1                 0  "
            ]
          },
          "metadata": {},
          "output_type": "display_data"
        },
        {
          "data": {
            "text/html": [
              "<div>\n",
              "<style scoped>\n",
              "    .dataframe tbody tr th:only-of-type {\n",
              "        vertical-align: middle;\n",
              "    }\n",
              "\n",
              "    .dataframe tbody tr th {\n",
              "        vertical-align: top;\n",
              "    }\n",
              "\n",
              "    .dataframe thead th {\n",
              "        text-align: right;\n",
              "    }\n",
              "</style>\n",
              "<table border=\"1\" class=\"dataframe\">\n",
              "  <thead>\n",
              "    <tr style=\"text-align: right;\">\n",
              "      <th></th>\n",
              "      <th>id</th>\n",
              "      <th>name</th>\n",
              "      <th>host_id</th>\n",
              "      <th>host_name</th>\n",
              "      <th>neighbourhood_group</th>\n",
              "      <th>neighbourhood</th>\n",
              "      <th>latitude</th>\n",
              "      <th>longitude</th>\n",
              "      <th>room_type</th>\n",
              "      <th>minimum_nights</th>\n",
              "      <th>number_of_reviews</th>\n",
              "      <th>last_review</th>\n",
              "      <th>reviews_per_month</th>\n",
              "      <th>calculated_host_listings_count</th>\n",
              "      <th>availability_365</th>\n",
              "    </tr>\n",
              "  </thead>\n",
              "  <tbody>\n",
              "    <tr>\n",
              "      <th>0</th>\n",
              "      <td>30913224</td>\n",
              "      <td>Cozy and Sunny Room Williamsburg, Luxury Building</td>\n",
              "      <td>33771081</td>\n",
              "      <td>Rémy</td>\n",
              "      <td>Brooklyn</td>\n",
              "      <td>Williamsburg</td>\n",
              "      <td>40.70959</td>\n",
              "      <td>-73.94652</td>\n",
              "      <td>Private room</td>\n",
              "      <td>3</td>\n",
              "      <td>2</td>\n",
              "      <td>2019-05-08</td>\n",
              "      <td>0.31</td>\n",
              "      <td>1</td>\n",
              "      <td>0</td>\n",
              "    </tr>\n",
              "    <tr>\n",
              "      <th>1</th>\n",
              "      <td>971247</td>\n",
              "      <td>Sunny Artist Live/Work Apartment</td>\n",
              "      <td>5308961</td>\n",
              "      <td>Larry</td>\n",
              "      <td>Manhattan</td>\n",
              "      <td>Upper West Side</td>\n",
              "      <td>40.79368</td>\n",
              "      <td>-73.96487</td>\n",
              "      <td>Entire home/apt</td>\n",
              "      <td>3</td>\n",
              "      <td>159</td>\n",
              "      <td>2019-07-03</td>\n",
              "      <td>2.09</td>\n",
              "      <td>1</td>\n",
              "      <td>244</td>\n",
              "    </tr>\n",
              "    <tr>\n",
              "      <th>2</th>\n",
              "      <td>414801</td>\n",
              "      <td>Industrial Brooklyn Loft with Tree-Lined Windows</td>\n",
              "      <td>319077</td>\n",
              "      <td>Shell</td>\n",
              "      <td>Brooklyn</td>\n",
              "      <td>Clinton Hill</td>\n",
              "      <td>40.68722</td>\n",
              "      <td>-73.96289</td>\n",
              "      <td>Entire home/apt</td>\n",
              "      <td>1</td>\n",
              "      <td>54</td>\n",
              "      <td>2019-03-24</td>\n",
              "      <td>0.65</td>\n",
              "      <td>4</td>\n",
              "      <td>365</td>\n",
              "    </tr>\n",
              "    <tr>\n",
              "      <th>3</th>\n",
              "      <td>21815842</td>\n",
              "      <td>Spacious 2 bedroom in beautiful Clinton Hill</td>\n",
              "      <td>1931990</td>\n",
              "      <td>Yarden</td>\n",
              "      <td>Brooklyn</td>\n",
              "      <td>Clinton Hill</td>\n",
              "      <td>40.68859</td>\n",
              "      <td>-73.96035</td>\n",
              "      <td>Entire home/apt</td>\n",
              "      <td>3</td>\n",
              "      <td>2</td>\n",
              "      <td>2018-05-11</td>\n",
              "      <td>0.13</td>\n",
              "      <td>1</td>\n",
              "      <td>0</td>\n",
              "    </tr>\n",
              "    <tr>\n",
              "      <th>4</th>\n",
              "      <td>13576581</td>\n",
              "      <td>Modern Central Park Apartment close to everything</td>\n",
              "      <td>78325795</td>\n",
              "      <td>Bozhena</td>\n",
              "      <td>Manhattan</td>\n",
              "      <td>Harlem</td>\n",
              "      <td>40.80573</td>\n",
              "      <td>-73.94994</td>\n",
              "      <td>Entire home/apt</td>\n",
              "      <td>1</td>\n",
              "      <td>160</td>\n",
              "      <td>2019-06-23</td>\n",
              "      <td>4.31</td>\n",
              "      <td>3</td>\n",
              "      <td>246</td>\n",
              "    </tr>\n",
              "  </tbody>\n",
              "</table>\n",
              "</div>"
            ],
            "text/plain": [
              "         id                                               name   host_id  \\\n",
              "0  30913224  Cozy and Sunny Room Williamsburg, Luxury Building  33771081   \n",
              "1    971247                   Sunny Artist Live/Work Apartment   5308961   \n",
              "2    414801   Industrial Brooklyn Loft with Tree-Lined Windows    319077   \n",
              "3  21815842       Spacious 2 bedroom in beautiful Clinton Hill   1931990   \n",
              "4  13576581  Modern Central Park Apartment close to everything  78325795   \n",
              "\n",
              "  host_name neighbourhood_group    neighbourhood  latitude  longitude  \\\n",
              "0      Rémy            Brooklyn     Williamsburg  40.70959  -73.94652   \n",
              "1     Larry           Manhattan  Upper West Side  40.79368  -73.96487   \n",
              "2     Shell            Brooklyn     Clinton Hill  40.68722  -73.96289   \n",
              "3    Yarden            Brooklyn     Clinton Hill  40.68859  -73.96035   \n",
              "4   Bozhena           Manhattan           Harlem  40.80573  -73.94994   \n",
              "\n",
              "         room_type  minimum_nights  number_of_reviews last_review  \\\n",
              "0     Private room               3                  2  2019-05-08   \n",
              "1  Entire home/apt               3                159  2019-07-03   \n",
              "2  Entire home/apt               1                 54  2019-03-24   \n",
              "3  Entire home/apt               3                  2  2018-05-11   \n",
              "4  Entire home/apt               1                160  2019-06-23   \n",
              "\n",
              "   reviews_per_month  calculated_host_listings_count  availability_365  \n",
              "0               0.31                               1                 0  \n",
              "1               2.09                               1               244  \n",
              "2               0.65                               4               365  \n",
              "3               0.13                               1                 0  \n",
              "4               4.31                               3               246  "
            ]
          },
          "metadata": {},
          "output_type": "display_data"
        }
      ],
      "source": [
        "# 데이터 샘플\n",
        "display(train.head(5))\n",
        "display(test.head(5))"
      ]
    },
    {
      "cell_type": "code",
      "execution_count": null,
      "id": "39964f06",
      "metadata": {
        "id": "39964f06",
        "outputId": "85c18f69-994b-4f54-ea28-efe589d29eec"
      },
      "outputs": [
        {
          "name": "stdout",
          "output_type": "stream",
          "text": [
            "<class 'pandas.core.frame.DataFrame'>\n",
            "RangeIndex: 39116 entries, 0 to 39115\n",
            "Data columns (total 16 columns):\n",
            " #   Column                          Non-Null Count  Dtype  \n",
            "---  ------                          --------------  -----  \n",
            " 0   id                              39116 non-null  int64  \n",
            " 1   name                            39104 non-null  object \n",
            " 2   host_id                         39116 non-null  int64  \n",
            " 3   host_name                       39099 non-null  object \n",
            " 4   neighbourhood_group             39116 non-null  object \n",
            " 5   neighbourhood                   39116 non-null  object \n",
            " 6   latitude                        39116 non-null  float64\n",
            " 7   longitude                       39116 non-null  float64\n",
            " 8   room_type                       39116 non-null  object \n",
            " 9   price                           39116 non-null  int64  \n",
            " 10  minimum_nights                  39116 non-null  int64  \n",
            " 11  number_of_reviews               39116 non-null  int64  \n",
            " 12  last_review                     31122 non-null  object \n",
            " 13  reviews_per_month               31122 non-null  float64\n",
            " 14  calculated_host_listings_count  39116 non-null  int64  \n",
            " 15  availability_365                39116 non-null  int64  \n",
            "dtypes: float64(3), int64(7), object(6)\n",
            "memory usage: 4.8+ MB\n"
          ]
        }
      ],
      "source": [
        "# 데이터 타입\n",
        "train.info()"
      ]
    },
    {
      "cell_type": "code",
      "execution_count": null,
      "id": "a28f6b75",
      "metadata": {
        "id": "a28f6b75",
        "outputId": "63c81349-321e-4522-db78-2009dbf3e486"
      },
      "outputs": [
        {
          "data": {
            "text/plain": [
              "id                                   0\n",
              "name                                12\n",
              "host_id                              0\n",
              "host_name                           17\n",
              "neighbourhood_group                  0\n",
              "neighbourhood                        0\n",
              "latitude                             0\n",
              "longitude                            0\n",
              "room_type                            0\n",
              "price                                0\n",
              "minimum_nights                       0\n",
              "number_of_reviews                    0\n",
              "last_review                       7994\n",
              "reviews_per_month                 7994\n",
              "calculated_host_listings_count       0\n",
              "availability_365                     0\n",
              "dtype: int64"
            ]
          },
          "execution_count": 239,
          "metadata": {},
          "output_type": "execute_result"
        }
      ],
      "source": [
        "# 결측치(train)\n",
        "train.isnull().sum()"
      ]
    },
    {
      "cell_type": "code",
      "execution_count": null,
      "id": "b629bb69",
      "metadata": {
        "id": "b629bb69",
        "outputId": "c8605ca8-6a7c-43fe-f38c-8b966ebdfcf3"
      },
      "outputs": [
        {
          "data": {
            "text/plain": [
              "id                                   0\n",
              "name                                 4\n",
              "host_id                              0\n",
              "host_name                            4\n",
              "neighbourhood_group                  0\n",
              "neighbourhood                        0\n",
              "latitude                             0\n",
              "longitude                            0\n",
              "room_type                            0\n",
              "minimum_nights                       0\n",
              "number_of_reviews                    0\n",
              "last_review                       2058\n",
              "reviews_per_month                 2058\n",
              "calculated_host_listings_count       0\n",
              "availability_365                     0\n",
              "dtype: int64"
            ]
          },
          "execution_count": 240,
          "metadata": {},
          "output_type": "execute_result"
        }
      ],
      "source": [
        "# 결측치(test)\n",
        "test.isnull().sum()"
      ]
    },
    {
      "cell_type": "code",
      "execution_count": null,
      "id": "5074fa9f",
      "metadata": {
        "id": "5074fa9f",
        "outputId": "b6ef68c6-d490-4bc4-c287-9790e71ffae8"
      },
      "outputs": [
        {
          "data": {
            "text/plain": [
              "<AxesSubplot:>"
            ]
          },
          "execution_count": 241,
          "metadata": {},
          "output_type": "execute_result"
        },
        {
          "data": {
            "image/png": "[encoded data removed]",
            "text/plain": [
              "<Figure size 432x288 with 1 Axes>"
            ]
          },
          "metadata": {
            "needs_background": "light"
          },
          "output_type": "display_data"
        }
      ],
      "source": [
        "# target(hist)\n",
        "train['price'].hist(bins=100)"
      ]
    },
    {
      "cell_type": "code",
      "execution_count": null,
      "id": "3133cd0a",
      "metadata": {
        "id": "3133cd0a",
        "outputId": "bca43ef4-f893-4a0b-bb85-7549010d1026"
      },
      "outputs": [
        {
          "data": {
            "text/plain": [
              "count    39116.000000\n",
              "mean       152.751150\n",
              "std        241.752501\n",
              "min          0.000000\n",
              "25%         69.000000\n",
              "50%        105.000000\n",
              "75%        175.000000\n",
              "max      10000.000000\n",
              "Name: price, dtype: float64"
            ]
          },
          "execution_count": 242,
          "metadata": {},
          "output_type": "execute_result"
        }
      ],
      "source": [
        "# target(describe)\n",
        "train['price'].describe()"
      ]
    },
    {
      "cell_type": "code",
      "execution_count": null,
      "id": "f9420004",
      "metadata": {
        "id": "f9420004",
        "outputId": "5a0b0bfc-c39c-4297-bbd7-8fe9a9577dbe"
      },
      "outputs": [
        {
          "data": {
            "text/plain": [
              "219517861    256\n",
              "107434423    181\n",
              "30283594      99\n",
              "137358866     82\n",
              "12243051      80\n",
              "            ... \n",
              "73369106       1\n",
              "26620387       1\n",
              "176660539      1\n",
              "26004891       1\n",
              "2609535        1\n",
              "Name: host_id, Length: 30845, dtype: int64"
            ]
          },
          "execution_count": 243,
          "metadata": {},
          "output_type": "execute_result"
        }
      ],
      "source": [
        "# 피처(host_id)\n",
        "train['host_id'].value_counts()"
      ]
    },
    {
      "cell_type": "code",
      "execution_count": null,
      "id": "34b63c72",
      "metadata": {
        "id": "34b63c72"
      },
      "outputs": [],
      "source": [
        "import numpy as np"
      ]
    },
    {
      "cell_type": "code",
      "execution_count": null,
      "id": "32712bad",
      "metadata": {
        "id": "32712bad"
      },
      "outputs": [],
      "source": [
        "# 결측치 컬럼 삭제(last_review)\n",
        "train = train.drop(['last_review'], axis=1)\n",
        "test = test.drop(['last_review'], axis=1)"
      ]
    },
    {
      "cell_type": "code",
      "execution_count": null,
      "id": "a2376554",
      "metadata": {
        "id": "a2376554",
        "outputId": "f4b1d0db-6404-4c93-e181-ab4c4c3ce1cd"
      },
      "outputs": [
        {
          "data": {
            "text/html": [
              "<div>\n",
              "<style scoped>\n",
              "    .dataframe tbody tr th:only-of-type {\n",
              "        vertical-align: middle;\n",
              "    }\n",
              "\n",
              "    .dataframe tbody tr th {\n",
              "        vertical-align: top;\n",
              "    }\n",
              "\n",
              "    .dataframe thead th {\n",
              "        text-align: right;\n",
              "    }\n",
              "</style>\n",
              "<table border=\"1\" class=\"dataframe\">\n",
              "  <thead>\n",
              "    <tr style=\"text-align: right;\">\n",
              "      <th></th>\n",
              "      <th>id</th>\n",
              "      <th>name</th>\n",
              "      <th>host_id</th>\n",
              "      <th>host_name</th>\n",
              "      <th>neighbourhood_group</th>\n",
              "      <th>neighbourhood</th>\n",
              "      <th>latitude</th>\n",
              "      <th>longitude</th>\n",
              "      <th>room_type</th>\n",
              "      <th>price</th>\n",
              "      <th>minimum_nights</th>\n",
              "      <th>number_of_reviews</th>\n",
              "      <th>reviews_per_month</th>\n",
              "      <th>calculated_host_listings_count</th>\n",
              "      <th>availability_365</th>\n",
              "    </tr>\n",
              "  </thead>\n",
              "  <tbody>\n",
              "    <tr>\n",
              "      <th>0</th>\n",
              "      <td>14963583</td>\n",
              "      <td>Room in South Harlem near Central Park</td>\n",
              "      <td>94219511</td>\n",
              "      <td>Gilles</td>\n",
              "      <td>Manhattan</td>\n",
              "      <td>Harlem</td>\n",
              "      <td>40.80167</td>\n",
              "      <td>-73.95781</td>\n",
              "      <td>Private room</td>\n",
              "      <td>70</td>\n",
              "      <td>3</td>\n",
              "      <td>3</td>\n",
              "      <td>0.09</td>\n",
              "      <td>2</td>\n",
              "      <td>0</td>\n",
              "    </tr>\n",
              "    <tr>\n",
              "      <th>1</th>\n",
              "      <td>9458704</td>\n",
              "      <td>Large 1BR Apartment, near Times Sq (2nd Floor)</td>\n",
              "      <td>49015331</td>\n",
              "      <td>Iradj</td>\n",
              "      <td>Manhattan</td>\n",
              "      <td>Hell's Kitchen</td>\n",
              "      <td>40.76037</td>\n",
              "      <td>-73.99016</td>\n",
              "      <td>Entire home/apt</td>\n",
              "      <td>240</td>\n",
              "      <td>2</td>\n",
              "      <td>64</td>\n",
              "      <td>1.68</td>\n",
              "      <td>2</td>\n",
              "      <td>262</td>\n",
              "    </tr>\n",
              "    <tr>\n",
              "      <th>2</th>\n",
              "      <td>26871281</td>\n",
              "      <td>West Village Apartment</td>\n",
              "      <td>440022</td>\n",
              "      <td>Petter</td>\n",
              "      <td>Manhattan</td>\n",
              "      <td>West Village</td>\n",
              "      <td>40.73001</td>\n",
              "      <td>-74.00562</td>\n",
              "      <td>Entire home/apt</td>\n",
              "      <td>150</td>\n",
              "      <td>60</td>\n",
              "      <td>1</td>\n",
              "      <td>0.20</td>\n",
              "      <td>1</td>\n",
              "      <td>0</td>\n",
              "    </tr>\n",
              "    <tr>\n",
              "      <th>3</th>\n",
              "      <td>698132</td>\n",
              "      <td>LARGE PRIVATE FLOOR IN BROOKLYN, NY</td>\n",
              "      <td>3577509</td>\n",
              "      <td>Eric</td>\n",
              "      <td>Brooklyn</td>\n",
              "      <td>Bedford-Stuyvesant</td>\n",
              "      <td>40.69128</td>\n",
              "      <td>-73.93653</td>\n",
              "      <td>Entire home/apt</td>\n",
              "      <td>85</td>\n",
              "      <td>4</td>\n",
              "      <td>239</td>\n",
              "      <td>2.89</td>\n",
              "      <td>2</td>\n",
              "      <td>1</td>\n",
              "    </tr>\n",
              "    <tr>\n",
              "      <th>4</th>\n",
              "      <td>15783953</td>\n",
              "      <td>Sun-drenched apartment, 20 mins to Manhattan</td>\n",
              "      <td>12475280</td>\n",
              "      <td>George</td>\n",
              "      <td>Brooklyn</td>\n",
              "      <td>Bedford-Stuyvesant</td>\n",
              "      <td>40.68899</td>\n",
              "      <td>-73.95555</td>\n",
              "      <td>Private room</td>\n",
              "      <td>44</td>\n",
              "      <td>28</td>\n",
              "      <td>0</td>\n",
              "      <td>NaN</td>\n",
              "      <td>1</td>\n",
              "      <td>0</td>\n",
              "    </tr>\n",
              "  </tbody>\n",
              "</table>\n",
              "</div>"
            ],
            "text/plain": [
              "         id                                            name   host_id  \\\n",
              "0  14963583          Room in South Harlem near Central Park  94219511   \n",
              "1   9458704  Large 1BR Apartment, near Times Sq (2nd Floor)  49015331   \n",
              "2  26871281                          West Village Apartment    440022   \n",
              "3    698132             LARGE PRIVATE FLOOR IN BROOKLYN, NY   3577509   \n",
              "4  15783953    Sun-drenched apartment, 20 mins to Manhattan  12475280   \n",
              "\n",
              "  host_name neighbourhood_group       neighbourhood  latitude  longitude  \\\n",
              "0    Gilles           Manhattan              Harlem  40.80167  -73.95781   \n",
              "1     Iradj           Manhattan      Hell's Kitchen  40.76037  -73.99016   \n",
              "2    Petter           Manhattan        West Village  40.73001  -74.00562   \n",
              "3      Eric            Brooklyn  Bedford-Stuyvesant  40.69128  -73.93653   \n",
              "4    George            Brooklyn  Bedford-Stuyvesant  40.68899  -73.95555   \n",
              "\n",
              "         room_type  price  minimum_nights  number_of_reviews  \\\n",
              "0     Private room     70               3                  3   \n",
              "1  Entire home/apt    240               2                 64   \n",
              "2  Entire home/apt    150              60                  1   \n",
              "3  Entire home/apt     85               4                239   \n",
              "4     Private room     44              28                  0   \n",
              "\n",
              "   reviews_per_month  calculated_host_listings_count  availability_365  \n",
              "0               0.09                               2                 0  \n",
              "1               1.68                               2               262  \n",
              "2               0.20                               1                 0  \n",
              "3               2.89                               2                 1  \n",
              "4                NaN                               1                 0  "
            ]
          },
          "metadata": {},
          "output_type": "display_data"
        },
        {
          "name": "stdout",
          "output_type": "stream",
          "text": [
            "None\n"
          ]
        },
        {
          "data": {
            "text/html": [
              "<div>\n",
              "<style scoped>\n",
              "    .dataframe tbody tr th:only-of-type {\n",
              "        vertical-align: middle;\n",
              "    }\n",
              "\n",
              "    .dataframe tbody tr th {\n",
              "        vertical-align: top;\n",
              "    }\n",
              "\n",
              "    .dataframe thead th {\n",
              "        text-align: right;\n",
              "    }\n",
              "</style>\n",
              "<table border=\"1\" class=\"dataframe\">\n",
              "  <thead>\n",
              "    <tr style=\"text-align: right;\">\n",
              "      <th></th>\n",
              "      <th>id</th>\n",
              "      <th>name</th>\n",
              "      <th>host_id</th>\n",
              "      <th>host_name</th>\n",
              "      <th>neighbourhood_group</th>\n",
              "      <th>neighbourhood</th>\n",
              "      <th>latitude</th>\n",
              "      <th>longitude</th>\n",
              "      <th>room_type</th>\n",
              "      <th>minimum_nights</th>\n",
              "      <th>number_of_reviews</th>\n",
              "      <th>reviews_per_month</th>\n",
              "      <th>calculated_host_listings_count</th>\n",
              "      <th>availability_365</th>\n",
              "    </tr>\n",
              "  </thead>\n",
              "  <tbody>\n",
              "    <tr>\n",
              "      <th>0</th>\n",
              "      <td>30913224</td>\n",
              "      <td>Cozy and Sunny Room Williamsburg, Luxury Building</td>\n",
              "      <td>33771081</td>\n",
              "      <td>Rémy</td>\n",
              "      <td>Brooklyn</td>\n",
              "      <td>Williamsburg</td>\n",
              "      <td>40.70959</td>\n",
              "      <td>-73.94652</td>\n",
              "      <td>Private room</td>\n",
              "      <td>3</td>\n",
              "      <td>2</td>\n",
              "      <td>0.31</td>\n",
              "      <td>1</td>\n",
              "      <td>0</td>\n",
              "    </tr>\n",
              "    <tr>\n",
              "      <th>1</th>\n",
              "      <td>971247</td>\n",
              "      <td>Sunny Artist Live/Work Apartment</td>\n",
              "      <td>5308961</td>\n",
              "      <td>Larry</td>\n",
              "      <td>Manhattan</td>\n",
              "      <td>Upper West Side</td>\n",
              "      <td>40.79368</td>\n",
              "      <td>-73.96487</td>\n",
              "      <td>Entire home/apt</td>\n",
              "      <td>3</td>\n",
              "      <td>159</td>\n",
              "      <td>2.09</td>\n",
              "      <td>1</td>\n",
              "      <td>244</td>\n",
              "    </tr>\n",
              "    <tr>\n",
              "      <th>2</th>\n",
              "      <td>414801</td>\n",
              "      <td>Industrial Brooklyn Loft with Tree-Lined Windows</td>\n",
              "      <td>319077</td>\n",
              "      <td>Shell</td>\n",
              "      <td>Brooklyn</td>\n",
              "      <td>Clinton Hill</td>\n",
              "      <td>40.68722</td>\n",
              "      <td>-73.96289</td>\n",
              "      <td>Entire home/apt</td>\n",
              "      <td>1</td>\n",
              "      <td>54</td>\n",
              "      <td>0.65</td>\n",
              "      <td>4</td>\n",
              "      <td>365</td>\n",
              "    </tr>\n",
              "    <tr>\n",
              "      <th>3</th>\n",
              "      <td>21815842</td>\n",
              "      <td>Spacious 2 bedroom in beautiful Clinton Hill</td>\n",
              "      <td>1931990</td>\n",
              "      <td>Yarden</td>\n",
              "      <td>Brooklyn</td>\n",
              "      <td>Clinton Hill</td>\n",
              "      <td>40.68859</td>\n",
              "      <td>-73.96035</td>\n",
              "      <td>Entire home/apt</td>\n",
              "      <td>3</td>\n",
              "      <td>2</td>\n",
              "      <td>0.13</td>\n",
              "      <td>1</td>\n",
              "      <td>0</td>\n",
              "    </tr>\n",
              "    <tr>\n",
              "      <th>4</th>\n",
              "      <td>13576581</td>\n",
              "      <td>Modern Central Park Apartment close to everything</td>\n",
              "      <td>78325795</td>\n",
              "      <td>Bozhena</td>\n",
              "      <td>Manhattan</td>\n",
              "      <td>Harlem</td>\n",
              "      <td>40.80573</td>\n",
              "      <td>-73.94994</td>\n",
              "      <td>Entire home/apt</td>\n",
              "      <td>1</td>\n",
              "      <td>160</td>\n",
              "      <td>4.31</td>\n",
              "      <td>3</td>\n",
              "      <td>246</td>\n",
              "    </tr>\n",
              "  </tbody>\n",
              "</table>\n",
              "</div>"
            ],
            "text/plain": [
              "         id                                               name   host_id  \\\n",
              "0  30913224  Cozy and Sunny Room Williamsburg, Luxury Building  33771081   \n",
              "1    971247                   Sunny Artist Live/Work Apartment   5308961   \n",
              "2    414801   Industrial Brooklyn Loft with Tree-Lined Windows    319077   \n",
              "3  21815842       Spacious 2 bedroom in beautiful Clinton Hill   1931990   \n",
              "4  13576581  Modern Central Park Apartment close to everything  78325795   \n",
              "\n",
              "  host_name neighbourhood_group    neighbourhood  latitude  longitude  \\\n",
              "0      Rémy            Brooklyn     Williamsburg  40.70959  -73.94652   \n",
              "1     Larry           Manhattan  Upper West Side  40.79368  -73.96487   \n",
              "2     Shell            Brooklyn     Clinton Hill  40.68722  -73.96289   \n",
              "3    Yarden            Brooklyn     Clinton Hill  40.68859  -73.96035   \n",
              "4   Bozhena           Manhattan           Harlem  40.80573  -73.94994   \n",
              "\n",
              "         room_type  minimum_nights  number_of_reviews  reviews_per_month  \\\n",
              "0     Private room               3                  2               0.31   \n",
              "1  Entire home/apt               3                159               2.09   \n",
              "2  Entire home/apt               1                 54               0.65   \n",
              "3  Entire home/apt               3                  2               0.13   \n",
              "4  Entire home/apt               1                160               4.31   \n",
              "\n",
              "   calculated_host_listings_count  availability_365  \n",
              "0                               1                 0  \n",
              "1                               1               244  \n",
              "2                               4               365  \n",
              "3                               1                 0  \n",
              "4                               3               246  "
            ]
          },
          "metadata": {},
          "output_type": "display_data"
        },
        {
          "name": "stdout",
          "output_type": "stream",
          "text": [
            "None\n"
          ]
        }
      ],
      "source": [
        "print(display(train.head(5)))\n",
        "print(display(test.head(5)))"
      ]
    },
    {
      "cell_type": "code",
      "execution_count": null,
      "id": "ca350595",
      "metadata": {
        "id": "ca350595"
      },
      "outputs": [],
      "source": [
        "# 결측치 채우기\n",
        "train['name'].fillna('Unknown',inplace=True)\n",
        "train['host_name'].fillna('Unknown',inplace=True)\n",
        "train['reviews_per_month'].fillna(0, inplace=True)\n",
        "\n",
        "test['name'].fillna('Unknown',inplace=True)\n",
        "test['host_name'].fillna('Unknown',inplace=True)\n",
        "test['reviews_per_month'].fillna(0, inplace=True)"
      ]
    },
    {
      "cell_type": "code",
      "execution_count": null,
      "id": "7e4dc156",
      "metadata": {
        "id": "7e4dc156",
        "outputId": "9efec8e4-0efb-49ec-ea40-3d26cb5e30b9"
      },
      "outputs": [
        {
          "name": "stdout",
          "output_type": "stream",
          "text": [
            "id                                0\n",
            "name                              0\n",
            "host_id                           0\n",
            "host_name                         0\n",
            "neighbourhood_group               0\n",
            "neighbourhood                     0\n",
            "latitude                          0\n",
            "longitude                         0\n",
            "room_type                         0\n",
            "price                             0\n",
            "minimum_nights                    0\n",
            "number_of_reviews                 0\n",
            "reviews_per_month                 0\n",
            "calculated_host_listings_count    0\n",
            "availability_365                  0\n",
            "dtype: int64\n",
            "id                                0\n",
            "name                              0\n",
            "host_id                           0\n",
            "host_name                         0\n",
            "neighbourhood_group               0\n",
            "neighbourhood                     0\n",
            "latitude                          0\n",
            "longitude                         0\n",
            "room_type                         0\n",
            "minimum_nights                    0\n",
            "number_of_reviews                 0\n",
            "reviews_per_month                 0\n",
            "calculated_host_listings_count    0\n",
            "availability_365                  0\n",
            "dtype: int64\n"
          ]
        }
      ],
      "source": [
        "# 결측치 확인\n",
        "print(train.isnull().sum())\n",
        "print(test.isnull().sum())"
      ]
    },
    {
      "cell_type": "code",
      "execution_count": null,
      "id": "c5671cec",
      "metadata": {
        "id": "c5671cec"
      },
      "outputs": [],
      "source": [
        "# 가격 값 복사\n",
        "target = train['price']\n",
        "train = train.drop('price', axis=1)"
      ]
    },
    {
      "cell_type": "code",
      "execution_count": null,
      "id": "113cfdc6",
      "metadata": {
        "scrolled": true,
        "id": "113cfdc6",
        "outputId": "3eb6e061-4aba-4edf-f2f7-6ae6f2a6bd8d"
      },
      "outputs": [
        {
          "data": {
            "text/html": [
              "<div>\n",
              "<style scoped>\n",
              "    .dataframe tbody tr th:only-of-type {\n",
              "        vertical-align: middle;\n",
              "    }\n",
              "\n",
              "    .dataframe tbody tr th {\n",
              "        vertical-align: top;\n",
              "    }\n",
              "\n",
              "    .dataframe thead th {\n",
              "        text-align: right;\n",
              "    }\n",
              "</style>\n",
              "<table border=\"1\" class=\"dataframe\">\n",
              "  <thead>\n",
              "    <tr style=\"text-align: right;\">\n",
              "      <th></th>\n",
              "      <th>id</th>\n",
              "      <th>name</th>\n",
              "      <th>host_id</th>\n",
              "      <th>host_name</th>\n",
              "      <th>neighbourhood_group</th>\n",
              "      <th>neighbourhood</th>\n",
              "      <th>latitude</th>\n",
              "      <th>longitude</th>\n",
              "      <th>room_type</th>\n",
              "      <th>minimum_nights</th>\n",
              "      <th>number_of_reviews</th>\n",
              "      <th>reviews_per_month</th>\n",
              "      <th>calculated_host_listings_count</th>\n",
              "      <th>availability_365</th>\n",
              "    </tr>\n",
              "  </thead>\n",
              "  <tbody>\n",
              "    <tr>\n",
              "      <th>0</th>\n",
              "      <td>30913224</td>\n",
              "      <td>Cozy and Sunny Room Williamsburg, Luxury Building</td>\n",
              "      <td>0.123103</td>\n",
              "      <td>Rémy</td>\n",
              "      <td>Brooklyn</td>\n",
              "      <td>Williamsburg</td>\n",
              "      <td>0.498818</td>\n",
              "      <td>0.563419</td>\n",
              "      <td>Private room</td>\n",
              "      <td>3</td>\n",
              "      <td>0.003350</td>\n",
              "      <td>0.31</td>\n",
              "      <td>0.000000</td>\n",
              "      <td>0.000000</td>\n",
              "    </tr>\n",
              "    <tr>\n",
              "      <th>1</th>\n",
              "      <td>971247</td>\n",
              "      <td>Sunny Artist Live/Work Apartment</td>\n",
              "      <td>0.019344</td>\n",
              "      <td>Larry</td>\n",
              "      <td>Manhattan</td>\n",
              "      <td>Upper West Side</td>\n",
              "      <td>0.705946</td>\n",
              "      <td>0.528529</td>\n",
              "      <td>Entire home/apt</td>\n",
              "      <td>3</td>\n",
              "      <td>0.266332</td>\n",
              "      <td>2.09</td>\n",
              "      <td>0.000000</td>\n",
              "      <td>0.668493</td>\n",
              "    </tr>\n",
              "    <tr>\n",
              "      <th>2</th>\n",
              "      <td>414801</td>\n",
              "      <td>Industrial Brooklyn Loft with Tree-Lined Windows</td>\n",
              "      <td>0.001153</td>\n",
              "      <td>Shell</td>\n",
              "      <td>Brooklyn</td>\n",
              "      <td>Clinton Hill</td>\n",
              "      <td>0.443716</td>\n",
              "      <td>0.532294</td>\n",
              "      <td>Entire home/apt</td>\n",
              "      <td>1</td>\n",
              "      <td>0.090452</td>\n",
              "      <td>0.65</td>\n",
              "      <td>0.009202</td>\n",
              "      <td>1.000000</td>\n",
              "    </tr>\n",
              "    <tr>\n",
              "      <th>3</th>\n",
              "      <td>21815842</td>\n",
              "      <td>Spacious 2 bedroom in beautiful Clinton Hill</td>\n",
              "      <td>0.007033</td>\n",
              "      <td>Yarden</td>\n",
              "      <td>Brooklyn</td>\n",
              "      <td>Clinton Hill</td>\n",
              "      <td>0.447091</td>\n",
              "      <td>0.537123</td>\n",
              "      <td>Entire home/apt</td>\n",
              "      <td>3</td>\n",
              "      <td>0.003350</td>\n",
              "      <td>0.13</td>\n",
              "      <td>0.000000</td>\n",
              "      <td>0.000000</td>\n",
              "    </tr>\n",
              "    <tr>\n",
              "      <th>4</th>\n",
              "      <td>13576581</td>\n",
              "      <td>Modern Central Park Apartment close to everything</td>\n",
              "      <td>0.285529</td>\n",
              "      <td>Bozhena</td>\n",
              "      <td>Manhattan</td>\n",
              "      <td>Harlem</td>\n",
              "      <td>0.735627</td>\n",
              "      <td>0.556916</td>\n",
              "      <td>Entire home/apt</td>\n",
              "      <td>1</td>\n",
              "      <td>0.268007</td>\n",
              "      <td>4.31</td>\n",
              "      <td>0.006135</td>\n",
              "      <td>0.673973</td>\n",
              "    </tr>\n",
              "  </tbody>\n",
              "</table>\n",
              "</div>"
            ],
            "text/plain": [
              "         id                                               name   host_id  \\\n",
              "0  30913224  Cozy and Sunny Room Williamsburg, Luxury Building  0.123103   \n",
              "1    971247                   Sunny Artist Live/Work Apartment  0.019344   \n",
              "2    414801   Industrial Brooklyn Loft with Tree-Lined Windows  0.001153   \n",
              "3  21815842       Spacious 2 bedroom in beautiful Clinton Hill  0.007033   \n",
              "4  13576581  Modern Central Park Apartment close to everything  0.285529   \n",
              "\n",
              "  host_name neighbourhood_group    neighbourhood  latitude  longitude  \\\n",
              "0      Rémy            Brooklyn     Williamsburg  0.498818   0.563419   \n",
              "1     Larry           Manhattan  Upper West Side  0.705946   0.528529   \n",
              "2     Shell            Brooklyn     Clinton Hill  0.443716   0.532294   \n",
              "3    Yarden            Brooklyn     Clinton Hill  0.447091   0.537123   \n",
              "4   Bozhena           Manhattan           Harlem  0.735627   0.556916   \n",
              "\n",
              "         room_type  minimum_nights  number_of_reviews  reviews_per_month  \\\n",
              "0     Private room               3           0.003350               0.31   \n",
              "1  Entire home/apt               3           0.266332               2.09   \n",
              "2  Entire home/apt               1           0.090452               0.65   \n",
              "3  Entire home/apt               3           0.003350               0.13   \n",
              "4  Entire home/apt               1           0.268007               4.31   \n",
              "\n",
              "   calculated_host_listings_count  availability_365  \n",
              "0                        0.000000          0.000000  \n",
              "1                        0.000000          0.668493  \n",
              "2                        0.009202          1.000000  \n",
              "3                        0.000000          0.000000  \n",
              "4                        0.006135          0.673973  "
            ]
          },
          "execution_count": 250,
          "metadata": {},
          "output_type": "execute_result"
        }
      ],
      "source": [
        "# 수치형 데이터 민맥스\n",
        "from sklearn.preprocessing import MinMaxScaler\n",
        "scaler_train = MinMaxScaler()\n",
        "scaler_test = MinMaxScaler()\n",
        "\n",
        "cols = [\n",
        "    'host_id',\n",
        "    'latitude',\n",
        "    'longitude',\n",
        "    'number_of_reviews',\n",
        "    'calculated_host_listings_count',\n",
        "    'availability_365'\n",
        "]\n",
        "# cols에 있는 각 수치형 컬럼에 민맥스 스케일\n",
        "for col in cols:\n",
        "    train[col] = scaler_train.fit_transform(train[[col]])\n",
        "    test[col] = scaler_test.fit_transform(test[[col]])\n",
        "\n",
        "train.head()\n",
        "test.head()"
      ]
    },
    {
      "cell_type": "code",
      "execution_count": null,
      "id": "d7efb8ca",
      "metadata": {
        "id": "d7efb8ca"
      },
      "outputs": [],
      "source": [
        "train = train.drop('id', axis=1)\n",
        "test = test.drop('id', axis=1)"
      ]
    },
    {
      "cell_type": "code",
      "execution_count": null,
      "id": "bc6645a1",
      "metadata": {
        "scrolled": true,
        "id": "bc6645a1",
        "outputId": "2a3f47d7-a6f9-437f-f361-0b3daf0a790c"
      },
      "outputs": [
        {
          "data": {
            "text/html": [
              "<div>\n",
              "<style scoped>\n",
              "    .dataframe tbody tr th:only-of-type {\n",
              "        vertical-align: middle;\n",
              "    }\n",
              "\n",
              "    .dataframe tbody tr th {\n",
              "        vertical-align: top;\n",
              "    }\n",
              "\n",
              "    .dataframe thead th {\n",
              "        text-align: right;\n",
              "    }\n",
              "</style>\n",
              "<table border=\"1\" class=\"dataframe\">\n",
              "  <thead>\n",
              "    <tr style=\"text-align: right;\">\n",
              "      <th></th>\n",
              "      <th>name</th>\n",
              "      <th>host_id</th>\n",
              "      <th>host_name</th>\n",
              "      <th>neighbourhood_group</th>\n",
              "      <th>neighbourhood</th>\n",
              "      <th>latitude</th>\n",
              "      <th>longitude</th>\n",
              "      <th>room_type</th>\n",
              "      <th>minimum_nights</th>\n",
              "      <th>number_of_reviews</th>\n",
              "      <th>reviews_per_month</th>\n",
              "      <th>calculated_host_listings_count</th>\n",
              "      <th>availability_365</th>\n",
              "    </tr>\n",
              "  </thead>\n",
              "  <tbody>\n",
              "    <tr>\n",
              "      <th>0</th>\n",
              "      <td>Cozy and Sunny Room Williamsburg, Luxury Building</td>\n",
              "      <td>0.123103</td>\n",
              "      <td>Rémy</td>\n",
              "      <td>1</td>\n",
              "      <td>187</td>\n",
              "      <td>0.498818</td>\n",
              "      <td>0.563419</td>\n",
              "      <td>1</td>\n",
              "      <td>3</td>\n",
              "      <td>0.003350</td>\n",
              "      <td>0.31</td>\n",
              "      <td>0.000000</td>\n",
              "      <td>0.000000</td>\n",
              "    </tr>\n",
              "    <tr>\n",
              "      <th>1</th>\n",
              "      <td>Sunny Artist Live/Work Apartment</td>\n",
              "      <td>0.019344</td>\n",
              "      <td>Larry</td>\n",
              "      <td>2</td>\n",
              "      <td>177</td>\n",
              "      <td>0.705946</td>\n",
              "      <td>0.528529</td>\n",
              "      <td>0</td>\n",
              "      <td>3</td>\n",
              "      <td>0.266332</td>\n",
              "      <td>2.09</td>\n",
              "      <td>0.000000</td>\n",
              "      <td>0.668493</td>\n",
              "    </tr>\n",
              "    <tr>\n",
              "      <th>2</th>\n",
              "      <td>Industrial Brooklyn Loft with Tree-Lined Windows</td>\n",
              "      <td>0.001153</td>\n",
              "      <td>Shell</td>\n",
              "      <td>1</td>\n",
              "      <td>35</td>\n",
              "      <td>0.443716</td>\n",
              "      <td>0.532294</td>\n",
              "      <td>0</td>\n",
              "      <td>1</td>\n",
              "      <td>0.090452</td>\n",
              "      <td>0.65</td>\n",
              "      <td>0.009202</td>\n",
              "      <td>1.000000</td>\n",
              "    </tr>\n",
              "    <tr>\n",
              "      <th>3</th>\n",
              "      <td>Spacious 2 bedroom in beautiful Clinton Hill</td>\n",
              "      <td>0.007033</td>\n",
              "      <td>Yarden</td>\n",
              "      <td>1</td>\n",
              "      <td>35</td>\n",
              "      <td>0.447091</td>\n",
              "      <td>0.537123</td>\n",
              "      <td>0</td>\n",
              "      <td>3</td>\n",
              "      <td>0.003350</td>\n",
              "      <td>0.13</td>\n",
              "      <td>0.000000</td>\n",
              "      <td>0.000000</td>\n",
              "    </tr>\n",
              "    <tr>\n",
              "      <th>4</th>\n",
              "      <td>Modern Central Park Apartment close to everything</td>\n",
              "      <td>0.285529</td>\n",
              "      <td>Bozhena</td>\n",
              "      <td>2</td>\n",
              "      <td>83</td>\n",
              "      <td>0.735627</td>\n",
              "      <td>0.556916</td>\n",
              "      <td>0</td>\n",
              "      <td>1</td>\n",
              "      <td>0.268007</td>\n",
              "      <td>4.31</td>\n",
              "      <td>0.006135</td>\n",
              "      <td>0.673973</td>\n",
              "    </tr>\n",
              "  </tbody>\n",
              "</table>\n",
              "</div>"
            ],
            "text/plain": [
              "                                                name   host_id host_name  \\\n",
              "0  Cozy and Sunny Room Williamsburg, Luxury Building  0.123103      Rémy   \n",
              "1                   Sunny Artist Live/Work Apartment  0.019344     Larry   \n",
              "2   Industrial Brooklyn Loft with Tree-Lined Windows  0.001153     Shell   \n",
              "3       Spacious 2 bedroom in beautiful Clinton Hill  0.007033    Yarden   \n",
              "4  Modern Central Park Apartment close to everything  0.285529   Bozhena   \n",
              "\n",
              "   neighbourhood_group  neighbourhood  latitude  longitude  room_type  \\\n",
              "0                    1            187  0.498818   0.563419          1   \n",
              "1                    2            177  0.705946   0.528529          0   \n",
              "2                    1             35  0.443716   0.532294          0   \n",
              "3                    1             35  0.447091   0.537123          0   \n",
              "4                    2             83  0.735627   0.556916          0   \n",
              "\n",
              "   minimum_nights  number_of_reviews  reviews_per_month  \\\n",
              "0               3           0.003350               0.31   \n",
              "1               3           0.266332               2.09   \n",
              "2               1           0.090452               0.65   \n",
              "3               3           0.003350               0.13   \n",
              "4               1           0.268007               4.31   \n",
              "\n",
              "   calculated_host_listings_count  availability_365  \n",
              "0                        0.000000          0.000000  \n",
              "1                        0.000000          0.668493  \n",
              "2                        0.009202          1.000000  \n",
              "3                        0.000000          0.000000  \n",
              "4                        0.006135          0.673973  "
            ]
          },
          "execution_count": 252,
          "metadata": {},
          "output_type": "execute_result"
        }
      ],
      "source": [
        "# 범주형 데이터 레이블 인코딩\n",
        "from sklearn.preprocessing import LabelEncoder\n",
        "\n",
        "le_train = LabelEncoder()\n",
        "le_test = LabelEncoder()\n",
        "\n",
        "cols = ['neighbourhood_group', 'neighbourhood', 'room_type']\n",
        "\n",
        "# cols에 있는 각 범주형 컬럼에 레이블 인코딩\n",
        "for col in cols:\n",
        "    train[col] = le_train.fit_transform(train[col])\n",
        "    test[col] = le_test.fit_transform(test[col])\n",
        "\n",
        "# 레이블 인코딩이 잘 적용되었는지 확인\n",
        "train.head()\n",
        "test.head()"
      ]
    },
    {
      "cell_type": "code",
      "execution_count": null,
      "id": "b9efb5bd",
      "metadata": {
        "id": "b9efb5bd"
      },
      "outputs": [],
      "source": [
        "del_cols = ['name','host_name']\n",
        "train = train.drop(del_cols, axis=1)\n",
        "test = test.drop(del_cols, axis=1)"
      ]
    },
    {
      "cell_type": "code",
      "execution_count": null,
      "id": "2c6780df",
      "metadata": {
        "id": "2c6780df",
        "outputId": "f3c2e9f3-8c17-4044-9030-354c505a1c55"
      },
      "outputs": [
        {
          "name": "stdout",
          "output_type": "stream",
          "text": [
            "(39116, 11) (9779, 11)\n"
          ]
        },
        {
          "data": {
            "text/html": [
              "<div>\n",
              "<style scoped>\n",
              "    .dataframe tbody tr th:only-of-type {\n",
              "        vertical-align: middle;\n",
              "    }\n",
              "\n",
              "    .dataframe tbody tr th {\n",
              "        vertical-align: top;\n",
              "    }\n",
              "\n",
              "    .dataframe thead th {\n",
              "        text-align: right;\n",
              "    }\n",
              "</style>\n",
              "<table border=\"1\" class=\"dataframe\">\n",
              "  <thead>\n",
              "    <tr style=\"text-align: right;\">\n",
              "      <th></th>\n",
              "      <th>host_id</th>\n",
              "      <th>neighbourhood_group</th>\n",
              "      <th>neighbourhood</th>\n",
              "      <th>latitude</th>\n",
              "      <th>longitude</th>\n",
              "      <th>room_type</th>\n",
              "      <th>minimum_nights</th>\n",
              "      <th>number_of_reviews</th>\n",
              "      <th>reviews_per_month</th>\n",
              "      <th>calculated_host_listings_count</th>\n",
              "      <th>availability_365</th>\n",
              "    </tr>\n",
              "  </thead>\n",
              "  <tbody>\n",
              "    <tr>\n",
              "      <th>0</th>\n",
              "      <td>0.343458</td>\n",
              "      <td>2</td>\n",
              "      <td>94</td>\n",
              "      <td>0.731742</td>\n",
              "      <td>0.539318</td>\n",
              "      <td>1</td>\n",
              "      <td>3</td>\n",
              "      <td>0.004769</td>\n",
              "      <td>0.09</td>\n",
              "      <td>0.003067</td>\n",
              "      <td>0.000000</td>\n",
              "    </tr>\n",
              "    <tr>\n",
              "      <th>1</th>\n",
              "      <td>0.178671</td>\n",
              "      <td>2</td>\n",
              "      <td>95</td>\n",
              "      <td>0.631633</td>\n",
              "      <td>0.478445</td>\n",
              "      <td>0</td>\n",
              "      <td>2</td>\n",
              "      <td>0.101749</td>\n",
              "      <td>1.68</td>\n",
              "      <td>0.003067</td>\n",
              "      <td>0.717808</td>\n",
              "    </tr>\n",
              "    <tr>\n",
              "      <th>2</th>\n",
              "      <td>0.001595</td>\n",
              "      <td>2</td>\n",
              "      <td>209</td>\n",
              "      <td>0.558041</td>\n",
              "      <td>0.449354</td>\n",
              "      <td>0</td>\n",
              "      <td>60</td>\n",
              "      <td>0.001590</td>\n",
              "      <td>0.20</td>\n",
              "      <td>0.000000</td>\n",
              "      <td>0.000000</td>\n",
              "    </tr>\n",
              "    <tr>\n",
              "      <th>3</th>\n",
              "      <td>0.013033</td>\n",
              "      <td>1</td>\n",
              "      <td>13</td>\n",
              "      <td>0.464162</td>\n",
              "      <td>0.579361</td>\n",
              "      <td>0</td>\n",
              "      <td>4</td>\n",
              "      <td>0.379968</td>\n",
              "      <td>2.89</td>\n",
              "      <td>0.003067</td>\n",
              "      <td>0.002740</td>\n",
              "    </tr>\n",
              "    <tr>\n",
              "      <th>4</th>\n",
              "      <td>0.045468</td>\n",
              "      <td>1</td>\n",
              "      <td>13</td>\n",
              "      <td>0.458611</td>\n",
              "      <td>0.543571</td>\n",
              "      <td>1</td>\n",
              "      <td>28</td>\n",
              "      <td>0.000000</td>\n",
              "      <td>0.00</td>\n",
              "      <td>0.000000</td>\n",
              "      <td>0.000000</td>\n",
              "    </tr>\n",
              "  </tbody>\n",
              "</table>\n",
              "</div>"
            ],
            "text/plain": [
              "    host_id  neighbourhood_group  neighbourhood  latitude  longitude  \\\n",
              "0  0.343458                    2             94  0.731742   0.539318   \n",
              "1  0.178671                    2             95  0.631633   0.478445   \n",
              "2  0.001595                    2            209  0.558041   0.449354   \n",
              "3  0.013033                    1             13  0.464162   0.579361   \n",
              "4  0.045468                    1             13  0.458611   0.543571   \n",
              "\n",
              "   room_type  minimum_nights  number_of_reviews  reviews_per_month  \\\n",
              "0          1               3           0.004769               0.09   \n",
              "1          0               2           0.101749               1.68   \n",
              "2          0              60           0.001590               0.20   \n",
              "3          0               4           0.379968               2.89   \n",
              "4          1              28           0.000000               0.00   \n",
              "\n",
              "   calculated_host_listings_count  availability_365  \n",
              "0                        0.003067          0.000000  \n",
              "1                        0.003067          0.717808  \n",
              "2                        0.000000          0.000000  \n",
              "3                        0.003067          0.002740  \n",
              "4                        0.000000          0.000000  "
            ]
          },
          "execution_count": 254,
          "metadata": {},
          "output_type": "execute_result"
        }
      ],
      "source": [
        "print(train.shape, test.shape)\n",
        "train.head()"
      ]
    },
    {
      "cell_type": "markdown",
      "id": "a0b29d78",
      "metadata": {
        "id": "a0b29d78"
      },
      "source": [
        "## 머신러닝\n",
        "\n",
        "4. 검증 데이터 분리\n",
        "Train 데이터로 학습(훈련), Validation(검증용) 데이터로 예측"
      ]
    },
    {
      "cell_type": "code",
      "execution_count": null,
      "id": "894984a8",
      "metadata": {
        "id": "894984a8",
        "outputId": "ca475982-2dba-4d66-d5aa-fb73c66d6795"
      },
      "outputs": [
        {
          "data": {
            "text/plain": [
              "((31292, 11), (7824, 11), (31292,), (7824,))"
            ]
          },
          "execution_count": 255,
          "metadata": {},
          "output_type": "execute_result"
        }
      ],
      "source": [
        "# 검증 데이터 분리\n",
        "from sklearn.model_selection import train_test_split\n",
        "\n",
        "X_train, X_val, y_train, y_val = train_test_split(train, target, test_size=0.2, random_state=20)\n",
        "X_train.shape, X_val.shape, y_train.shape, y_val.shape"
      ]
    },
    {
      "cell_type": "code",
      "execution_count": null,
      "id": "96cfedf9",
      "metadata": {
        "id": "96cfedf9",
        "outputId": "3c1eb4f6-b29a-4447-976c-145bef73c929"
      },
      "outputs": [
        {
          "data": {
            "text/html": [
              "<div>\n",
              "<style scoped>\n",
              "    .dataframe tbody tr th:only-of-type {\n",
              "        vertical-align: middle;\n",
              "    }\n",
              "\n",
              "    .dataframe tbody tr th {\n",
              "        vertical-align: top;\n",
              "    }\n",
              "\n",
              "    .dataframe thead th {\n",
              "        text-align: right;\n",
              "    }\n",
              "</style>\n",
              "<table border=\"1\" class=\"dataframe\">\n",
              "  <thead>\n",
              "    <tr style=\"text-align: right;\">\n",
              "      <th></th>\n",
              "      <th>host_id</th>\n",
              "      <th>neighbourhood_group</th>\n",
              "      <th>neighbourhood</th>\n",
              "      <th>latitude</th>\n",
              "      <th>longitude</th>\n",
              "      <th>room_type</th>\n",
              "      <th>minimum_nights</th>\n",
              "      <th>number_of_reviews</th>\n",
              "      <th>reviews_per_month</th>\n",
              "      <th>calculated_host_listings_count</th>\n",
              "      <th>availability_365</th>\n",
              "    </tr>\n",
              "  </thead>\n",
              "  <tbody>\n",
              "    <tr>\n",
              "      <th>24961</th>\n",
              "      <td>0.114497</td>\n",
              "      <td>1</td>\n",
              "      <td>51</td>\n",
              "      <td>0.418640</td>\n",
              "      <td>0.573189</td>\n",
              "      <td>0</td>\n",
              "      <td>3</td>\n",
              "      <td>0.203498</td>\n",
              "      <td>3.10</td>\n",
              "      <td>0.000000</td>\n",
              "      <td>0.936986</td>\n",
              "    </tr>\n",
              "    <tr>\n",
              "      <th>38756</th>\n",
              "      <td>0.169440</td>\n",
              "      <td>1</td>\n",
              "      <td>91</td>\n",
              "      <td>0.567204</td>\n",
              "      <td>0.545340</td>\n",
              "      <td>0</td>\n",
              "      <td>1</td>\n",
              "      <td>0.020668</td>\n",
              "      <td>0.38</td>\n",
              "      <td>0.000000</td>\n",
              "      <td>0.000000</td>\n",
              "    </tr>\n",
              "    <tr>\n",
              "      <th>25925</th>\n",
              "      <td>0.110656</td>\n",
              "      <td>1</td>\n",
              "      <td>60</td>\n",
              "      <td>0.373943</td>\n",
              "      <td>0.552886</td>\n",
              "      <td>1</td>\n",
              "      <td>1</td>\n",
              "      <td>0.000000</td>\n",
              "      <td>0.00</td>\n",
              "      <td>0.000000</td>\n",
              "      <td>0.000000</td>\n",
              "    </tr>\n",
              "    <tr>\n",
              "      <th>4665</th>\n",
              "      <td>0.135820</td>\n",
              "      <td>0</td>\n",
              "      <td>147</td>\n",
              "      <td>0.909272</td>\n",
              "      <td>0.693732</td>\n",
              "      <td>1</td>\n",
              "      <td>2</td>\n",
              "      <td>0.001590</td>\n",
              "      <td>0.05</td>\n",
              "      <td>0.000000</td>\n",
              "      <td>0.000000</td>\n",
              "    </tr>\n",
              "    <tr>\n",
              "      <th>35740</th>\n",
              "      <td>0.669679</td>\n",
              "      <td>2</td>\n",
              "      <td>206</td>\n",
              "      <td>0.855605</td>\n",
              "      <td>0.593230</td>\n",
              "      <td>0</td>\n",
              "      <td>2</td>\n",
              "      <td>0.025437</td>\n",
              "      <td>1.80</td>\n",
              "      <td>0.009202</td>\n",
              "      <td>1.000000</td>\n",
              "    </tr>\n",
              "  </tbody>\n",
              "</table>\n",
              "</div>"
            ],
            "text/plain": [
              "        host_id  neighbourhood_group  neighbourhood  latitude  longitude  \\\n",
              "24961  0.114497                    1             51  0.418640   0.573189   \n",
              "38756  0.169440                    1             91  0.567204   0.545340   \n",
              "25925  0.110656                    1             60  0.373943   0.552886   \n",
              "4665   0.135820                    0            147  0.909272   0.693732   \n",
              "35740  0.669679                    2            206  0.855605   0.593230   \n",
              "\n",
              "       room_type  minimum_nights  number_of_reviews  reviews_per_month  \\\n",
              "24961          0               3           0.203498               3.10   \n",
              "38756          0               1           0.020668               0.38   \n",
              "25925          1               1           0.000000               0.00   \n",
              "4665           1               2           0.001590               0.05   \n",
              "35740          0               2           0.025437               1.80   \n",
              "\n",
              "       calculated_host_listings_count  availability_365  \n",
              "24961                        0.000000          0.936986  \n",
              "38756                        0.000000          0.000000  \n",
              "25925                        0.000000          0.000000  \n",
              "4665                         0.000000          0.000000  \n",
              "35740                        0.009202          1.000000  "
            ]
          },
          "execution_count": 256,
          "metadata": {},
          "output_type": "execute_result"
        }
      ],
      "source": [
        "X_train.head()"
      ]
    },
    {
      "cell_type": "code",
      "execution_count": null,
      "id": "b142d896",
      "metadata": {
        "id": "b142d896",
        "outputId": "723fea7e-a193-4abf-dd66-348d9c86d582"
      },
      "outputs": [
        {
          "data": {
            "text/plain": [
              "24961     98\n",
              "38756    130\n",
              "25925     20\n",
              "4665      87\n",
              "35740    120\n",
              "Name: price, dtype: int64"
            ]
          },
          "execution_count": 257,
          "metadata": {},
          "output_type": "execute_result"
        }
      ],
      "source": [
        "y_train.head()"
      ]
    },
    {
      "cell_type": "code",
      "execution_count": null,
      "id": "d2b21311",
      "metadata": {
        "id": "d2b21311",
        "outputId": "a543dfbd-8b5e-47c5-ae73-ece4cfe8310e"
      },
      "outputs": [
        {
          "data": {
            "text/plain": [
              "<AxesSubplot:>"
            ]
          },
          "execution_count": 258,
          "metadata": {},
          "output_type": "execute_result"
        },
        {
          "data": {
            "image/png": "[encoded data removed]",
            "text/plain": [
              "<Figure size 432x288 with 1 Axes>"
            ]
          },
          "metadata": {
            "needs_background": "light"
          },
          "output_type": "display_data"
        }
      ],
      "source": [
        "# 타겟확인\n",
        "y_train.hist()"
      ]
    },
    {
      "cell_type": "code",
      "execution_count": null,
      "id": "41b6f302",
      "metadata": {
        "id": "41b6f302",
        "outputId": "86d59fe4-5823-4ca7-c86b-cf2531df479d"
      },
      "outputs": [
        {
          "name": "stdout",
          "output_type": "stream",
          "text": [
            "Mean Squared Error:  67855.03982708286\n"
          ]
        }
      ],
      "source": [
        "# 머신러닝(회귀)\n",
        "# 선형 회귀\n",
        "\n",
        "from sklearn.linear_model import LinearRegression\n",
        "from sklearn.metrics import mean_squared_error\n",
        "\n",
        "model = LinearRegression()\n",
        "model.fit(X_train, y_train)\n",
        "pred = model.predict(X_val)\n",
        "mse = mean_squared_error(y_val, pred)\n",
        "print('Mean Squared Error: ', mse)"
      ]
    },
    {
      "cell_type": "code",
      "execution_count": null,
      "id": "9b5f7f8b",
      "metadata": {
        "id": "9b5f7f8b",
        "outputId": "cf3a176c-f3f1-4c35-c63b-e71947739978"
      },
      "outputs": [
        {
          "name": "stdout",
          "output_type": "stream",
          "text": [
            "Mean Squared Error:  67855.39791236594\n"
          ]
        }
      ],
      "source": [
        "# 릿지회귀\n",
        "from sklearn.linear_model import Ridge\n",
        "model = Ridge()\n",
        "model.fit(X_train, y_train)\n",
        "pred = model.predict(X_val)\n",
        "mse = mean_squared_error(y_val, pred)\n",
        "print('Mean Squared Error: ', mse)"
      ]
    },
    {
      "cell_type": "code",
      "execution_count": null,
      "id": "fa50bcea",
      "metadata": {
        "id": "fa50bcea",
        "outputId": "8b2ac95b-e444-4b1e-dd9e-55cf2f19b120"
      },
      "outputs": [
        {
          "name": "stdout",
          "output_type": "stream",
          "text": [
            "Mean Squared Error:  68128.80918089206\n"
          ]
        }
      ],
      "source": [
        "# 라쏘 회귀\n",
        "from sklearn.linear_model import Lasso\n",
        "model = Lasso(alpha=1)\n",
        "model.fit(X_train, y_train)\n",
        "pred = model.predict(X_val)\n",
        "mse = mean_squared_error(y_val, pred)\n",
        "print('Mean Squared Error: ', mse)"
      ]
    },
    {
      "cell_type": "code",
      "execution_count": null,
      "id": "88cd877f",
      "metadata": {
        "id": "88cd877f",
        "outputId": "cdca3ffd-7cf0-4980-c306-b61518d579d7"
      },
      "outputs": [
        {
          "name": "stdout",
          "output_type": "stream",
          "text": [
            "Mean Squared Error:  70491.37783367386\n"
          ]
        }
      ],
      "source": [
        "# 엘라스틱넷 회귀\n",
        "from sklearn.linear_model import ElasticNet\n",
        "model = ElasticNet(alpha=1)\n",
        "model.fit(X_train, y_train)\n",
        "pred = model.predict(X_val)\n",
        "mse = mean_squared_error(y_val, pred)\n",
        "print('Mean Squared Error: ', mse)"
      ]
    },
    {
      "cell_type": "code",
      "execution_count": null,
      "id": "1a7a6055",
      "metadata": {
        "id": "1a7a6055",
        "outputId": "725b58f4-59bd-4dd9-e25d-c106b3c3f38d"
      },
      "outputs": [
        {
          "name": "stdout",
          "output_type": "stream",
          "text": [
            "Mean Squared Error:  67285.55366627044\n"
          ]
        }
      ],
      "source": [
        "# 랜덤포레스트 회귀\n",
        "from sklearn.ensemble import RandomForestRegressor\n",
        "model = RandomForestRegressor()\n",
        "model.fit(X_train, y_train)\n",
        "pred = model.predict(X_val)\n",
        "mse = mean_squared_error(y_val, pred)\n",
        "print('Mean Squared Error: ', mse)"
      ]
    },
    {
      "cell_type": "code",
      "execution_count": null,
      "id": "0f72d8c4",
      "metadata": {
        "id": "0f72d8c4",
        "outputId": "996982b5-bc51-4c90-cc7f-15a16b56d8c0"
      },
      "outputs": [
        {
          "name": "stdout",
          "output_type": "stream",
          "text": [
            "Mean Squared Error:  65966.16934788709\n"
          ]
        }
      ],
      "source": [
        "# xgboost 회귀\n",
        "from xgboost import XGBRegressor\n",
        "model = XGBRegressor(\n",
        "    max_depth=10,\n",
        "    learning_rate=0.04,\n",
        "    n_estimators=500,\n",
        "    random_state=20\n",
        ")\n",
        "model.fit(X_train, y_train)\n",
        "pred = model.predict(X_val)\n",
        "mse = mean_squared_error(y_val, pred)\n",
        "print('Mean Squared Error: ', mse)"
      ]
    },
    {
      "cell_type": "code",
      "execution_count": null,
      "id": "b6ceac88",
      "metadata": {
        "id": "b6ceac88",
        "outputId": "3155fa5e-b0c3-450a-a789-428a4bc9a71f"
      },
      "outputs": [
        {
          "name": "stdout",
          "output_type": "stream",
          "text": [
            "Mean Squared Error:  65966.16934788709\n"
          ]
        }
      ],
      "source": [
        "# test 데이터 예측 및 평가\n",
        "y_test = pd.read_csv('/aiffel/data/y_test.csv')\n",
        "\n",
        "# Xgboost\n",
        "pred = model.predict(test)\n",
        "print('Mean Squared Error: ', mse)"
      ]
    },
    {
      "cell_type": "code",
      "execution_count": null,
      "id": "810f3689",
      "metadata": {
        "id": "810f3689"
      },
      "outputs": [],
      "source": [
        "# baseline score(mse 51xxx) 보다 점수가 낮게 나오도록 도전해 보세요!\n",
        "from sklearn.linear_model import Lasso\n",
        "\n",
        "# 릿지 회귀 모델 생성, alpha 값을 크게 설정하여\n",
        "model = Lasso(alpha=800000)\n",
        "model.fit(X_train, y_train)\n",
        "pred = model.predict(X_test)\n",
        "mse = mean_squared_error(y_test, pred)\n",
        "\n",
        "print(\"나의 점수는 (MSE\", mse, \")입니다.\")"
      ]
    },
    {
      "cell_type": "markdown",
      "source": [
        "# AIFFEL Campus Online 7th Code Peer Review Templete\n",
        "\n",
        "- 코더 : 홍채림\n",
        "\n",
        "\n",
        "\n",
        "- [v] **1. 주어진 문제를 해결하는 완성된 코드가 제출되었나요?**\n",
        "    - 문제에서 요구하는 최종 결과물이 첨부되었는지 확인\n",
        "    - 문제를 해결하는 완성된 코드란 프로젝트 루브릭 3개 중 2개,\n",
        "    퀘스트 문제 요구조건 등을 지칭\n",
        "    >>1. Baseline을 참고하여 진행하였는가?\tEDA(탐색적 데이터 분석), 데이터 전처리, 검증 데이터 분리 과정을 수행 하였는가?\n",
        "    >>2. 머신러닝 지도학습(회귀) 모델을 잘 사용하였는가?\t지도학습 회귀 모델을 3가지 이상 사용하여 MSE 결과를 확인해 보았는가?\n",
        "    >>3. Baseline score(MSE 51,xxx) 보다 좋은 성능 향상을 하였는가?\tBaseline score(MSE 51,xxx) 보다 좋은 성능을 보여준 회귀 모델은 무엇이며, MSE score는 몇 점인가?\n",
        "      >>>Baseline 을 참고하면서 프로젝트를 진행하려 애썼다.\n",
        "    \n",
        "- [v]  **2. 전체 코드에서 가장 핵심적이거나 가장 복잡하고 이해하기 어려운 부분에 작성된\n",
        "주석 또는 doc string을 보고 해당 코드가 잘 이해되었나요?**\n",
        "    - 해당 코드 블럭에 doc string/annotation이 달려 있는지 확인\n",
        "    - 해당 코드가 무슨 기능을 하는지, 왜 그렇게 짜여진건지, 작동 메커니즘이 뭔지 기술.\n",
        "    - 주석을 보고 코드 이해가 잘 되었는지 확인\n",
        "      >>> 주석을 달아서 코드가 무엇을 진행하고 있는지 알 수 있도록 해보았다.   \n",
        "        \n",
        "- [x]  **3. 에러가 난 부분을 디버깅하여 문제를 “해결한 기록을 남겼거나”\n",
        "”새로운 시도 또는 추가 실험을 수행”해봤나요?**\n",
        "    - 문제 원인 및 해결 과정을 잘 기록하였는지 확인 또는\n",
        "    - 문제에서 요구하는 조건에 더해 추가적으로 수행한 나만의 시도,\n",
        "    실험이 기록되어 있는지 확인\n",
        "      >>> 에러가 난 부분을 남겨 놓지 않았다.\n",
        "        \n",
        "- [v]  **4. 회고를 잘 작성했나요?**\n",
        "    - 주어진 문제를 해결하는 완성된 코드 내지 프로젝트 결과물에 대해\n",
        "    배운점과 아쉬운점, 느낀점 등이 상세히 기록되어 있는지 확인\n",
        "      >>> 현재 회고를 작성중이다.\n",
        "\n",
        "- [..]  **5. 코드가 간결하고 효율적인가요?**\n",
        "    - 파이썬 스타일 가이드 (PEP8) 를 준수하였는지 확인\n",
        "    - 코드 중복을 최소화하고 범용적으로 사용할 수 있도록 모듈화(함수화) 했는지\n",
        "      >>> 코드를 간결하게 쓰려고 노력했다.\n",
        "\n",
        "\n",
        "      \n",
        "---\n",
        "### 회고\n",
        "\n",
        "데이터 프레임을 다루는 것이 익숙하지 않아서 여러 EDA(전처리)하는 부분에서 아쉬웠다.\n",
        "범주형 데이터를 원핫 인코딩으로 정리를 하는 것도 좋을 것 같고, 수치형데이터를 민맥스 조절 하였디만 여전히 수치 차이가 좀 큰 것 같아서 다음에는 조금 더 세밀한 조정을 해보는 것이 좋겠다는 결론을 내렸다.\n"
      ],
      "metadata": {
        "id": "QYXd6tubUBdc"
      },
      "id": "QYXd6tubUBdc"
    },
    {
      "cell_type": "code",
      "execution_count": null,
      "id": "70ceeccf",
      "metadata": {
        "id": "70ceeccf"
      },
      "outputs": [],
      "source": []
    },
    {
      "cell_type": "code",
      "execution_count": null,
      "id": "21934907",
      "metadata": {
        "id": "21934907"
      },
      "outputs": [],
      "source": []
    },
    {
      "cell_type": "code",
      "execution_count": null,
      "id": "27ab3eb0",
      "metadata": {
        "id": "27ab3eb0"
      },
      "outputs": [],
      "source": []
    }
  ],
  "metadata": {
    "kernelspec": {
      "display_name": "Python 3 (ipykernel)",
      "language": "python",
      "name": "python3"
    },
    "language_info": {
      "codemirror_mode": {
        "name": "ipython",
        "version": 3
      },
      "file_extension": ".py",
      "mimetype": "text/x-python",
      "name": "python",
      "nbconvert_exporter": "python",
      "pygments_lexer": "ipython3",
      "version": "3.9.7"
    },
    "colab": {
      "provenance": [],
      "include_colab_link": true
    }
  },
  "nbformat": 4,
  "nbformat_minor": 5
}